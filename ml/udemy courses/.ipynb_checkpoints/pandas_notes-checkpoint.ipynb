{
 "cells": [
  {
   "cell_type": "code",
   "execution_count": 2,
   "id": "25dabc1c-8878-49eb-994b-319df372b038",
   "metadata": {},
   "outputs": [],
   "source": [
    "import pandas as pd\n",
    "import numpy as np"
   ]
  },
  {
   "cell_type": "markdown",
   "id": "a35ea2e9-f0d8-4d10-a77d-9509f113d981",
   "metadata": {},
   "source": [
    "## 1. Pandas Series"
   ]
  },
  {
   "cell_type": "code",
   "execution_count": 4,
   "id": "fcb1eb71-5447-4331-b6be-e4bd1258432e",
   "metadata": {},
   "outputs": [
    {
     "name": "stdout",
     "output_type": "stream",
     "text": [
      "0    10\n",
      "1    20\n",
      "2    30\n",
      "3    40\n",
      "dtype: int64\n"
     ]
    }
   ],
   "source": [
    "data = [10, 20, 30, 40]\n",
    "s = pd.Series(data) # creating series from list\n",
    "print(s)"
   ]
  },
  {
   "cell_type": "code",
   "execution_count": 6,
   "id": "064cad27-78e6-4811-8bfb-6bee1ca21875",
   "metadata": {},
   "outputs": [
    {
     "name": "stdout",
     "output_type": "stream",
     "text": [
      "{'a': 10, 'b': 20, 'c': 30}\n"
     ]
    }
   ],
   "source": [
    "data = {'a': 10, 'b': 20, 'c': 30} # creating series from dictionary\n",
    "print(data)"
   ]
  },
  {
   "cell_type": "code",
   "execution_count": 12,
   "id": "3e158ba7-5265-4404-9ac3-d9f0dbb72c0d",
   "metadata": {},
   "outputs": [
    {
     "name": "stdout",
     "output_type": "stream",
     "text": [
      "a    5\n",
      "b    5\n",
      "c    5\n",
      "dtype: int64\n"
     ]
    }
   ],
   "source": [
    "s = pd.Series(5, index=['a', 'b', 'c']) # from scalar values\n",
    "print(s)"
   ]
  },
  {
   "cell_type": "code",
   "execution_count": 17,
   "id": "52832e36-7f68-44f8-8b54-b4012f0c32d7",
   "metadata": {},
   "outputs": [
    {
     "name": "stdout",
     "output_type": "stream",
     "text": [
      "0    25\n",
      "1    30\n",
      "2    35\n",
      "Name: Age, dtype: int64\n"
     ]
    }
   ],
   "source": [
    "data = {'Name': ['Alice', 'Bob', 'Charlie'], 'Age': [25, 30, 35]} # using pandas dataframe\n",
    "df = pd.DataFrame(data)\n",
    "\n",
    "s = df['Age']  # Extract the 'Age' column as a Series\n",
    "print(s)"
   ]
  },
  {
   "cell_type": "code",
   "execution_count": 16,
   "id": "31fba877-cfd7-453c-80d1-f1ddf5e34920",
   "metadata": {},
   "outputs": [
    {
     "name": "stdout",
     "output_type": "stream",
     "text": [
      "0    1.1\n",
      "1    2.2\n",
      "2    3.3\n",
      "3    4.4\n",
      "dtype: float64\n"
     ]
    }
   ],
   "source": [
    "data = np.array([1.1, 2.2, 3.3, 4.4]) #creating using numpy array\n",
    "print(s)"
   ]
  },
  {
   "cell_type": "markdown",
   "id": "c9653edd-fc77-484d-a337-1ad78975275b",
   "metadata": {},
   "source": [
    "## 2. Accessing Data in a Series"
   ]
  },
  {
   "cell_type": "code",
   "execution_count": 10,
   "id": "0dc1948e-9e5c-4d01-91b4-ef8b7afb2408",
   "metadata": {},
   "outputs": [
    {
     "name": "stdout",
     "output_type": "stream",
     "text": [
      "5\n",
      "a    5\n",
      "b    5\n",
      "dtype: int64\n"
     ]
    }
   ],
   "source": [
    "print(s['a'])  # Access single value\n",
    "print(s[['a', 'b']])  # Access multiple values"
   ]
  },
  {
   "cell_type": "code",
   "execution_count": 11,
   "id": "1c3d7436-a0a4-408c-a71a-b56599786782",
   "metadata": {},
   "outputs": [
    {
     "name": "stdout",
     "output_type": "stream",
     "text": [
      "5\n",
      "a    5\n",
      "b    5\n",
      "dtype: int64\n"
     ]
    },
    {
     "name": "stderr",
     "output_type": "stream",
     "text": [
      "C:\\Users\\adabh\\AppData\\Local\\Temp\\ipykernel_2628\\4208602406.py:1: FutureWarning: Series.__getitem__ treating keys as positions is deprecated. In a future version, integer keys will always be treated as labels (consistent with DataFrame behavior). To access a value by position, use `ser.iloc[pos]`\n",
      "  print(s[0])  # First element\n"
     ]
    }
   ],
   "source": [
    "print(s[0])  # First element\n",
    "print(s[:2])  # First two elements"
   ]
  },
  {
   "cell_type": "markdown",
   "id": "45c4dad5-8b96-42d5-89e6-086d72639d5b",
   "metadata": {},
   "source": [
    "## 3. Operation on Series"
   ]
  },
  {
   "cell_type": "code",
   "execution_count": 20,
   "id": "f17673b9-9bb1-4268-ae05-377092b4f851",
   "metadata": {},
   "outputs": [
    {
     "name": "stdout",
     "output_type": "stream",
     "text": [
      "0    5\n",
      "1    7\n",
      "2    9\n",
      "dtype: int64\n",
      "0     4\n",
      "1    10\n",
      "2    18\n",
      "dtype: int64\n",
      "0    0.25\n",
      "1    0.40\n",
      "2    0.50\n",
      "dtype: float64\n"
     ]
    }
   ],
   "source": [
    "# Arithmetic Oprations\n",
    "s1 = pd.Series([1, 2, 3])\n",
    "s2 = pd.Series([4, 5, 6])\n",
    "print(s1 + s2)  # Element-wise addition\n",
    "print(s1*s2) # Element-wise multiplication\n",
    "print(s1/s2) # Element-wise divisio"
   ]
  },
  {
   "cell_type": "code",
   "execution_count": 21,
   "id": "19695001-0805-4f0b-bd1a-c13cee1ac928",
   "metadata": {},
   "outputs": [
    {
     "name": "stdout",
     "output_type": "stream",
     "text": [
      "0    False\n",
      "1    False\n",
      "2     True\n",
      "dtype: bool\n",
      "0    False\n",
      "1     True\n",
      "2    False\n",
      "dtype: bool\n"
     ]
    }
   ],
   "source": [
    "# comparisions with series\n",
    "s1 = pd.Series([10, 20, 30])\n",
    "s2 = pd.Series([15, 20, 25])\n",
    "\n",
    "# Element-wise comparisons\n",
    "print(s1 > s2)  # Greater than comparison\n",
    "print(s1 == s2)  # Equality comparison"
   ]
  },
  {
   "cell_type": "code",
   "execution_count": 22,
   "id": "3d320bb6-f79c-4569-8891-dbdd74b7ff5a",
   "metadata": {},
   "outputs": [
    {
     "name": "stdout",
     "output_type": "stream",
     "text": [
      "0    False\n",
      "1    False\n",
      "2     True\n",
      "3     True\n",
      "dtype: bool\n",
      "0    False\n",
      "1    False\n",
      "2     True\n",
      "3    False\n",
      "dtype: bool\n"
     ]
    }
   ],
   "source": [
    "s = pd.Series([5, 10, 15, 20])\n",
    "\n",
    "# Comparison with scalar\n",
    "print(s > 10)  # Elements greater than 10\n",
    "print(s == 15)  # Elements equal to 15"
   ]
  },
  {
   "cell_type": "code",
   "execution_count": 23,
   "id": "3fc0c8a7-5049-4000-bdc3-a731df8817cc",
   "metadata": {},
   "outputs": [
    {
     "name": "stdout",
     "output_type": "stream",
     "text": [
      "0    False\n",
      "1     True\n",
      "2     True\n",
      "3    False\n",
      "dtype: bool\n",
      "0     True\n",
      "1    False\n",
      "2    False\n",
      "3     True\n",
      "dtype: bool\n"
     ]
    }
   ],
   "source": [
    "# Logical AND (&) and OR (|)\n",
    "print((s > 5) & (s < 20))  # Between 5 and 20\n",
    "print((s < 10) | (s > 15))  # Less than 10 or greater than 15"
   ]
  },
  {
   "cell_type": "markdown",
   "id": "3708be86-9438-4a24-9678-336d66ae3672",
   "metadata": {},
   "source": [
    "## 4.Aggregations with series"
   ]
  },
  {
   "cell_type": "code",
   "execution_count": 24,
   "id": "a09d1d92-4e07-437f-96e7-ef0d91bd50e8",
   "metadata": {},
   "outputs": [
    {
     "name": "stdout",
     "output_type": "stream",
     "text": [
      "Sum: 150.0\n",
      "Mean: 30.0\n",
      "Max: 50.0\n",
      "Min: 10.0\n",
      "Count: 5\n",
      "Median: 30.0\n",
      "Standard Deviation: 15.811388300841896\n",
      "Variance: 250.0\n",
      "\n",
      "Descriptive Statistics:\n",
      "count     5.000000\n",
      "mean     30.000000\n",
      "std      15.811388\n",
      "min      10.000000\n",
      "25%      20.000000\n",
      "50%      30.000000\n",
      "75%      40.000000\n",
      "max      50.000000\n",
      "dtype: float64\n",
      "\n",
      "Multiple Aggregations using agg():\n",
      "sum     150.0\n",
      "mean     30.0\n",
      "max      50.0\n",
      "min      10.0\n",
      "dtype: float64\n",
      "\n",
      "Custom Aggregation - Range of Values:\n",
      "40.0\n",
      "\n",
      "Filtered Aggregation - Sum of Elements > 20:\n",
      "120.0\n"
     ]
    }
   ],
   "source": [
    "# aggregation with series\n",
    "# Sample Series\n",
    "data = pd.Series([10, 20, 30, 40, 50, None])\n",
    "\n",
    "# Basic Aggregations\n",
    "print(\"Sum:\", data.sum())               # Sum of all elements\n",
    "print(\"Mean:\", data.mean())             # Mean of the elements\n",
    "print(\"Max:\", data.max())               # Maximum value\n",
    "print(\"Min:\", data.min())               # Minimum value\n",
    "print(\"Count:\", data.count())           # Count of non-null elements\n",
    "print(\"Median:\", data.median())         # Median value\n",
    "print(\"Standard Deviation:\", data.std())  # Standard deviation\n",
    "print(\"Variance:\", data.var())          # Variance of elements\n",
    "\n",
    "# Descriptive Statistics\n",
    "print(\"\\nDescriptive Statistics:\")\n",
    "print(data.describe())\n",
    "\n",
    "# Aggregation with agg() - Multiple Aggregations\n",
    "print(\"\\nMultiple Aggregations using agg():\")\n",
    "print(data.agg(['sum', 'mean', 'max', 'min']))\n",
    "\n",
    "# Custom Aggregation Function\n",
    "custom_function = lambda x: x.max() - x.min()  # Range of values\n",
    "print(\"\\nCustom Aggregation - Range of Values:\")\n",
    "print(data.agg(custom_function))\n",
    "\n",
    "# Filtered Aggregation\n",
    "filtered_sum = data[data > 20].sum()\n",
    "print(\"\\nFiltered Aggregation - Sum of Elements > 20:\")\n",
    "print(filtered_sum)"
   ]
  },
  {
   "cell_type": "markdown",
   "id": "aa8f7796-5a6c-43d6-b38c-a8e8cb30ee5a",
   "metadata": {},
   "source": [
    "## 5. Filtering with Series"
   ]
  },
  {
   "cell_type": "code",
   "execution_count": 25,
   "id": "cb483a90-6ad6-4c82-9e36-a894c00980e6",
   "metadata": {},
   "outputs": [
    {
     "name": "stdout",
     "output_type": "stream",
     "text": [
      "1. Basic Filtering (data > 25):\n",
      "2    30\n",
      "3    40\n",
      "4    50\n",
      "5    70\n",
      "dtype: int64\n",
      "\n",
      "2. Filtering with Multiple Conditions ((data > 20) & (data < 50)):\n",
      "2    30\n",
      "3    40\n",
      "dtype: int64\n",
      "\n",
      "Filtering with OR Condition ((data < 20) | (data > 40)):\n",
      "0    10\n",
      "4    50\n",
      "5    70\n",
      "dtype: int64\n",
      "\n",
      "3. Filtering with .isin() ([20, 40, 60]):\n",
      "1    20\n",
      "3    40\n",
      "dtype: int64\n",
      "\n",
      "4. Filtering Non-Null Values:\n",
      "0    10\n",
      "1    20\n",
      "2    30\n",
      "3    40\n",
      "4    50\n",
      "5    70\n",
      "dtype: int64\n",
      "\n",
      "Filtering Null Values:\n",
      "Series([], dtype: int64)\n",
      "\n",
      "5. Filtering and Modifying Data (Increment values > 30 by 10):\n",
      "0    10\n",
      "1    20\n",
      "2    30\n",
      "3    50\n",
      "4    60\n",
      "5    80\n",
      "dtype: int64\n"
     ]
    }
   ],
   "source": [
    "data = pd.Series([10, 20, 30, 40, 50, 70])\n",
    "\n",
    "# 1. Basic Filtering: Elements greater than 25\n",
    "print(\"1. Basic Filtering (data > 25):\")\n",
    "filtered_basic = data[data > 25]\n",
    "print(filtered_basic)\n",
    "\n",
    "# 2. Filtering with Multiple Conditions\n",
    "print(\"\\n2. Filtering with Multiple Conditions ((data > 20) & (data < 50)):\")\n",
    "filtered_multiple = data[(data > 20) & (data < 50)]\n",
    "print(filtered_multiple)\n",
    "\n",
    "print(\"\\nFiltering with OR Condition ((data < 20) | (data > 40)):\")\n",
    "filtered_or = data[(data < 20) | (data > 40)]\n",
    "print(filtered_or)\n",
    "\n",
    "# 3. Filtering with .isin()\n",
    "print(\"\\n3. Filtering with .isin() ([20, 40, 60]):\")\n",
    "filtered_isin = data[data.isin([20, 40, 60])]\n",
    "print(filtered_isin)\n",
    "\n",
    "# 4. Filtering Null/Non-Null Values\n",
    "print(\"\\n4. Filtering Non-Null Values:\")\n",
    "filtered_non_null = data[data.notnull()]\n",
    "print(filtered_non_null)\n",
    "\n",
    "print(\"\\nFiltering Null Values:\")\n",
    "filtered_null = data[data.isnull()]\n",
    "print(filtered_null)\n",
    "\n",
    "# 5. Filtering and Modifying Data\n",
    "print(\"\\n5. Filtering and Modifying Data (Increment values > 30 by 10):\")\n",
    "modified_data = data.copy()\n",
    "modified_data[modified_data > 30] += 10\n",
    "print(modified_data)"
   ]
  },
  {
   "cell_type": "markdown",
   "id": "9a018643-98e6-4b49-b77e-16fdb8d3049c",
   "metadata": {},
   "source": [
    "## 6. Common attributes in series"
   ]
  },
  {
   "cell_type": "code",
   "execution_count": 26,
   "id": "24e3e638-427d-4d7a-822f-2d251e4df724",
   "metadata": {},
   "outputs": [
    {
     "name": "stdout",
     "output_type": "stream",
     "text": [
      "1. Head (First 3 elements):\n",
      "0    10\n",
      "1    20\n",
      "2    30\n",
      "dtype: int64\n",
      "\n",
      "2. Tail (Last 3 elements):\n",
      "2    30\n",
      "3    40\n",
      "4    50\n",
      "dtype: int64\n",
      "\n",
      "3. Info (Series information):\n",
      "<class 'pandas.core.series.Series'>\n",
      "RangeIndex: 5 entries, 0 to 4\n",
      "Series name: None\n",
      "Non-Null Count  Dtype\n",
      "--------------  -----\n",
      "5 non-null      int64\n",
      "dtypes: int64(1)\n",
      "memory usage: 172.0 bytes\n",
      "None\n",
      "\n",
      "4. Sort Values (Ascending):\n",
      "0    10\n",
      "1    20\n",
      "2    30\n",
      "3    40\n",
      "4    50\n",
      "dtype: int64\n",
      "\n",
      "5. Describe (Descriptive Statistics):\n",
      "count     5.000000\n",
      "mean     30.000000\n",
      "std      15.811388\n",
      "min      10.000000\n",
      "25%      20.000000\n",
      "50%      30.000000\n",
      "75%      40.000000\n",
      "max      50.000000\n",
      "dtype: float64\n",
      "\n",
      "6. Apply Method (Square each element):\n",
      "0     100\n",
      "1     400\n",
      "2     900\n",
      "3    1600\n",
      "4    2500\n",
      "dtype: int64\n",
      "\n",
      "7. Concat Method (Concatenate two Series):\n",
      "0    10\n",
      "1    20\n",
      "2    30\n",
      "3    40\n",
      "4    50\n",
      "5    60\n",
      "6    70\n",
      "7    80\n",
      "dtype: int64\n"
     ]
    }
   ],
   "source": [
    "s = pd.Series([10, 20, 30, 40, 50])\n",
    "\n",
    "# 1. .head() - First 3 elements\n",
    "print(\"1. Head (First 3 elements):\")\n",
    "print(s.head(3))\n",
    "\n",
    "# 2. .tail() - Last 3 elements\n",
    "print(\"\\n2. Tail (Last 3 elements):\")\n",
    "print(s.tail(3))\n",
    "\n",
    "# 3. .info() - Information about the Series (type, non-null counts)\n",
    "print(\"\\n3. Info (Series information):\")\n",
    "print(s.info())\n",
    "\n",
    "# 4. .sort_values() - Sort the Series in ascending order\n",
    "print(\"\\n4. Sort Values (Ascending):\")\n",
    "print(s.sort_values())\n",
    "\n",
    "# 5. .describe() - Descriptive statistics\n",
    "print(\"\\n5. Describe (Descriptive Statistics):\")\n",
    "print(s.describe())\n",
    "\n",
    "# 6. .apply() - Apply a custom function to the Series (Square each element)\n",
    "print(\"\\n6. Apply Method (Square each element):\")\n",
    "print(s.apply(lambda x: x ** 2))\n",
    "\n",
    "# 7. .concat() - Concatenate two Series\n",
    "print(\"\\n7. Concat Method (Concatenate two Series):\")\n",
    "s2 = pd.Series([60, 70, 80])\n",
    "concatenated = pd.concat([s, s2], ignore_index=True)\n",
    "print(concatenated)"
   ]
  },
  {
   "cell_type": "markdown",
   "id": "092da907-af73-490e-93c4-cf988dd53d0e",
   "metadata": {},
   "source": [
    "## 7. Methods to create Dataframe"
   ]
  },
  {
   "cell_type": "code",
   "execution_count": 29,
   "id": "d61a44d4-2227-490a-98f0-e11963b0c066",
   "metadata": {},
   "outputs": [
    {
     "name": "stdout",
     "output_type": "stream",
     "text": [
      "DataFrame from Dictionary:\n",
      "      Name  Age         City\n",
      "0    Alice   25     New York\n",
      "1      Bob   30  Los Angeles\n",
      "2  Charlie   35      Chicago\n"
     ]
    }
   ],
   "source": [
    "# from dictionary\n",
    "data_dict = {\n",
    "    'Name': ['Alice', 'Bob', 'Charlie'],\n",
    "    'Age': [25, 30, 35],\n",
    "    'City': ['New York', 'Los Angeles', 'Chicago']\n",
    "}\n",
    "\n",
    "# Create DataFrame\n",
    "df_dict = pd.DataFrame(data_dict)\n",
    "\n",
    "# Display the DataFrame\n",
    "print(\"DataFrame from Dictionary:\")\n",
    "print(df_dict)"
   ]
  },
  {
   "cell_type": "code",
   "execution_count": 31,
   "id": "4d8cec50-235a-4b61-bf0e-e05bfb3d2601",
   "metadata": {},
   "outputs": [
    {
     "name": "stdout",
     "output_type": "stream",
     "text": [
      "DataFrame from List of Lists:\n",
      "      Name  Age         City\n",
      "0    Alice   25     New York\n",
      "1      Bob   30  Los Angeles\n",
      "2  Charlie   35      Chicago\n"
     ]
    }
   ],
   "source": [
    "# Data from a list of lists\n",
    "data_list = [\n",
    "    ['Alice', 25, 'New York'], \n",
    "    ['Bob', 30, 'Los Angeles'], \n",
    "    ['Charlie', 35, 'Chicago']\n",
    "]\n",
    "\n",
    "# Create DataFrame with column names\n",
    "df_list = pd.DataFrame(data_list, columns=['Name', 'Age', 'City'])\n",
    "\n",
    "# Display the DataFrame\n",
    "print(\"DataFrame from List of Lists:\")\n",
    "print(df_list)"
   ]
  },
  {
   "cell_type": "code",
   "execution_count": 32,
   "id": "d4ca832b-b488-41e8-8820-4119488d7634",
   "metadata": {},
   "outputs": [
    {
     "name": "stdout",
     "output_type": "stream",
     "text": [
      "DataFrame from List of Dictionaries:\n",
      "      Name  Age         City\n",
      "0    Alice   25     New York\n",
      "1      Bob   30  Los Angeles\n",
      "2  Charlie   35      Chicago\n"
     ]
    }
   ],
   "source": [
    "data_list_dict = [{'Name': 'Alice', 'Age': 25, 'City': 'New York'}, \n",
    "                  {'Name': 'Bob', 'Age': 30, 'City': 'Los Angeles'}, \n",
    "                  {'Name': 'Charlie', 'Age': 35, 'City': 'Chicago'}]\n",
    "\n",
    "# Create DataFrame\n",
    "df_list_dict = pd.DataFrame(data_list_dict)\n",
    "\n",
    "# Display the DataFrame\n",
    "print(\"DataFrame from List of Dictionaries:\")\n",
    "print(df_list_dict)"
   ]
  },
  {
   "cell_type": "code",
   "execution_count": 33,
   "id": "125c6c0d-958b-43de-a6c0-d10ee0d56096",
   "metadata": {},
   "outputs": [
    {
     "name": "stdout",
     "output_type": "stream",
     "text": [
      "4. DataFrame from NumPy Array:\n",
      "      Name Age         City\n",
      "0    Alice  25     New York\n",
      "1      Bob  30  Los Angeles\n",
      "2  Charlie  35      Chicago\n"
     ]
    }
   ],
   "source": [
    "data_array = np.array([['Alice', 25, 'New York'], ['Bob', 30, 'Los Angeles'], ['Charlie', 35, 'Chicago']])\n",
    "\n",
    "# Create DataFrame with column names\n",
    "df_array = pd.DataFrame(data_array, columns=['Name', 'Age', 'City'])\n",
    "\n",
    "# Display the DataFrame\n",
    "print(\"DataFrame from NumPy Array:\")\n",
    "print(df_array)"
   ]
  },
  {
   "cell_type": "code",
   "execution_count": 34,
   "id": "c353f2d5-2116-447f-b805-59592ca27feb",
   "metadata": {},
   "outputs": [],
   "source": [
    "# from csv file \n",
    "# df_csv = pd.read_csv('your_file.csv')\n",
    "# print(df_csv)"
   ]
  },
  {
   "cell_type": "code",
   "execution_count": 35,
   "id": "bbec312b-14c1-4fca-81cb-10f78fc999ad",
   "metadata": {},
   "outputs": [
    {
     "name": "stdout",
     "output_type": "stream",
     "text": [
      "6. DataFrame with Custom Index:\n",
      "      Name  Age\n",
      "A    Alice   25\n",
      "B      Bob   30\n",
      "C  Charlie   35\n"
     ]
    }
   ],
   "source": [
    "# Data from a dictionary\n",
    "data_index = {'Name': ['Alice', 'Bob', 'Charlie'], 'Age': [25, 30, 35]}\n",
    "\n",
    "# Create DataFrame with custom index labels\n",
    "df_index = pd.DataFrame(data_index, index=['A', 'B', 'C'])\n",
    "\n",
    "# Display the DataFrame\n",
    "print(\" DataFrame with Custom Index:\")\n",
    "print(df_index)"
   ]
  },
  {
   "cell_type": "markdown",
   "id": "c666b216-0d2a-4062-b059-a081440ca783",
   "metadata": {},
   "source": [
    "## 8. Operations on Pandas Dataframe"
   ]
  },
  {
   "cell_type": "code",
   "execution_count": 56,
   "id": "d4611cae-90c9-41a7-9f99-faf8bdc6b233",
   "metadata": {},
   "outputs": [
    {
     "name": "stdout",
     "output_type": "stream",
     "text": [
      "1. Select a column (Name):\n",
      "0      Alice\n",
      "1        Bob\n",
      "2    Charlie\n",
      "Name: Name, dtype: object\n",
      "\n",
      "Select multiple columns (Name, Age):\n",
      "      Name  Age\n",
      "0    Alice   25\n",
      "1      Bob   30\n",
      "2  Charlie   35\n"
     ]
    }
   ],
   "source": [
    "df = pd.DataFrame({\n",
    "    'Name': ['Alice', 'Bob', 'Charlie'],\n",
    "    'Age': [25, 30, 35],\n",
    "    'City': ['New York', 'Los Angeles', 'Chicago']\n",
    "})\n",
    "\n",
    "# Select a single column (returns a Series)\n",
    "name_column = df['Name']\n",
    "print(\"1. Select a column (Name):\")\n",
    "print(name_column)\n",
    "\n",
    "# Select multiple columns (returns a DataFrame)\n",
    "selected_columns = df[['Name', 'Age']]\n",
    "print(\"\\nSelect multiple columns (Name, Age):\")\n",
    "print(selected_columns)"
   ]
  },
  {
   "cell_type": "code",
   "execution_count": 57,
   "id": "1f72b90b-5e4a-4e3c-a23e-fe6d21000538",
   "metadata": {},
   "outputs": [
    {
     "name": "stdout",
     "output_type": "stream",
     "text": [
      "\n",
      "3. Add a new column 'Salary':\n",
      "      Name  Age         City  Salary\n",
      "0    Alice   25     New York   50000\n",
      "1      Bob   30  Los Angeles   60000\n",
      "2  Charlie   35      Chicago   70000\n",
      "\n",
      "Modify existing column 'Age':\n",
      "      Name  Age         City  Salary\n",
      "0    Alice   26     New York   50000\n",
      "1      Bob   31  Los Angeles   60000\n",
      "2  Charlie   36      Chicago   70000\n"
     ]
    }
   ],
   "source": [
    "# Add a new column 'Salary'\n",
    "df['Salary'] = [50000, 60000, 70000]\n",
    "print(\"\\n3. Add a new column 'Salary':\")\n",
    "print(df)\n",
    "\n",
    "# Modify an existing column ('Age')\n",
    "df['Age'] = df['Age'] + 1  # Increase age by 1\n",
    "print(\"\\nModify existing column 'Age':\")\n",
    "print(df)"
   ]
  },
  {
   "cell_type": "code",
   "execution_count": 38,
   "id": "d953a134-fb24-475c-9bee-0988c3071880",
   "metadata": {},
   "outputs": [
    {
     "name": "stdout",
     "output_type": "stream",
     "text": [
      "\n",
      "4. Drop a column ('Salary'):\n",
      "      Name  Age\n",
      "0    Alice   27\n",
      "1      Bob   32\n",
      "2  Charlie   37\n",
      "\n",
      "Drop a row (index 1):\n",
      "      Name  Age\n",
      "0    Alice   27\n",
      "2  Charlie   37\n"
     ]
    }
   ],
   "source": [
    "# Drop a column ('City')\n",
    "df = df.drop('Salary', axis=1)\n",
    "print(\"\\n Drop a column ('Salary'):\")\n",
    "print(df)\n",
    "\n",
    "# Drop a row (index 1)\n",
    "df = df.drop(1, axis=0)\n",
    "print(\"\\nDrop a row (index 1):\")\n",
    "print(df)"
   ]
  },
  {
   "cell_type": "code",
   "execution_count": 53,
   "id": "3ef3a385-b3db-46cd-bb67-7b399213ae44",
   "metadata": {},
   "outputs": [
    {
     "name": "stdout",
     "output_type": "stream",
     "text": [
      "\n",
      " Rename columns:\n",
      "  Full Name  Years  Age Doubled\n",
      "0     Alice     27           54\n",
      "2   Charlie     37           74\n"
     ]
    }
   ],
   "source": [
    "# Rename columns\n",
    "df = df.rename(columns={'Name': 'Full Name', 'Age': 'Years'})\n",
    "print(\"\\n Rename columns:\")\n",
    "print(df)"
   ]
  },
  {
   "cell_type": "code",
   "execution_count": 52,
   "id": "d6f0cd96-1f2c-43d1-b8d8-5425779548cc",
   "metadata": {},
   "outputs": [
    {
     "name": "stdout",
     "output_type": "stream",
     "text": [
      "\n",
      " Sort Data by 'Years' (Age):\n",
      "  Full Name  Years  Age Doubled\n",
      "0     Alice     27           54\n",
      "2   Charlie     37           74\n"
     ]
    }
   ],
   "source": [
    "# Sort by 'Years' (Age) in ascending order\n",
    "df_sorted = df.sort_values(by='Years', ascending=True)\n",
    "print(\"\\n Sort Data by 'Years' (Age):\")\n",
    "print(df_sorted)"
   ]
  },
  {
   "cell_type": "code",
   "execution_count": 51,
   "id": "32d529b2-862e-4e4d-b79e-84ab6351a92b",
   "metadata": {},
   "outputs": [
    {
     "name": "stdout",
     "output_type": "stream",
     "text": [
      "\n",
      " Sort Data by 'Years' (Age):\n",
      "  Full Name  Years  Age Doubled\n",
      "2   Charlie     37           74\n",
      "0     Alice     27           54\n"
     ]
    }
   ],
   "source": [
    "# Sort by 'Years' (Age) in ascending order\n",
    "df_sorted = df.sort_values(by='Years', ascending=False)\n",
    "print(\"\\n Sort Data by 'Years' (Age):\")\n",
    "print(df_sorted)"
   ]
  },
  {
   "cell_type": "code",
   "execution_count": 50,
   "id": "27f79e3e-2b4f-4042-82c5-3af27cc4386d",
   "metadata": {},
   "outputs": [
    {
     "name": "stdout",
     "output_type": "stream",
     "text": [
      "\n",
      " Mean of 'Years' (Age):\n",
      "32.0\n",
      "\n",
      "Summary statistics of DataFrame:\n",
      "           Years  Age Doubled\n",
      "count   2.000000     2.000000\n",
      "mean   32.000000    64.000000\n",
      "std     7.071068    14.142136\n",
      "min    27.000000    54.000000\n",
      "25%    29.500000    59.000000\n",
      "50%    32.000000    64.000000\n",
      "75%    34.500000    69.000000\n",
      "max    37.000000    74.000000\n"
     ]
    }
   ],
   "source": [
    "# Get the mean of the 'Years' (Age) column\n",
    "mean_age = df['Years'].mean()\n",
    "print(\"\\n Mean of 'Years' (Age):\")\n",
    "print(mean_age)\n",
    "\n",
    "# Get a summary of statistics for numerical columns\n",
    "summary_stats = df.describe()\n",
    "print(\"\\nSummary statistics of DataFrame:\")\n",
    "print(summary_stats)"
   ]
  },
  {
   "cell_type": "code",
   "execution_count": 49,
   "id": "4910569e-bb02-482b-a46b-1bfe5a430a62",
   "metadata": {},
   "outputs": [
    {
     "name": "stdout",
     "output_type": "stream",
     "text": [
      "\n",
      " Merge DataFrames based on 'Name':\n",
      "  Full Name  Years  Age Doubled Country\n",
      "0     Alice     27           54     USA\n",
      "1   Charlie     37           74     USA\n"
     ]
    }
   ],
   "source": [
    "df2 = pd.DataFrame({\n",
    "    'Full Name': ['Alice', 'Bob', 'Charlie'],\n",
    "    'Country': ['USA', 'USA', 'USA']\n",
    "})\n",
    "\n",
    "# Merge the two DataFrames based on 'Name'\n",
    "merged_df = pd.merge(df, df2, on='Full Name', how='inner')\n",
    "print(\"\\n Merge DataFrames based on 'Name':\")\n",
    "print(merged_df)"
   ]
  },
  {
   "cell_type": "code",
   "execution_count": 47,
   "id": "7a1a5c2a-5ec4-4ca4-89b9-721f62256d81",
   "metadata": {},
   "outputs": [
    {
     "name": "stdout",
     "output_type": "stream",
     "text": [
      "\n",
      " Apply function to 'Years' (Age):\n",
      "  Full Name  Years  Age Doubled\n",
      "0     Alice     27           54\n",
      "2   Charlie     37           74\n"
     ]
    }
   ],
   "source": [
    "# Apply a function to double the 'Age' values\n",
    "df['Age Doubled'] = df['Years'].apply(lambda x: x * 2)\n",
    "print(\"\\n Apply function to 'Years' (Age):\")\n",
    "print(df)"
   ]
  },
  {
   "cell_type": "code",
   "execution_count": 58,
   "id": "0c395d58-d7f7-45ad-a414-fb2a2bd2a5bf",
   "metadata": {},
   "outputs": [
    {
     "name": "stdout",
     "output_type": "stream",
     "text": [
      "\n",
      "12. Create Pivot Table:\n",
      "              Salary\n",
      "City                \n",
      "Chicago      70000.0\n",
      "Los Angeles  60000.0\n",
      "New York     50000.0\n"
     ]
    }
   ],
   "source": [
    "# Create a pivot table with 'City' as index and 'Salary' as values\n",
    "pivot_table = df.pivot_table(values='Salary', index='City', aggfunc='mean')\n",
    "print(\"\\n12. Create Pivot Table:\")\n",
    "print(pivot_table)"
   ]
  },
  {
   "cell_type": "code",
   "execution_count": 60,
   "id": "d28c6853-0227-43dd-91ac-6fffd29c79ac",
   "metadata": {},
   "outputs": [
    {
     "name": "stdout",
     "output_type": "stream",
     "text": [
      "\n",
      " Group by 'City' and get mean 'Salary':\n",
      "City\n",
      "Chicago        70000.0\n",
      "Los Angeles    60000.0\n",
      "New York       50000.0\n",
      "Name: Salary, dtype: float64\n"
     ]
    }
   ],
   "source": [
    "grouped = df.groupby('City')['Salary'].mean()  # Assuming a 'City' column\n",
    "print(\"\\n Group by 'City' and get mean 'Salary':\")\n",
    "print(grouped)"
   ]
  },
  {
   "cell_type": "code",
   "execution_count": 61,
   "id": "ee3edcaa-cd78-4dc1-9e9a-563e235726c1",
   "metadata": {},
   "outputs": [
    {
     "name": "stdout",
     "output_type": "stream",
     "text": [
      "\n",
      "14. Transpose DataFrame:\n",
      "               0            1        2\n",
      "Name       Alice          Bob  Charlie\n",
      "Age           26           31       36\n",
      "City    New York  Los Angeles  Chicago\n",
      "Salary     50000        60000    70000\n"
     ]
    }
   ],
   "source": [
    "# Transpose the DataFrame\n",
    "df_transposed = df.transpose()\n",
    "print(\"\\n14. Transpose DataFrame:\")\n",
    "print(df_transposed)"
   ]
  },
  {
   "cell_type": "code",
   "execution_count": 62,
   "id": "e61b1079-2839-4610-9828-9a45b136e487",
   "metadata": {},
   "outputs": [
    {
     "name": "stdout",
     "output_type": "stream",
     "text": [
      "\n",
      "15. Set 'Name' as index:\n",
      "         Age         City  Salary\n",
      "Name                             \n",
      "Alice     26     New York   50000\n",
      "Bob       31  Los Angeles   60000\n",
      "Charlie   36      Chicago   70000\n",
      "\n",
      "Reset index:\n",
      "      Name  Age         City  Salary\n",
      "0    Alice   26     New York   50000\n",
      "1      Bob   31  Los Angeles   60000\n",
      "2  Charlie   36      Chicago   70000\n"
     ]
    }
   ],
   "source": [
    "# Set 'Name' column as the index\n",
    "df_with_index = df.set_index('Name')\n",
    "print(\"\\n15. Set 'Name' as index:\")\n",
    "print(df_with_index)\n",
    "\n",
    "# Reset index back to default\n",
    "df_reset = df_with_index.reset_index()\n",
    "print(\"\\nReset index:\")\n",
    "print(df_reset)"
   ]
  },
  {
   "cell_type": "markdown",
   "id": "1fdb9e12-6994-4c84-b30b-bb2432188cc8",
   "metadata": {},
   "source": [
    "## 9. Join Method"
   ]
  },
  {
   "cell_type": "code",
   "execution_count": 63,
   "id": "756fa2a3-8085-46bd-b69f-a87ce58a3862",
   "metadata": {},
   "outputs": [
    {
     "name": "stdout",
     "output_type": "stream",
     "text": [
      "1. Join DataFrames:\n",
      "      Name  Age         City\n",
      "A    Alice   25     New York\n",
      "B      Bob   30  Los Angeles\n",
      "C  Charlie   35      Chicago\n"
     ]
    }
   ],
   "source": [
    "# DataFrames to join\n",
    "df1 = pd.DataFrame({\n",
    "    'Name': ['Alice', 'Bob', 'Charlie'],\n",
    "    'Age': [25, 30, 35]\n",
    "}, index=['A', 'B', 'C'])\n",
    "\n",
    "df2 = pd.DataFrame({\n",
    "    'City': ['New York', 'Los Angeles', 'Chicago']\n",
    "}, index=['A', 'B', 'C'])\n",
    "\n",
    "# Join df1 and df2 on index\n",
    "df_joined = df1.join(df2)\n",
    "\n",
    "print(\"1. Join DataFrames:\")\n",
    "print(df_joined)"
   ]
  },
  {
   "cell_type": "markdown",
   "id": "66872262-97c3-4228-82de-f9862fca62c0",
   "metadata": {},
   "source": [
    "## 10. Merge method"
   ]
  },
  {
   "cell_type": "code",
   "execution_count": 64,
   "id": "05d6f6e4-d045-4064-af8e-02160da1ade1",
   "metadata": {},
   "outputs": [
    {
     "name": "stdout",
     "output_type": "stream",
     "text": [
      "\n",
      "2. Merge DataFrames:\n",
      "    Name  Age         City\n",
      "0  Alice   25     New York\n",
      "1    Bob   30  Los Angeles\n"
     ]
    }
   ],
   "source": [
    "# DataFrames to merge\n",
    "df1 = pd.DataFrame({\n",
    "    'Name': ['Alice', 'Bob', 'Charlie'],\n",
    "    'Age': [25, 30, 35]\n",
    "})\n",
    "\n",
    "df2 = pd.DataFrame({\n",
    "    'Name': ['Alice', 'Bob', 'David'],\n",
    "    'City': ['New York', 'Los Angeles', 'Chicago']\n",
    "})\n",
    "\n",
    "# Merge df1 and df2 on 'Name' column\n",
    "df_merged = pd.merge(df1, df2, on='Name', how='inner')\n",
    "\n",
    "print(\"\\n2. Merge DataFrames:\")\n",
    "print(df_merged)"
   ]
  },
  {
   "cell_type": "markdown",
   "id": "edea1cf9-4c74-4d69-9de7-cab1ff350e55",
   "metadata": {},
   "source": [
    "## 11. Dropna method"
   ]
  },
  {
   "cell_type": "code",
   "execution_count": 65,
   "id": "554747b2-0b26-4345-ae43-3470d7c4119f",
   "metadata": {},
   "outputs": [
    {
     "name": "stdout",
     "output_type": "stream",
     "text": [
      "\n",
      "3. Drop rows with NaN values:\n",
      "      Name   Age      City\n",
      "0    Alice  25.0  New York\n",
      "2  Charlie  35.0   Chicago\n"
     ]
    }
   ],
   "source": [
    "# DataFrame with missing values\n",
    "df = pd.DataFrame({\n",
    "    'Name': ['Alice', 'Bob', 'Charlie', np.nan],\n",
    "    'Age': [25, np.nan, 35, 40],\n",
    "    'City': ['New York', np.nan, 'Chicago', 'Los Angeles']\n",
    "})\n",
    "\n",
    "# Drop rows with any NaN values\n",
    "df_dropped = df.dropna()\n",
    "\n",
    "print(\"\\n3. Drop rows with NaN values:\")\n",
    "print(df_dropped)"
   ]
  },
  {
   "cell_type": "markdown",
   "id": "15562717-e670-471e-8cd2-ad3a69486e6f",
   "metadata": {},
   "source": [
    "## 12. Fillna method"
   ]
  },
  {
   "cell_type": "code",
   "execution_count": 67,
   "id": "695b66d2-7a53-4cf3-a757-229553c6b657",
   "metadata": {},
   "outputs": [
    {
     "data": {
      "text/html": [
       "<div>\n",
       "<style scoped>\n",
       "    .dataframe tbody tr th:only-of-type {\n",
       "        vertical-align: middle;\n",
       "    }\n",
       "\n",
       "    .dataframe tbody tr th {\n",
       "        vertical-align: top;\n",
       "    }\n",
       "\n",
       "    .dataframe thead th {\n",
       "        text-align: right;\n",
       "    }\n",
       "</style>\n",
       "<table border=\"1\" class=\"dataframe\">\n",
       "  <thead>\n",
       "    <tr style=\"text-align: right;\">\n",
       "      <th></th>\n",
       "      <th>Name</th>\n",
       "      <th>Age</th>\n",
       "      <th>City</th>\n",
       "    </tr>\n",
       "  </thead>\n",
       "  <tbody>\n",
       "    <tr>\n",
       "      <th>0</th>\n",
       "      <td>Alice</td>\n",
       "      <td>25.0</td>\n",
       "      <td>New York</td>\n",
       "    </tr>\n",
       "    <tr>\n",
       "      <th>1</th>\n",
       "      <td>Bob</td>\n",
       "      <td>Unknown</td>\n",
       "      <td>Unknown</td>\n",
       "    </tr>\n",
       "    <tr>\n",
       "      <th>2</th>\n",
       "      <td>Charlie</td>\n",
       "      <td>35.0</td>\n",
       "      <td>Chicago</td>\n",
       "    </tr>\n",
       "    <tr>\n",
       "      <th>3</th>\n",
       "      <td>Unknown</td>\n",
       "      <td>40.0</td>\n",
       "      <td>Los Angeles</td>\n",
       "    </tr>\n",
       "  </tbody>\n",
       "</table>\n",
       "</div>"
      ],
      "text/plain": [
       "      Name      Age         City\n",
       "0    Alice     25.0     New York\n",
       "1      Bob  Unknown      Unknown\n",
       "2  Charlie     35.0      Chicago\n",
       "3  Unknown     40.0  Los Angeles"
      ]
     },
     "execution_count": 67,
     "metadata": {},
     "output_type": "execute_result"
    }
   ],
   "source": [
    "df.fillna('Unknown')"
   ]
  },
  {
   "cell_type": "markdown",
   "id": "3b5b11c7-96f2-4a57-996a-9ebfd58a3e05",
   "metadata": {},
   "source": [
    "## 13. Apply Method"
   ]
  },
  {
   "cell_type": "code",
   "execution_count": 68,
   "id": "58fbd417-c340-4bbc-85f1-9f3dfec37aa5",
   "metadata": {},
   "outputs": [
    {
     "name": "stdout",
     "output_type": "stream",
     "text": [
      "\n",
      "4. Apply function to 'Age' column:\n",
      "      Name  Age  Age Doubled\n",
      "0    Alice   25           50\n",
      "1      Bob   30           60\n",
      "2  Charlie   35           70\n"
     ]
    }
   ],
   "source": [
    "df = pd.DataFrame({\n",
    "    'Name': ['Alice', 'Bob', 'Charlie'],\n",
    "    'Age': [25, 30, 35]\n",
    "})\n",
    "\n",
    "# Apply a function to 'Age' column to double the age\n",
    "df['Age Doubled'] = df['Age'].apply(lambda x: x * 2)\n",
    "\n",
    "print(\"\\n4. Apply function to 'Age' column:\")\n",
    "print(df)"
   ]
  },
  {
   "cell_type": "markdown",
   "id": "c94d3f01-4d52-4031-9e0a-598a4e560741",
   "metadata": {},
   "source": [
    "## 14. Row Column wise application"
   ]
  },
  {
   "cell_type": "code",
   "execution_count": 19,
   "id": "da0b6899-b684-4650-9ff0-99abb2ec15ac",
   "metadata": {},
   "outputs": [
    {
     "name": "stdout",
     "output_type": "stream",
     "text": [
      "column wise:  0    108\n",
      "1    100\n",
      "2     80\n",
      "dtype: int64\n",
      "row wise:  Age       63\n",
      "Marks    225\n",
      "dtype: int64\n"
     ]
    }
   ],
   "source": [
    "df = pd.DataFrame({\n",
    "    'Age': [18,20,25],\n",
    "    'Marks': [90, 80, 55]\n",
    "})\n",
    "\n",
    "def sum_row(row):\n",
    "    return row.sum()\n",
    "\n",
    "# column wise\n",
    "print('column wise: ', df.apply(sum_row, axis=1))\n",
    "\n",
    "# row wise\n",
    "print('row wise: ',df.apply(sum_row, axis=0))"
   ]
  },
  {
   "cell_type": "markdown",
   "id": "1b1eb599-3c7f-4eb7-a3e6-b4aed84675e3",
   "metadata": {},
   "source": [
    "## 15. Reindexing in pandas"
   ]
  },
  {
   "cell_type": "raw",
   "id": "5d7ef6cf-9222-49c9-9d50-5daeb09c88b1",
   "metadata": {},
   "source": [
    "DataFrame.reindex(labels=None, index=None, columns=None, fill_value=None, method=None)"
   ]
  },
  {
   "cell_type": "code",
   "execution_count": 20,
   "id": "23aa59e4-64ba-43e0-80d8-d5d9aca9fc68",
   "metadata": {},
   "outputs": [
    {
     "name": "stdout",
     "output_type": "stream",
     "text": [
      "     A    B\n",
      "y  2.0  5.0\n",
      "z  3.0  6.0\n",
      "x  1.0  4.0\n",
      "w  NaN  NaN\n"
     ]
    }
   ],
   "source": [
    "df = pd.DataFrame({\n",
    "    'A': [1, 2, 3],\n",
    "    'B': [4, 5, 6]\n",
    "}, index=['x', 'y', 'z'])\n",
    "\n",
    "# Reindexing with a new index\n",
    "df_reindexed = df.reindex(['y', 'z', 'x', 'w'])\n",
    "\n",
    "print(df_reindexed)\n"
   ]
  },
  {
   "cell_type": "code",
   "execution_count": 22,
   "id": "0e9b1c89-01c3-46bd-8993-b86933bc7d33",
   "metadata": {},
   "outputs": [
    {
     "name": "stdout",
     "output_type": "stream",
     "text": [
      "   A  B\n",
      "y  2  5\n",
      "z  3  6\n",
      "x  1  4\n",
      "w  0  0\n"
     ]
    }
   ],
   "source": [
    "df_reindexed_fill = df.reindex(['y', 'z', 'x', 'w'], fill_value=0) # reindexing with fill value\n",
    "print(df_reindexed_fill)"
   ]
  },
  {
   "cell_type": "markdown",
   "id": "6449414f-1539-4847-a90c-d853432fdd5e",
   "metadata": {},
   "source": [
    "## 16. Iteration with items method"
   ]
  },
  {
   "cell_type": "raw",
   "id": "a3931928-553c-4bec-bf4f-091f80fa6f7f",
   "metadata": {},
   "source": [
    "for col_name, col_values in df.items():"
   ]
  },
  {
   "cell_type": "code",
   "execution_count": 25,
   "id": "ab3545c9-dad7-40c1-828c-c361e9e5678b",
   "metadata": {},
   "outputs": [
    {
     "name": "stdout",
     "output_type": "stream",
     "text": [
      "Column: Name\n",
      "0      Alice\n",
      "1        Bob\n",
      "2    Charlie\n",
      "Name: Name, dtype: object\n",
      "Column: Age\n",
      "0    25\n",
      "1    30\n",
      "2    35\n",
      "Name: Age, dtype: int64\n",
      "Column: City\n",
      "0       New York\n",
      "1    Los Angeles\n",
      "2        Chicago\n",
      "Name: City, dtype: object\n"
     ]
    }
   ],
   "source": [
    "df = pd.DataFrame({\n",
    "    'Name': ['Alice', 'Bob', 'Charlie'],\n",
    "    'Age': [25, 30, 35],\n",
    "    'City': ['New York', 'Los Angeles', 'Chicago']\n",
    "})\n",
    "\n",
    "# Iterating using .items()\n",
    "for col_name, col_values in df.items():\n",
    "    print(f\"Column: {col_name}\")\n",
    "    print(col_values)"
   ]
  },
  {
   "cell_type": "markdown",
   "id": "71b36ac9-225d-4df0-8955-9054b11270dd",
   "metadata": {},
   "source": [
    "## 17. Iteration with itterrows and ittertuples"
   ]
  },
  {
   "cell_type": "code",
   "execution_count": 27,
   "id": "85d12653-50dc-42e5-9c4b-20ea30b783b2",
   "metadata": {},
   "outputs": [
    {
     "name": "stdout",
     "output_type": "stream",
     "text": [
      "Index: 0, Name: Alice, Age: 25, City: New York\n",
      "Index: 1, Name: Bob, Age: 30, City: Los Angeles\n",
      "Index: 2, Name: Charlie, Age: 35, City: Chicago\n"
     ]
    }
   ],
   "source": [
    "for index, row in df.iterrows(): # itteration over rows (index, series)\n",
    "    print(f\"Index: {index}, Name: {row['Name']}, Age: {row['Age']}, City: {row['City']}\")"
   ]
  },
  {
   "cell_type": "code",
   "execution_count": 28,
   "id": "9c2968e3-e203-4ada-a2f4-0bd84d82e51a",
   "metadata": {},
   "outputs": [
    {
     "name": "stdout",
     "output_type": "stream",
     "text": [
      "Index: 0, Name: Alice, Age: 25, City: New York\n",
      "Index: 1, Name: Bob, Age: 30, City: Los Angeles\n",
      "Index: 2, Name: Charlie, Age: 35, City: Chicago\n"
     ]
    }
   ],
   "source": [
    "# Iterating with itertuples()\n",
    "for row in df.itertuples(index=True, name=\"Row\"):\n",
    "    print(f\"Index: {row.Index}, Name: {row.Name}, Age: {row.Age}, City: {row.City}\")"
   ]
  },
  {
   "cell_type": "markdown",
   "id": "b8b27293-e111-406b-a5f0-bab9c3faa145",
   "metadata": {},
   "source": [
    "## 18. Sorting by index"
   ]
  },
  {
   "cell_type": "code",
   "execution_count": 29,
   "id": "2066b74d-4346-4248-b33b-29ef9a8c2f56",
   "metadata": {},
   "outputs": [
    {
     "name": "stdout",
     "output_type": "stream",
     "text": [
      "Original DataFrame:\n",
      "      Name  Age\n",
      "3    Alice   25\n",
      "1      Bob   30\n",
      "4  Charlie   35\n",
      "2    David   22\n",
      "\n",
      "DataFrame sorted by index:\n",
      "      Name  Age\n",
      "1      Bob   30\n",
      "2    David   22\n",
      "3    Alice   25\n",
      "4  Charlie   35\n"
     ]
    }
   ],
   "source": [
    "df = pd.DataFrame({\n",
    "    'Name': ['Alice', 'Bob', 'Charlie', 'David'],\n",
    "    'Age': [25, 30, 35, 22]\n",
    "}, index=[3, 1, 4, 2])\n",
    "\n",
    "print(\"Original DataFrame:\")\n",
    "print(df)\n",
    "\n",
    "# Sorting by index\n",
    "df_sorted = df.sort_index()\n",
    "print(\"\\nDataFrame sorted by index:\")\n",
    "print(df_sorted)"
   ]
  },
  {
   "cell_type": "markdown",
   "id": "5725ec5b-0e6e-48ec-a73e-e27e73d8163d",
   "metadata": {},
   "source": [
    "## 19. nlargest and nsmallest in pandas"
   ]
  },
  {
   "cell_type": "raw",
   "id": "ab5c1d25-f643-4729-8df4-b1bfa61f3aad",
   "metadata": {},
   "source": [
    "df.nlargest(n, 'column_name') # where n= no of rows to return\n",
    "df.nsmallest(n, 'column_name')"
   ]
  },
  {
   "cell_type": "code",
   "execution_count": 31,
   "id": "d49a09da-54dc-4b79-9857-89848157058d",
   "metadata": {},
   "outputs": [
    {
     "name": "stdout",
     "output_type": "stream",
     "text": [
      "Top 3 students with highest Marks:\n",
      "    Name  Marks\n",
      "3   Sita     95\n",
      "1  Shyam     90\n",
      "2   Hari     88\n",
      "Top 3 students with lowest marks:\n",
      "   Name  Marks\n",
      "4  Gita     70\n",
      "0   Ram     85\n",
      "2  Hari     88\n"
     ]
    }
   ],
   "source": [
    "df = pd.DataFrame({\n",
    "    'Name': ['Ram', 'Shyam', 'Hari', 'Sita', 'Gita'],\n",
    "    'Marks': [85, 90, 88, 95, 70]\n",
    "})\n",
    "\n",
    "# Get top 3 highest Marks\n",
    "top_3 = df.nlargest(3, 'Marks')\n",
    "print(\"Top 3 students with highest Marks:\")\n",
    "print(top_3)\n",
    "\n",
    "bottom_3 = df.nsmallest(3,'Marks')\n",
    "print(\"Top 3 students with lowest marks:\")\n",
    "print(bottom_3)"
   ]
  },
  {
   "cell_type": "markdown",
   "id": "92ed663e-997f-4e3a-8685-da0fe5436494",
   "metadata": {},
   "source": [
    "## 20. String methods"
   ]
  },
  {
   "cell_type": "code",
   "execution_count": 32,
   "id": "cc6e5a15-a5f2-44dd-b83b-d4dadfad9499",
   "metadata": {},
   "outputs": [
    {
     "name": "stdout",
     "output_type": "stream",
     "text": [
      "     Names    Lower    Upper    Title\n",
      "0     Ram      ram      RAM      Ram \n",
      "1      BOB      bob      BOB      Bob\n",
      "2  charlie  charlie  CHARLIE  Charlie\n"
     ]
    }
   ],
   "source": [
    "\n",
    "df = pd.DataFrame({'Names': [' Ram ', 'BOB', 'charlie']})\n",
    "df['Lower'] = df['Names'].str.lower()\n",
    "df['Upper'] = df['Names'].str.upper()\n",
    "df['Title'] = df['Names'].str.title()\n",
    "\n",
    "print(df)"
   ]
  },
  {
   "cell_type": "code",
   "execution_count": 34,
   "id": "918d964b-be52-4cff-9c7b-7370de28912f",
   "metadata": {},
   "outputs": [
    {
     "name": "stdout",
     "output_type": "stream",
     "text": [
      "0        Ram\n",
      "1        BOB\n",
      "2    charlie\n",
      "Name: Trimmed, dtype: object\n"
     ]
    }
   ],
   "source": [
    "df['Trimmed'] = df['Names'].str.strip() # stripping whitespaces\n",
    "print(df['Trimmed'])"
   ]
  },
  {
   "cell_type": "code",
   "execution_count": 36,
   "id": "630a4c7b-bfb3-4d63-9b1d-68b41a237a9a",
   "metadata": {},
   "outputs": [
    {
     "name": "stdout",
     "output_type": "stream",
     "text": [
      "     Names    Lower    Upper    Title  Trimmed Replace_A  Contains_B  Find_C\n",
      "0     Ram      ram      RAM      Ram       Ram      R@m        False      -1\n",
      "1      BOB      bob      BOB      Bob      BOB       BOB        True      -1\n",
      "2  charlie  charlie  CHARLIE  Charlie  charlie   ch@rlie       False       0\n"
     ]
    }
   ],
   "source": [
    "df['Replace_A'] = df['Names'].str.replace('A', '@', case=False) # replacing 'A' with @ without being case sensitive\n",
    "df['Contains_B'] = df['Names'].str.contains('B', case=False)\n",
    "df['Find_C'] = df['Names'].str.find('c')\n",
    "print(df)"
   ]
  },
  {
   "cell_type": "code",
   "execution_count": 42,
   "id": "fa893e5b-ddf9-4960-b63c-1997804598a8",
   "metadata": {},
   "outputs": [
    {
     "name": "stdout",
     "output_type": "stream",
     "text": [
      "    Codes  Is_Numeric  Starts_With_1  Ends_With_c\n",
      "0     123        True           True        False\n",
      "1     abc       False          False         True\n",
      "2  456xyz       False          False        False\n",
      "3     789        True          False        False\n"
     ]
    }
   ],
   "source": [
    "df = pd.DataFrame({'Codes': ['123', 'abc', '456xyz', '789']})\n",
    "\n",
    "df['Is_Numeric'] = df['Codes'].str.isnumeric() # check if the str is numeric\n",
    "df['Starts_With_1'] = df['Codes'].str.startswith('1') # check if string startswith 1\n",
    "df['Ends_With_c'] = df['Codes'].str.endswith('c') # check if string endswith c\n",
    "print(df)"
   ]
  },
  {
   "cell_type": "code",
   "execution_count": 43,
   "id": "0f2c3627-c484-4937-be41-0702452d2e17",
   "metadata": {},
   "outputs": [
    {
     "name": "stdout",
     "output_type": "stream",
     "text": [
      "        Text  Contains_apple\n",
      "0      apple            True\n",
      "1     banana           False\n",
      "2     cherry           False\n",
      "3  pineapple            True\n",
      "4      grape           False\n"
     ]
    }
   ],
   "source": [
    "df = pd.DataFrame({'Text': ['apple', 'banana', 'cherry', 'pineapple', 'grape']})\n",
    "\n",
    "# Check if 'apple' exists in each row\n",
    "df['Contains_apple'] = df['Text'].str.contains('apple')\n",
    "\n",
    "print(df)"
   ]
  },
  {
   "cell_type": "code",
   "execution_count": 46,
   "id": "a6133674-2d98-47ee-abdd-0eaa1037c6f2",
   "metadata": {},
   "outputs": [
    {
     "name": "stdout",
     "output_type": "stream",
     "text": [
      "        Text  Contains_apple  Find_a\n",
      "0      apple            True       0\n",
      "1     banana           False       1\n",
      "2     cherry           False      -1\n",
      "3  pineapple            True       4\n",
      "4      grape           False       2\n"
     ]
    }
   ],
   "source": [
    "df['Find_a'] = df['Text'].str.find('a') # find index where a char occur, -1 indicates not found\n",
    "print(df)"
   ]
  },
  {
   "cell_type": "code",
   "execution_count": 49,
   "id": "c401e876-3d5c-495f-b13d-a3f6f22614ae",
   "metadata": {},
   "outputs": [
    {
     "name": "stdout",
     "output_type": "stream",
     "text": [
      "        Text  Contains_apple  Find_a  Count_a\n",
      "0      apple            True       0        1\n",
      "1     banana           False       1        3\n",
      "2     cherry           False      -1        0\n",
      "3  pineapple            True       4        1\n",
      "4      grape           False       2        1\n"
     ]
    }
   ],
   "source": [
    "df['Count_a'] = df['Text'].str.count('a') # count the occurence of char\n",
    "print(df)"
   ]
  },
  {
   "cell_type": "code",
   "execution_count": 50,
   "id": "cb7787a2-24b7-4c6b-a562-95767dc65512",
   "metadata": {},
   "outputs": [
    {
     "name": "stdout",
     "output_type": "stream",
     "text": [
      "        Text  Contains_apple  Find_a  Count_a  Length\n",
      "0      apple            True       0        1       5\n",
      "1     banana           False       1        3       6\n",
      "2     cherry           False      -1        0       6\n",
      "3  pineapple            True       4        1       9\n",
      "4      grape           False       2        1       5\n"
     ]
    }
   ],
   "source": [
    "df['Length'] = df['Text'].str.len() # return the length of string\n",
    "print(df)"
   ]
  },
  {
   "cell_type": "code",
   "execution_count": 51,
   "id": "371f2563-7b7e-45f5-b4e5-7e88b5018951",
   "metadata": {},
   "outputs": [
    {
     "name": "stdout",
     "output_type": "stream",
     "text": [
      "        Text  Contains_apple  Find_a  Count_a  Length  Last_Find_a\n",
      "0      apple            True       0        1       5            0\n",
      "1     banana           False       1        3       6            5\n",
      "2     cherry           False      -1        0       6           -1\n",
      "3  pineapple            True       4        1       9            4\n",
      "4      grape           False       2        1       5            2\n"
     ]
    }
   ],
   "source": [
    "df['Last_Find_a'] = df['Text'].str.rfind('a') # find last occurence of substring\n",
    "print(df)"
   ]
  },
  {
   "cell_type": "markdown",
   "id": "692fce41-f43d-44a1-a90b-dffdf53d0eb8",
   "metadata": {},
   "source": [
    "## 21. Indexing in pandas"
   ]
  },
  {
   "cell_type": "raw",
   "id": "0697f621-510c-412a-9bd1-d8d863dfdbb3",
   "metadata": {},
   "source": [
    "df.loc[row_label, column_label]"
   ]
  },
  {
   "cell_type": "code",
   "execution_count": 59,
   "id": "3467f794-ba6f-4aa3-8e8f-9114e783de6a",
   "metadata": {},
   "outputs": [
    {
     "name": "stdout",
     "output_type": "stream",
     "text": [
      "Name       Shyam\n",
      "Age           30\n",
      "City    Lalitpur\n",
      "Name: b, dtype: object\n",
      "   Name  Age       City\n",
      "a   Ram   25  Kathmandu\n",
      "c  Hari   35  Bhaktapur\n",
      "    Name       City\n",
      "a    Ram  Kathmandu\n",
      "b  Shyam   Lalitpur\n",
      "    Name  Age       City\n",
      "a    Ram   25  Kathmandu\n",
      "b  Shyam   30   Lalitpur\n",
      "c   Hari   35  Bhaktapur\n"
     ]
    }
   ],
   "source": [
    "df = pd.DataFrame({\n",
    "    'Name': ['Ram', 'Shyam', 'Hari', 'Gita'],\n",
    "    'Age': [25, 30, 35, 22],\n",
    "    'City': ['Kathmandu', 'Lalitpur', 'Bhaktapur', 'Nuwakot']\n",
    "}, index=['a', 'b', 'c', 'd'])\n",
    "\n",
    "# Select a single row by index label\n",
    "print(df.loc['b'])\n",
    "\n",
    "# Select multiple rows\n",
    "print(df.loc[['a', 'c']])\n",
    "\n",
    "# Select specific columns\n",
    "print(df.loc['a':'b', ['Name', 'City']]) # within specified range inclusive\n",
    "\n",
    "# Select a range of rows\n",
    "print(df.loc['a':'c'])  # Inclusive of 'c'"
   ]
  },
  {
   "cell_type": "code",
   "execution_count": 63,
   "id": "22d5913b-2050-4222-8c3e-c85f5d023d51",
   "metadata": {},
   "outputs": [
    {
     "name": "stdout",
     "output_type": "stream",
     "text": [
      "Name       Shyam\n",
      "Age           30\n",
      "City    Lalitpur\n",
      "Name: b, dtype: object\n",
      "   Name  Age       City\n",
      "a   Ram   25  Kathmandu\n",
      "c  Hari   35  Bhaktapur\n",
      "   Age       City\n",
      "a   25  Kathmandu\n",
      "    Name  Age       City\n",
      "b  Shyam   30   Lalitpur\n",
      "c   Hari   35  Bhaktapur\n"
     ]
    }
   ],
   "source": [
    "# Select a single row by position\n",
    "print(df.iloc[1])\n",
    "\n",
    "# Select multiple rows\n",
    "print(df.iloc[[0, 2]])\n",
    "\n",
    "# Select a specific column\n",
    "print(df.iloc[:1, [1,2]])  # Second column (Age) and third columnd(City) up to range 1 exclusive\n",
    "\n",
    "# Select a range of rows\n",
    "print(df.iloc[1:3])  # Does NOT include row 3\n"
   ]
  },
  {
   "cell_type": "code",
   "execution_count": 65,
   "id": "a7a995d0-489a-4ce3-a976-69784d017c83",
   "metadata": {},
   "outputs": [
    {
     "name": "stdout",
     "output_type": "stream",
     "text": [
      "    Name  Age       City\n",
      "b  Shyam   30   Lalitpur\n",
      "c   Hari   35  Bhaktapur\n",
      "Empty DataFrame\n",
      "Columns: [Name, Age, City]\n",
      "Index: []\n"
     ]
    }
   ],
   "source": [
    "print(df[df['Age'] > 25])\n",
    "\n",
    "# Select rows where City contains 'New'\n",
    "print(df[df['City'].str.contains('New')])"
   ]
  },
  {
   "cell_type": "markdown",
   "id": "decfec5e-de08-4852-b557-3e6d03f6df1f",
   "metadata": {},
   "source": [
    "## 22. Query method in pandas"
   ]
  },
  {
   "cell_type": "raw",
   "id": "6a2d0ce5-7434-424c-ace8-cd5d591d04cd",
   "metadata": {},
   "source": [
    "df.query('condition', inplace=False, **kwargs)"
   ]
  },
  {
   "cell_type": "code",
   "execution_count": 66,
   "id": "509a8e45-8b0f-473c-a868-396c7c8cf09e",
   "metadata": {},
   "outputs": [
    {
     "name": "stdout",
     "output_type": "stream",
     "text": [
      "   Name  Age       City\n",
      "c  Hari   35  Bhaktapur\n"
     ]
    }
   ],
   "source": [
    "filtered_df = df.query('Age > 30')\n",
    "print(filtered_df)"
   ]
  },
  {
   "cell_type": "code",
   "execution_count": 72,
   "id": "6eb34091-6d88-4b1a-8a9f-442c2ecec48e",
   "metadata": {},
   "outputs": [
    {
     "name": "stdout",
     "output_type": "stream",
     "text": [
      "  Name  Age       City\n",
      "a  Ram   25  Kathmandu\n"
     ]
    }
   ],
   "source": [
    "filtered_df = df.query('City == \"Kathmandu\"')\n",
    "print(filtered_df)"
   ]
  },
  {
   "cell_type": "markdown",
   "id": "ec89d09f-1cc0-494a-bc39-a1adace74190",
   "metadata": {},
   "source": [
    "## 23. Rolling and Expanding windows in pandas"
   ]
  },
  {
   "cell_type": "code",
   "execution_count": 77,
   "id": "6ac224ae-ce0b-45e0-96e3-f77636ed609d",
   "metadata": {},
   "outputs": [
    {
     "name": "stdout",
     "output_type": "stream",
     "text": [
      "    A  Rolling_Avg\n",
      "0   1          NaN\n",
      "1   2          NaN\n",
      "2   3          2.0\n",
      "3   4          3.0\n",
      "4   5          4.0\n",
      "5   6          5.0\n",
      "6   7          6.0\n",
      "7   8          7.0\n",
      "8   9          8.0\n",
      "9  10          9.0\n"
     ]
    }
   ],
   "source": [
    "df = pd.DataFrame({\n",
    "    'A': [1, 2, 3, 4, 5, 6, 7, 8, 9, 10]\n",
    "})\n",
    "\n",
    "# Rolling window with window size 3\n",
    "df['Rolling_Avg'] = df['A'].rolling(window=3).mean() # calculate the mean of last 3 rolling values\n",
    "\n",
    "print(df)"
   ]
  },
  {
   "cell_type": "code",
   "execution_count": 81,
   "id": "decebf63-b77c-4f59-82fb-24c399a1ce17",
   "metadata": {},
   "outputs": [
    {
     "name": "stdout",
     "output_type": "stream",
     "text": [
      "    A  Rolling_Avg  Cumulative_Sum  Cumulative_mean\n",
      "0   1          NaN             1.0              1.0\n",
      "1   2          NaN             1.5              1.5\n",
      "2   3          2.0             2.0              2.0\n",
      "3   4          3.0             2.5              2.5\n",
      "4   5          4.0             3.0              3.0\n",
      "5   6          5.0             3.5              3.5\n",
      "6   7          6.0             4.0              4.0\n",
      "7   8          7.0             4.5              4.5\n",
      "8   9          8.0             5.0              5.0\n",
      "9  10          9.0             5.5              5.5\n"
     ]
    }
   ],
   "source": [
    "# Expanding window with cumulative mean\n",
    "df['Cumulative_mean'] = df['A'].expanding().mean()\n",
    "print(df)"
   ]
  },
  {
   "cell_type": "markdown",
   "id": "82708304-6b4e-4d86-9995-46243447d2e4",
   "metadata": {},
   "source": [
    "## 24. Different operations with groupby method"
   ]
  },
  {
   "cell_type": "code",
   "execution_count": 84,
   "id": "1d1c8db4-a694-4476-9a14-81170bf453ee",
   "metadata": {},
   "outputs": [
    {
     "name": "stdout",
     "output_type": "stream",
     "text": [
      "          Value\n",
      "Category       \n",
      "A          15.0\n",
      "B          35.0\n",
      "C          55.0\n"
     ]
    }
   ],
   "source": [
    "# Groupby with aggregation\n",
    "df = pd.DataFrame({\n",
    "    'Category': ['A', 'A', 'B', 'B', 'C', 'C'],\n",
    "    'Value': [10, 20, 30, 40, 50, 60]\n",
    "})\n",
    "\n",
    "# Group by 'Category' and calculate the mean of 'Value' for each group\n",
    "aggregated = df.groupby('Category').agg({'Value': 'mean'})\n",
    "\n",
    "print(aggregated)\n"
   ]
  },
  {
   "cell_type": "code",
   "execution_count": 90,
   "id": "64760cee-7dc3-46cc-9780-1503ec3ea46f",
   "metadata": {},
   "outputs": [
    {
     "name": "stdout",
     "output_type": "stream",
     "text": [
      "0     100\n",
      "1     400\n",
      "2     900\n",
      "3    1600\n",
      "4    2500\n",
      "5    3600\n",
      "Name: Value, dtype: int64\n"
     ]
    }
   ],
   "source": [
    "# first grouping on value on the basis of category then applying function with the help of transform\n",
    "transformed = df.groupby('Category')['Value'].transform(lambda x: x**2)\n",
    "\n",
    "print(transformed)"
   ]
  },
  {
   "cell_type": "code",
   "execution_count": 91,
   "id": "d8a595c3-d43e-4666-8aae-099b0f988815",
   "metadata": {},
   "outputs": [
    {
     "name": "stdout",
     "output_type": "stream",
     "text": [
      "  Category  Value\n",
      "2        B     30\n",
      "3        B     40\n",
      "4        C     50\n",
      "5        C     60\n"
     ]
    }
   ],
   "source": [
    "filtered = df.groupby('Category').filter(lambda x: x['Value'].sum() > 50) # filtering the data with groupby\n",
    "print(filtered)"
   ]
  },
  {
   "cell_type": "markdown",
   "id": "7479ef69-9a32-4d55-bede-06ff2a9718cf",
   "metadata": {},
   "source": [
    "## 25. Plotting in pandas"
   ]
  },
  {
   "cell_type": "code",
   "execution_count": 93,
   "id": "39cce829-d82a-466a-ace8-c63593d0f9d5",
   "metadata": {},
   "outputs": [],
   "source": [
    "import matplotlib.pyplot as plt"
   ]
  },
  {
   "cell_type": "code",
   "execution_count": 99,
   "id": "ce94f0e3-0b25-4fe0-b7cd-1735a3113afe",
   "metadata": {},
   "outputs": [
    {
     "data": {
      "image/png": "[encoded data removed]",
      "text/plain": [
       "<Figure size 640x480 with 1 Axes>"
      ]
     },
     "metadata": {},
     "output_type": "display_data"
    }
   ],
   "source": [
    "df = pd.DataFrame({\n",
    "    'Year': [2020, 2021, 2022, 2023, 2024],\n",
    "    'Sales': [100, 150, 200, 250, 300]\n",
    "})\n",
    "\n",
    "# Line plot\n",
    "df.plot(x='Year', y='Sales', kind='line', marker='o', title='Sales Over Years')\n",
    "\n",
    "# Show plot\n",
    "plt.show()"
   ]
  },
  {
   "cell_type": "code",
   "execution_count": 95,
   "id": "abb8a372-90b5-4d6d-902f-f3d5e17ba43a",
   "metadata": {},
   "outputs": [
    {
     "data": {
      "image/png": "[encoded data removed]",
      "text/plain": [
       "<Figure size 640x480 with 1 Axes>"
      ]
     },
     "metadata": {},
     "output_type": "display_data"
    }
   ],
   "source": [
    "# Bar plot\n",
    "df.plot(x='Year', y='Sales', kind='bar', color='skyblue', title='Sales Bar Plot')\n",
    "\n",
    "# Show plot\n",
    "plt.show()"
   ]
  },
  {
   "cell_type": "code",
   "execution_count": 100,
   "id": "274aa456-25b1-47a4-ad13-97621d46f5df",
   "metadata": {},
   "outputs": [
    {
     "data": {
      "image/png": "[encoded data removed]",
      "text/plain": [
       "<Figure size 640x480 with 1 Axes>"
      ]
     },
     "metadata": {},
     "output_type": "display_data"
    }
   ],
   "source": [
    "df.plot(kind='scatter', x='Year', y='Sales', color='red', title='Sales scatter plot')\n",
    "# Show plot\n",
    "plt.show()"
   ]
  },
  {
   "cell_type": "code",
   "execution_count": 101,
   "id": "74eaca9f-81dd-4d30-af15-9b95b9e18937",
   "metadata": {},
   "outputs": [
    {
     "data": {
      "image/png": "[encoded data removed]",
      "text/plain": [
       "<Figure size 640x480 with 1 Axes>"
      ]
     },
     "metadata": {},
     "output_type": "display_data"
    }
   ],
   "source": [
    "df = pd.DataFrame({\n",
    "    'Age': [23, 45, 56, 67, 34, 45, 34, 23, 45, 23]\n",
    "})\n",
    "\n",
    "# Density plot\n",
    "df.plot(kind='density', title='Age Distribution')\n",
    "\n",
    "# Show plot\n",
    "plt.show()"
   ]
  },
  {
   "cell_type": "code",
   "execution_count": 104,
   "id": "ec22ac28-cf27-44af-ad7c-7ffce7b66f00",
   "metadata": {},
   "outputs": [
    {
     "data": {
      "image/png": "[encoded data removed]",
      "text/plain": [
       "<Figure size 640x480 with 1 Axes>"
      ]
     },
     "metadata": {},
     "output_type": "display_data"
    }
   ],
   "source": [
    "df = pd.DataFrame({\n",
    "    'Scores': [85, 90, 78, 92, 88, 76, 95, 99, 70, 80]\n",
    "})\n",
    "\n",
    "# Box plot\n",
    "df.plot(kind='box', title='Scores Box Plot')\n",
    "\n",
    "# Show plot\n",
    "plt.show()"
   ]
  },
  {
   "cell_type": "markdown",
   "id": "2fd07f74-e187-4239-87bb-407f484f9452",
   "metadata": {},
   "source": [
    "## 26. Reading and writing (files) in pandas"
   ]
  },
  {
   "cell_type": "code",
   "execution_count": 105,
   "id": "88199f49-190a-4184-95ce-34665c5859c9",
   "metadata": {},
   "outputs": [
    {
     "name": "stdout",
     "output_type": "stream",
     "text": [
      "Data read from CSV:\n",
      "      Name  Age         City\n",
      "0    Alice   25     New York\n",
      "1      Bob   30  Los Angeles\n",
      "2  Charlie   35      Chicago\n",
      "3    David   40      Houston\n",
      "\n",
      "Data read from JSON:\n",
      "      Name  Age         City\n",
      "0    Alice   25     New York\n",
      "1      Bob   30  Los Angeles\n",
      "2  Charlie   35      Chicago\n",
      "3    David   40      Houston\n",
      "\n",
      "Data read from Excel:\n",
      "      Name  Age         City\n",
      "0    Alice   25     New York\n",
      "1      Bob   30  Los Angeles\n",
      "2  Charlie   35      Chicago\n",
      "3    David   40      Houston\n"
     ]
    }
   ],
   "source": [
    "data = {\n",
    "    'Name': ['Alice', 'Bob', 'Charlie', 'David'],\n",
    "    'Age': [25, 30, 35, 40],\n",
    "    'City': ['New York', 'Los Angeles', 'Chicago', 'Houston']\n",
    "}\n",
    "df = pd.DataFrame(data)\n",
    "\n",
    "# 1. Reading and writing CSV\n",
    "# Writing to a CSV file\n",
    "df.to_csv('sample.csv', index=False)\n",
    "\n",
    "# Reading from a CSV file\n",
    "csv_df = pd.read_csv('sample.csv')\n",
    "print(\"Data read from CSV:\")\n",
    "print(csv_df)\n",
    "\n",
    "# 2. Reading and writing JSON\n",
    "# Writing to a JSON file\n",
    "df.to_json('sample.json', orient='records', lines=True)\n",
    "\n",
    "# Reading from a JSON file\n",
    "json_df = pd.read_json('sample.json', orient='records', lines=True)\n",
    "print(\"\\nData read from JSON:\")\n",
    "print(json_df)\n",
    "\n",
    "# 3. Reading and writing Excel\n",
    "# Writing to an Excel file (requires 'openpyxl' or 'xlsxwriter' installed)\n",
    "df.to_excel('sample.xlsx', index=False)\n",
    "\n",
    "# Reading from an Excel file\n",
    "excel_df = pd.read_excel('sample.xlsx')\n",
    "print(\"\\nData read from Excel:\")\n",
    "print(excel_df)"
   ]
  },
  {
   "cell_type": "markdown",
   "id": "9e9e422c-ea20-44a9-ab37-e6414d9ec071",
   "metadata": {},
   "source": [
    "## 27. Datetime operations in pandas"
   ]
  },
  {
   "cell_type": "code",
   "execution_count": 114,
   "id": "af1a2726-5bb3-45e5-a82c-0db1c986c40b",
   "metadata": {},
   "outputs": [
    {
     "name": "stdout",
     "output_type": "stream",
     "text": [
      "Date    object\n",
      "dtype: object\n",
      "        Date\n",
      "0 2023-01-01\n",
      "1 2023-02-01\n",
      "2 2023-03-01\n",
      "Date    datetime64[ns]\n",
      "dtype: object\n"
     ]
    }
   ],
   "source": [
    "# Sample data with date as string\n",
    "data = {'Date': ['2023-01-01', '2023-02-01', '2023-03-01']}\n",
    "df = pd.DataFrame(data)\n",
    "print(df.dtypes)\n",
    "# Convert to datetime\n",
    "df['Date'] = pd.to_datetime(df['Date'])\n",
    "print(df)\n",
    "print(df.dtypes)"
   ]
  },
  {
   "cell_type": "code",
   "execution_count": 115,
   "id": "3f74f1e8-8538-4567-8944-92d7d50c2ca1",
   "metadata": {},
   "outputs": [
    {
     "name": "stdout",
     "output_type": "stream",
     "text": [
      "        Date  Year  Month  Day  Weekday\n",
      "0 2023-01-01  2023      1    1        6\n",
      "1 2023-02-01  2023      2    1        2\n",
      "2 2023-03-01  2023      3    1        2\n"
     ]
    }
   ],
   "source": [
    "# Extracting year, month, and day\n",
    "df['Year'] = df['Date'].dt.year\n",
    "df['Month'] = df['Date'].dt.month\n",
    "df['Day'] = df['Date'].dt.day\n",
    "df['Weekday'] = df['Date'].dt.weekday  # Monday=0, Sunday=6\n",
    "\n",
    "print(df)"
   ]
  },
  {
   "cell_type": "code",
   "execution_count": 117,
   "id": "08092489-6971-4865-a6b6-13d7347020e6",
   "metadata": {},
   "outputs": [
    {
     "name": "stdout",
     "output_type": "stream",
     "text": [
      "        Date  Year  Month  Day  Weekday DatePlus5Days DateDiff\n",
      "0 2023-01-01  2023      1    1        6    2023-01-06   5 days\n",
      "1 2023-02-01  2023      2    1        2    2023-02-06   5 days\n",
      "2 2023-03-01  2023      3    1        2    2023-03-06   5 days\n"
     ]
    }
   ],
   "source": [
    "df['DatePlus5Days'] = df['Date'] + pd.Timedelta(days=5) # add five days to date\n",
    "\n",
    "# Subtracting two datetime columns\n",
    "df['DateDiff'] = df['DatePlus5Days'] - df['Date']\n",
    "\n",
    "print(df)"
   ]
  },
  {
   "cell_type": "code",
   "execution_count": 119,
   "id": "3f792a0e-a909-42d0-ac96-47a6c0a5ad1e",
   "metadata": {},
   "outputs": [
    {
     "name": "stdout",
     "output_type": "stream",
     "text": [
      "        Date  Year  Month  Day  Weekday DatePlus5Days DateDiff FormattedDate\n",
      "0 2023-01-01  2023      1    1        6    2023-01-06   5 days    2023/01/01\n",
      "1 2023-02-01  2023      2    1        2    2023-02-06   5 days    2023/02/01\n",
      "2 2023-03-01  2023      3    1        2    2023-03-06   5 days    2023/03/01\n"
     ]
    }
   ],
   "source": [
    "df['FormattedDate'] = df['Date'].dt.strftime('%Y/%m/%d') # formatting to specific format\n",
    "\n",
    "print(df)"
   ]
  },
  {
   "cell_type": "code",
   "execution_count": null,
   "id": "25a05d19-6646-4235-b7e0-c902fe3cbebe",
   "metadata": {},
   "outputs": [],
   "source": []
  }
 ],
 "metadata": {
  "kernelspec": {
   "display_name": "Python 3 (ipykernel)",
   "language": "python",
   "name": "python3"
  },
  "language_info": {
   "codemirror_mode": {
    "name": "ipython",
    "version": 3
   },
   "file_extension": ".py",
   "mimetype": "text/x-python",
   "name": "python",
   "nbconvert_exporter": "python",
   "pygments_lexer": "ipython3",
   "version": "3.12.3"
  }
 },
 "nbformat": 4,
 "nbformat_minor": 5
}
