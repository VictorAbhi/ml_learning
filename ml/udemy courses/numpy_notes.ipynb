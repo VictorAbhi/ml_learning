{
 "cells": [
  {
   "cell_type": "code",
   "execution_count": 2,
   "id": "e36ee499-c956-4f1f-a1d2-2a094577b8e6",
   "metadata": {},
   "outputs": [],
   "source": [
    "import numpy as np"
   ]
  },
  {
   "cell_type": "markdown",
   "id": "d6d2cd1d-9791-4fae-905d-d2f494d353eb",
   "metadata": {},
   "source": [
    "# 1. Creating arrays"
   ]
  },
  {
   "cell_type": "code",
   "execution_count": 45,
   "id": "20001c7a-2784-4625-9f74-2b499bfafcb8",
   "metadata": {},
   "outputs": [
    {
     "name": "stdout",
     "output_type": "stream",
     "text": [
      "[1 2 3]\n",
      "[[1 2]\n",
      " [3 4]]\n",
      "[[0. 0. 0.]\n",
      " [0. 0. 0.]]\n",
      "[[1. 1.]\n",
      " [1. 1.]\n",
      " [1. 1.]]\n",
      "[[1. 0. 0.]\n",
      " [0. 1. 0.]\n",
      " [0. 0. 1.]]\n",
      "[0 2 4 6 8]\n",
      "[0.   0.25 0.5  0.75 1.  ]\n",
      "[  10.           31.6227766   100.          316.22776602 1000.        ]\n"
     ]
    }
   ],
   "source": [
    "arr = np.array([1, 2, 3]) # from list\n",
    "arr1 = np.array([[1, 2], [3, 4]]) # multi dimensional array\n",
    "zeros = np.zeros((2, 3))  # 2 rows, 3 columns 0's\n",
    "ones = np.ones((3, 2))  # 3 rows, 2 columns of 1's\n",
    "identity = np.eye(3)  # 3x3 identity matrix\n",
    "arr_range = np.arange(0, 10, 2)  # from 0 to 10 escaping 2 elements\n",
    "linspace = np.linspace(0, 1, 5)  # create 5 parts from 0 to 1\n",
    "logspace = np.logspace(1, 3, num=5) # Generate 5 numbers spaced evenly on a logarithmic scale from 10^1 to 10^3\n",
    "print(arr,arr1,zeros,ones,identity,arr_range,linspace,logspace, sep='\\n')"
   ]
  },
  {
   "cell_type": "markdown",
   "id": "4d923e1a-b1b3-4fc7-a51b-5ef21c5055c9",
   "metadata": {},
   "source": [
    "# 2. Array properties"
   ]
  },
  {
   "cell_type": "code",
   "execution_count": 37,
   "id": "01c78c4a-910d-4474-8ce7-9a24349868f3",
   "metadata": {},
   "outputs": [
    {
     "name": "stdout",
     "output_type": "stream",
     "text": [
      "shape:  (2, 2)\n",
      "dimensions:  2\n",
      "data type:  int32\n",
      "size:  4\n",
      "transpose of matrix:  [[1 3]\n",
      " [2 4]]\n",
      "itemsize:  4\n"
     ]
    }
   ],
   "source": [
    "print('shape: ', arr1.shape) # shape of array row by columns\n",
    "print('dimensions: ', arr1.ndim) # number of dimensions\n",
    "print('data type: ', arr1.dtype) # data type\n",
    "print('size: ', arr1.size) # number of elements\n",
    "print('transpose of matrix: ', arr1.T)\n",
    "print('itemsize: ', arr1.itemsize)"
   ]
  },
  {
   "cell_type": "markdown",
   "id": "bcad3704-9b19-4224-a55a-ba4c749a5173",
   "metadata": {},
   "source": [
    "# 3.Indexing and Slicing"
   ]
  },
  {
   "cell_type": "code",
   "execution_count": 17,
   "id": "94c61523-2c5a-4833-988e-67d7ed344db5",
   "metadata": {},
   "outputs": [
    {
     "name": "stdout",
     "output_type": "stream",
     "text": [
      "[3 4]\n",
      "[[3 4]]\n",
      "2\n",
      "[2 3 4]\n"
     ]
    }
   ],
   "source": [
    "print(arr1[1]) # single element\n",
    "print(arr1[1:5]) # from 1 to 4\n",
    "print(arr1[0,1]) # multi-dimensional indexing\n",
    "print(arr1[arr1 > 1]) # boolean indexing"
   ]
  },
  {
   "cell_type": "markdown",
   "id": "c21c9b81-2264-41fb-af54-7e3df1e2d2e1",
   "metadata": {},
   "source": [
    "# 4. Mathematical operations"
   ]
  },
  {
   "cell_type": "code",
   "execution_count": 19,
   "id": "7782d102-f3ee-4125-8a19-c4e46b5bf566",
   "metadata": {},
   "outputs": [
    {
     "data": {
      "text/plain": [
       "array([5, 7, 9])"
      ]
     },
     "execution_count": 19,
     "metadata": {},
     "output_type": "execute_result"
    }
   ],
   "source": [
    "arr1 = np.array([1, 2, 3])\n",
    "arr2 = np.array([4, 5, 6])\n",
    "result = arr1 + arr2  # adding\n",
    "result"
   ]
  },
  {
   "cell_type": "code",
   "execution_count": 22,
   "id": "be5e6ce6-4c02-4892-a12e-31baab9dd45c",
   "metadata": {},
   "outputs": [
    {
     "data": {
      "text/plain": [
       "array([2, 4, 6])"
      ]
     },
     "execution_count": 22,
     "metadata": {},
     "output_type": "execute_result"
    }
   ],
   "source": [
    "result = arr1 * 2\n",
    "result"
   ]
  },
  {
   "cell_type": "code",
   "execution_count": 25,
   "id": "9d85aa4d-3577-4c3b-9899-f77705f70f19",
   "metadata": {},
   "outputs": [
    {
     "name": "stdout",
     "output_type": "stream",
     "text": [
      "6\n",
      "2.0\n",
      "3\n",
      "1\n"
     ]
    }
   ],
   "source": [
    "print(arr1.sum())        # Sum of all elements\n",
    "print(arr1.mean())       # Mean of elements\n",
    "print(arr1.max())        # Maximum value\n",
    "print(arr1.min())        # Minimum value"
   ]
  },
  {
   "cell_type": "markdown",
   "id": "abeaa7b0-8a5a-45fc-ab1a-007f5315ae15",
   "metadata": {},
   "source": [
    "# 5. Datatype conversions"
   ]
  },
  {
   "cell_type": "code",
   "execution_count": 26,
   "id": "455fe379-6266-444b-8c52-aed24e133f4a",
   "metadata": {},
   "outputs": [
    {
     "name": "stdout",
     "output_type": "stream",
     "text": [
      "[1 2 3]\n"
     ]
    }
   ],
   "source": [
    "arr_float = np.array([1.1, 2.2, 3.3])\n",
    "arr_int = arr_float.astype(int) # convert to int from float\n",
    "print(arr_int)"
   ]
  },
  {
   "cell_type": "code",
   "execution_count": 27,
   "id": "487a9236-6c9c-42e1-b0ae-0a413a2f7bd8",
   "metadata": {},
   "outputs": [
    {
     "name": "stdout",
     "output_type": "stream",
     "text": [
      "[10 20 30]\n"
     ]
    }
   ],
   "source": [
    "arr_str = np.array([\"10\", \"20\", \"30\"])\n",
    "arr_int = arr_str.astype(int) # convert to int from str\n",
    "print(arr_int)"
   ]
  },
  {
   "cell_type": "code",
   "execution_count": 28,
   "id": "611a6962-34c2-482d-b2f8-81ab427c55e7",
   "metadata": {},
   "outputs": [
    {
     "name": "stdout",
     "output_type": "stream",
     "text": [
      "[1. 2. 3.]\n"
     ]
    }
   ],
   "source": [
    "arr_int = np.array([1, 2, 3])\n",
    "arr_float = arr_int.astype(float) # convert to float from int\n",
    "print(arr_float)"
   ]
  },
  {
   "cell_type": "code",
   "execution_count": 29,
   "id": "829ab35e-2d46-459f-a1fe-5bccdbaac2f0",
   "metadata": {},
   "outputs": [
    {
     "name": "stdout",
     "output_type": "stream",
     "text": [
      "['1' '2' '3']\n"
     ]
    }
   ],
   "source": [
    "arr_int = np.array([1, 2, 3])\n",
    "arr_str = arr_int.astype(str) # convert to str from int\n",
    "print(arr_str)"
   ]
  },
  {
   "cell_type": "code",
   "execution_count": 30,
   "id": "b6ba99fb-e2d8-48f1-b1f6-3f8a48add218",
   "metadata": {},
   "outputs": [
    {
     "name": "stdout",
     "output_type": "stream",
     "text": [
      "['3.14' '2.71']\n"
     ]
    }
   ],
   "source": [
    "arr_float = np.array([3.14, 2.71])\n",
    "arr_str = arr_float.astype(str) # convert to str from float\n",
    "print(arr_str)"
   ]
  },
  {
   "cell_type": "code",
   "execution_count": 31,
   "id": "a5bb30b2-ab4b-46d7-9071-46d1b35d7a7b",
   "metadata": {},
   "outputs": [
    {
     "name": "stdout",
     "output_type": "stream",
     "text": [
      "[1 2 3]\n"
     ]
    }
   ],
   "source": [
    "arr = np.array([1.5, 2.8, 3.9], dtype=float)\n",
    "arr_new = arr.astype(int)  # Convert to integer\n",
    "print(arr_new)"
   ]
  },
  {
   "cell_type": "code",
   "execution_count": 32,
   "id": "23b5d06f-6951-49df-b238-078d47dd0937",
   "metadata": {},
   "outputs": [
    {
     "name": "stdout",
     "output_type": "stream",
     "text": [
      "float64\n"
     ]
    }
   ],
   "source": [
    "arr = np.array([1.1, 2.2, 3.3])\n",
    "print(arr.dtype) # printing datatype"
   ]
  },
  {
   "cell_type": "code",
   "execution_count": 33,
   "id": "6a312c93-32dd-489a-b78d-d797b99df963",
   "metadata": {},
   "outputs": [
    {
     "name": "stdout",
     "output_type": "stream",
     "text": [
      "[1 2 3]\n"
     ]
    }
   ],
   "source": [
    "arr = np.array([1.1, 2.2, 3.3], dtype=int) # changing datatype when creating an array\n",
    "print(arr)"
   ]
  },
  {
   "cell_type": "markdown",
   "id": "da56aa24-bc88-4e5b-bf00-789519c91b65",
   "metadata": {},
   "source": [
    "# 6.Broadcasting"
   ]
  },
  {
   "cell_type": "code",
   "execution_count": 38,
   "id": "bcdb6c1e-a58f-4706-9f50-50bd3d3c1788",
   "metadata": {},
   "outputs": [
    {
     "name": "stdout",
     "output_type": "stream",
     "text": [
      "[6 7 8]\n"
     ]
    }
   ],
   "source": [
    "import numpy as np\n",
    "\n",
    "arr = np.array([1, 2, 3])\n",
    "result = arr + 5 #  scalar is broadcasted to match the shape of the array.\n",
    "print(result) \n"
   ]
  },
  {
   "cell_type": "code",
   "execution_count": 39,
   "id": "3d1ad53a-6b96-4078-bf86-b1708805c50b",
   "metadata": {},
   "outputs": [
    {
     "name": "stdout",
     "output_type": "stream",
     "text": [
      "[[11 22 33]\n",
      " [14 25 36]]\n"
     ]
    }
   ],
   "source": [
    "arr1 = np.array([[1, 2, 3], [4, 5, 6]])\n",
    "arr2 = np.array([10, 20, 30])  # Shape (3,)\n",
    "result = arr1 + arr2 # adding array with different shape\n",
    "print(result)"
   ]
  },
  {
   "cell_type": "code",
   "execution_count": 40,
   "id": "5860841d-7936-4d24-b8f7-0a3f32f9a824",
   "metadata": {},
   "outputs": [
    {
     "name": "stdout",
     "output_type": "stream",
     "text": [
      "[[11 21 31]\n",
      " [12 22 32]\n",
      " [13 23 33]]\n"
     ]
    }
   ],
   "source": [
    "arr1 = np.array([[1], [2], [3]])  # Shape (3, 1)\n",
    "arr2 = np.array([10, 20, 30])    # Shape (3,)\n",
    "result = arr1 + arr2 # broadcasting with 1d and 2d array\n",
    "print(result)"
   ]
  },
  {
   "cell_type": "code",
   "execution_count": 41,
   "id": "32657c60-4cb4-4812-a993-d4eaf682f480",
   "metadata": {},
   "outputs": [
    {
     "name": "stdout",
     "output_type": "stream",
     "text": [
      "[[ 10  20  30]\n",
      " [ 80 100 120]]\n"
     ]
    }
   ],
   "source": [
    "arr1 = np.array([[1, 2, 3], [4, 5, 6]])  # Shape (2, 3)\n",
    "arr2 = np.array([[10], [20]])           # Shape (2, 1)\n",
    "result = arr1 * arr2 # multiplying arrays with incompatible shapes\n",
    "print(result)"
   ]
  },
  {
   "cell_type": "markdown",
   "id": "c0a0047c-00c2-4b4a-8c2c-4139f36aff52",
   "metadata": {},
   "source": [
    "# 7.Array From Existing Data"
   ]
  },
  {
   "cell_type": "code",
   "execution_count": 42,
   "id": "9f90e26f-66a2-4dfe-9a06-4734c99ecaa0",
   "metadata": {},
   "outputs": [
    {
     "name": "stdout",
     "output_type": "stream",
     "text": [
      "[1 2 3 4 5 6]\n"
     ]
    }
   ],
   "source": [
    "buffer = b'\\x01\\x02\\x03\\x04\\x05\\x06'\n",
    "\n",
    "# Create an array from the buffer\n",
    "arr = np.frombuffer(buffer, dtype=np.uint8)\n",
    "print(arr)"
   ]
  },
  {
   "cell_type": "code",
   "execution_count": 43,
   "id": "44cb9eb6-a157-451b-877c-1b69011a7ac1",
   "metadata": {},
   "outputs": [
    {
     "name": "stdout",
     "output_type": "stream",
     "text": [
      "[1 2 3 4 5]\n"
     ]
    }
   ],
   "source": [
    "# numpy.fromiter(iterable, dtype=float, count=-1)\n",
    "# A list of numbers\n",
    "iterable = [1, 2, 3, 4, 5]\n",
    "\n",
    "# Convert the list into a NumPy array\n",
    "arr = np.fromiter(iterable, dtype=int)\n",
    "\n",
    "print(arr)"
   ]
  },
  {
   "cell_type": "markdown",
   "id": "88c8a2dc-4cf7-4b08-b327-3ddd586f9dcf",
   "metadata": {},
   "source": [
    "# 8. Numpy Array Iteration"
   ]
  },
  {
   "cell_type": "code",
   "execution_count": 46,
   "id": "78d7e7c5-0d8e-44f7-b254-1ca8122aed80",
   "metadata": {},
   "outputs": [
    {
     "name": "stdout",
     "output_type": "stream",
     "text": [
      "1\n",
      "2\n",
      "3\n",
      "4\n",
      "5\n",
      "6\n"
     ]
    }
   ],
   "source": [
    "arr = np.array([[1, 2, 3], [4, 5, 6]])\n",
    "\n",
    "# Iterate over rows using for loop\n",
    "for row in arr:\n",
    "    for element in row:\n",
    "        print(element)"
   ]
  },
  {
   "cell_type": "code",
   "execution_count": 47,
   "id": "6e413380-113e-449e-964b-38a9796469aa",
   "metadata": {},
   "outputs": [
    {
     "name": "stdout",
     "output_type": "stream",
     "text": [
      "1\n",
      "2\n",
      "3\n",
      "4\n",
      "5\n",
      "6\n"
     ]
    }
   ],
   "source": [
    "arr = np.array([[1, 2, 3], [4, 5, 6]])\n",
    "\n",
    "# Iterate 2d array using nditer\n",
    "for element in np.nditer(arr):\n",
    "    print(element)"
   ]
  },
  {
   "cell_type": "code",
   "execution_count": 48,
   "id": "8cd53a64-162a-4965-8dfc-fe4588b5b39b",
   "metadata": {},
   "outputs": [
    {
     "name": "stdout",
     "output_type": "stream",
     "text": [
      "Index: (0, 0), Value: 1\n",
      "Index: (0, 1), Value: 2\n",
      "Index: (0, 2), Value: 3\n",
      "Index: (1, 0), Value: 4\n",
      "Index: (1, 1), Value: 5\n",
      "Index: (1, 2), Value: 6\n"
     ]
    }
   ],
   "source": [
    "# Iterate with indices using ndenumerate\n",
    "for idx, element in np.ndenumerate(arr):\n",
    "    print(f\"Index: {idx}, Value: {element}\")"
   ]
  },
  {
   "cell_type": "markdown",
   "id": "bf3e7455-797a-437d-adc7-065f799db853",
   "metadata": {},
   "source": [
    "# 9. Updating numpy array"
   ]
  },
  {
   "cell_type": "code",
   "execution_count": 49,
   "id": "de5f2831-5e1e-4212-becd-722124bae9ad",
   "metadata": {},
   "outputs": [
    {
     "name": "stdout",
     "output_type": "stream",
     "text": [
      "[9 9 9 9 9]\n"
     ]
    }
   ],
   "source": [
    "arr = np.array([1, 2, 3, 4, 5])\n",
    "arr.fill(9)  # Fill the array with 9\n",
    "print(arr)"
   ]
  },
  {
   "cell_type": "code",
   "execution_count": 50,
   "id": "0b923472-cdac-45bb-8644-18de790924f1",
   "metadata": {},
   "outputs": [
    {
     "name": "stdout",
     "output_type": "stream",
     "text": [
      "[10  1 20  3 30]\n"
     ]
    }
   ],
   "source": [
    "arr = np.array([0, 1, 2, 3, 4])\n",
    "arr.put([0, 2, 4], [10, 20, 30])  # Replace elements at indices 0, 2, 4 with 10, 20, 30\n",
    "print(arr)"
   ]
  },
  {
   "cell_type": "code",
   "execution_count": 51,
   "id": "6490772a-1c1c-4b77-9e53-8f22478e418e",
   "metadata": {},
   "outputs": [
    {
     "name": "stdout",
     "output_type": "stream",
     "text": [
      "[1 0 3 0 5 0]\n"
     ]
    }
   ],
   "source": [
    "arr = np.array([1, 2, 3, 4, 5, 6])\n",
    "\n",
    "#boolean indexing\n",
    "arr[arr % 2 == 0] = 0  # Set all even numbers to 0\n",
    "print(arr)"
   ]
  },
  {
   "cell_type": "code",
   "execution_count": 52,
   "id": "319550f8-07e9-4dd9-8293-ea7274115123",
   "metadata": {},
   "outputs": [
    {
     "name": "stdout",
     "output_type": "stream",
     "text": [
      "[ 1  2 99  4  5]\n"
     ]
    }
   ],
   "source": [
    "arr = np.array([1, 2, 3, 4, 5])\n",
    "arr[2] = 99  # Assign 99 to the element at index 2\n",
    "print(arr)"
   ]
  },
  {
   "cell_type": "code",
   "execution_count": 53,
   "id": "d9fb1141-1a95-4d4b-a0fe-408e9011eece",
   "metadata": {},
   "outputs": [
    {
     "name": "stdout",
     "output_type": "stream",
     "text": [
      "[ 1 10 20 30  5]\n"
     ]
    }
   ],
   "source": [
    "arr = np.array([1, 2, 3, 4, 5])\n",
    "arr[1:4] = [10, 20, 30]  # Replace elements from index 1 to 3 with new values\n",
    "print(arr)"
   ]
  },
  {
   "cell_type": "markdown",
   "id": "d0a6fe61-ecf2-43ea-8ff3-b789da1de4ac",
   "metadata": {},
   "source": [
    "# 10.Array Manipulation"
   ]
  },
  {
   "cell_type": "code",
   "execution_count": 56,
   "id": "3406ca13-1e16-4cb0-aeeb-bd93cde4d701",
   "metadata": {},
   "outputs": [
    {
     "name": "stdout",
     "output_type": "stream",
     "text": [
      "[10 10 10 15 20]\n"
     ]
    }
   ],
   "source": [
    "arr = np.array([1, 5, 10, 15, 20])\n",
    "clipped_arr = arr.clip(10, 20) # clip(min,max)\n",
    "print(clipped_arr)"
   ]
  },
  {
   "cell_type": "code",
   "execution_count": 57,
   "id": "28f472bc-0d3f-4835-86c3-a3e893a5362d",
   "metadata": {},
   "outputs": [
    {
     "name": "stdout",
     "output_type": "stream",
     "text": [
      "[4 3 2 1]\n"
     ]
    }
   ],
   "source": [
    "arr = np.array([1, 2, 3, 4])\n",
    "flipped_arr = np.flip(arr) # flip method reverse an array along a specified axis flip(arr,axis=None)\n",
    "print(flipped_arr)"
   ]
  },
  {
   "cell_type": "code",
   "execution_count": 58,
   "id": "945d7ac0-93e9-462f-b86b-7df4bafe50fb",
   "metadata": {},
   "outputs": [
    {
     "name": "stdout",
     "output_type": "stream",
     "text": [
      "[1 1 3 4 5 9]\n"
     ]
    }
   ],
   "source": [
    "arr = np.array([3, 1, 4, 1, 5, 9])\n",
    "arr.sort() # sort an array\n",
    "print(arr)"
   ]
  },
  {
   "cell_type": "code",
   "execution_count": 59,
   "id": "e81d211a-7688-42d2-a182-5658fe0638e9",
   "metadata": {},
   "outputs": [
    {
     "name": "stdout",
     "output_type": "stream",
     "text": [
      "[1 2 3]\n"
     ]
    }
   ],
   "source": [
    "arr = np.array([1, 2, 2, 3, 3, 3])\n",
    "unique_arr = np.unique(arr) # pring unique elements\n",
    "print(unique_arr)"
   ]
  },
  {
   "cell_type": "code",
   "execution_count": 60,
   "id": "80ad1d07-52a7-43d4-ae8d-92e8964ea563",
   "metadata": {},
   "outputs": [
    {
     "name": "stdout",
     "output_type": "stream",
     "text": [
      "[1 2 3 4 5]\n"
     ]
    }
   ],
   "source": [
    "arr = np.array([1, 2, 3])\n",
    "new_arr = np.append(arr, [4, 5]) # append elements at last\n",
    "print(new_arr)"
   ]
  },
  {
   "cell_type": "code",
   "execution_count": 61,
   "id": "7034a449-331d-4cbb-a530-fed1336648ec",
   "metadata": {},
   "outputs": [
    {
     "name": "stdout",
     "output_type": "stream",
     "text": [
      "[1 2 3 4 5]\n"
     ]
    }
   ],
   "source": [
    "arr = np.array([1, 2, 4, 5])\n",
    "new_arr = np.insert(arr, 2, 3)  # Insert 3 at index 2\n",
    "print(new_arr)"
   ]
  },
  {
   "cell_type": "code",
   "execution_count": 64,
   "id": "802c0e91-9de5-4ed5-8c7f-23c72b7ca6eb",
   "metadata": {},
   "outputs": [
    {
     "name": "stdout",
     "output_type": "stream",
     "text": [
      "[1 3 5]\n"
     ]
    }
   ],
   "source": [
    "arr = np.array([1, 2, 3, 4, 5])\n",
    "new_arr = np.delete(arr, [1, 3]) # delete the elements on specified index\n",
    "print(new_arr)"
   ]
  },
  {
   "cell_type": "code",
   "execution_count": 65,
   "id": "f8db989f-2b82-4aef-bfb8-6ed5ec7a547e",
   "metadata": {},
   "outputs": [
    {
     "name": "stdout",
     "output_type": "stream",
     "text": [
      "[[1 4]\n",
      " [2 5]\n",
      " [3 6]]\n"
     ]
    }
   ],
   "source": [
    "arr = np.array([[1, 2, 3], [4, 5, 6]])\n",
    "transposed_arr = arr.transpose()\n",
    "print(transposed_arr)"
   ]
  },
  {
   "cell_type": "code",
   "execution_count": 66,
   "id": "7297008a-bacf-4efb-b9fc-2be1718f0c46",
   "metadata": {},
   "outputs": [
    {
     "name": "stdout",
     "output_type": "stream",
     "text": [
      "[1 2 3 4 5 6]\n"
     ]
    }
   ],
   "source": [
    "arr = np.array([[1, 2], [3, 4], [5, 6]])\n",
    "raveled_arr = arr.ravel() # make flattened 1d array\n",
    "print(raveled_arr)"
   ]
  },
  {
   "cell_type": "code",
   "execution_count": 67,
   "id": "c371f0ef-9ea5-4296-a7b5-0fa9f7fe053c",
   "metadata": {},
   "outputs": [
    {
     "name": "stdout",
     "output_type": "stream",
     "text": [
      "[1 2 3 4 5 6]\n"
     ]
    }
   ],
   "source": [
    "arr = np.array([[1, 2], [3, 4], [5, 6]])\n",
    "flattened_arr = arr.flatten() # copy of array into 1d array\n",
    "print(flattened_arr)"
   ]
  },
  {
   "cell_type": "code",
   "execution_count": 68,
   "id": "77c2d769-0d44-4c46-a2d9-b7340281e6fa",
   "metadata": {},
   "outputs": [
    {
     "name": "stdout",
     "output_type": "stream",
     "text": [
      "[[1 2 3]\n",
      " [4 5 6]]\n"
     ]
    }
   ],
   "source": [
    "arr = np.array([1, 2, 3, 4, 5, 6])\n",
    "reshaped_arr = arr.reshape(2, 3)\n",
    "print(reshaped_arr)"
   ]
  },
  {
   "cell_type": "code",
   "execution_count": 69,
   "id": "9317d187-1464-45ba-aec8-c7aeb33def52",
   "metadata": {},
   "outputs": [
    {
     "name": "stdout",
     "output_type": "stream",
     "text": [
      "[1 2 3]\n"
     ]
    }
   ],
   "source": [
    "arr = np.array([1, 2, 3, 4, 5])\n",
    "arr.resize(3)  # Resize to a shape of 3 elements\n",
    "print(arr) "
   ]
  },
  {
   "cell_type": "markdown",
   "id": "1f5055a3-587a-4094-94fa-fb0a92a2f211",
   "metadata": {},
   "source": [
    "# 11.String Functions"
   ]
  },
  {
   "cell_type": "code",
   "execution_count": 70,
   "id": "6e477fbc-cfba-4181-bbdf-2269ee94a6a7",
   "metadata": {},
   "outputs": [
    {
     "name": "stdout",
     "output_type": "stream",
     "text": [
      "['HelloWorld' 'GoodMorning']\n"
     ]
    }
   ],
   "source": [
    "arr1 = np.array(['Hello', 'Good'])\n",
    "arr2 = np.array(['World', 'Morning'])\n",
    "result = np.char.add(arr1, arr2) # add element rowwise\n",
    "print(result)"
   ]
  },
  {
   "cell_type": "code",
   "execution_count": 71,
   "id": "6fc42cc4-37b5-4d99-ae6f-90cdac2add41",
   "metadata": {},
   "outputs": [
    {
     "name": "stdout",
     "output_type": "stream",
     "text": [
      "['hello' 'world']\n"
     ]
    }
   ],
   "source": [
    "arr = np.array(['Hello', 'WORLD'])\n",
    "result = np.char.lower(arr) # to lowercase\n",
    "print(result)"
   ]
  },
  {
   "cell_type": "code",
   "execution_count": 72,
   "id": "1f918097-6a24-4d98-9190-a766439666ce",
   "metadata": {},
   "outputs": [
    {
     "name": "stdout",
     "output_type": "stream",
     "text": [
      "['HELLO' 'WORLD']\n"
     ]
    }
   ],
   "source": [
    "arr = np.array(['Hello', 'world'])\n",
    "result = np.char.upper(arr) # to upper case\n",
    "print(result)"
   ]
  },
  {
   "cell_type": "code",
   "execution_count": 74,
   "id": "cbe3633d-1f40-483f-a3b9-e53026d03d01",
   "metadata": {},
   "outputs": [
    {
     "name": "stdout",
     "output_type": "stream",
     "text": [
      "['Hello World' 'Good Morning']\n"
     ]
    }
   ],
   "source": [
    "arr = np.array(['hello world', 'good morning'])\n",
    "result = np.char.title(arr) # convert first char to upper case and other to lower\n",
    "print(result)"
   ]
  },
  {
   "cell_type": "code",
   "execution_count": 76,
   "id": "5591610f-b835-4cac-a01f-7f094b0aa5e5",
   "metadata": {},
   "outputs": [
    {
     "name": "stdout",
     "output_type": "stream",
     "text": [
      "['hello' 'world']\n"
     ]
    }
   ],
   "source": [
    "arr = np.array(['  hello  ', ' world '])\n",
    "result = np.char.strip(arr) # removes leading and trailing whitespaces in an array\n",
    "print(result)"
   ]
  },
  {
   "cell_type": "code",
   "execution_count": 77,
   "id": "c81635b2-2a0c-4a22-944c-ea84ee29af10",
   "metadata": {},
   "outputs": [
    {
     "name": "stdout",
     "output_type": "stream",
     "text": [
      "[list(['Hello', 'World']) list(['Good', 'Morning'])]\n"
     ]
    }
   ],
   "source": [
    "arr = np.array(['Hello World', 'Good Morning'])\n",
    "result = np.char.split(arr) # Splits each string in the array into a list of words using a specified delimiter (default is space).\n",
    "print(result)"
   ]
  },
  {
   "cell_type": "code",
   "execution_count": 79,
   "id": "01ed703e-8482-4ebf-ae8b-618a9efec8a0",
   "metadata": {},
   "outputs": [
    {
     "name": "stdout",
     "output_type": "stream",
     "text": [
      "['Hello Universe' 'Good Morning']\n"
     ]
    }
   ],
   "source": [
    "arr = np.array(['Hello World', 'Good Morning'])\n",
    "result = np.char.replace(arr, 'World', 'Universe') # Replaces a substring within each string of the array with a new substring.\n",
    "\n",
    "print(result)"
   ]
  },
  {
   "cell_type": "code",
   "execution_count": 80,
   "id": "4515b227-1f39-43b0-bed6-aa41155f2a99",
   "metadata": {},
   "outputs": [
    {
     "name": "stdout",
     "output_type": "stream",
     "text": [
      "[2 3]\n"
     ]
    }
   ],
   "source": [
    "arr = np.array(['Hello World', 'Good Morning'])\n",
    "result = np.char.count(arr, 'o') # count character in array\n",
    "print(result)"
   ]
  },
  {
   "cell_type": "markdown",
   "id": "5a9561a8-b483-44d2-b7f0-aac39e3a9f71",
   "metadata": {},
   "source": [
    "# 12.Trigonometric Functions"
   ]
  },
  {
   "cell_type": "code",
   "execution_count": 81,
   "id": "879d3862-1e7e-4fdc-9b99-384378d6154a",
   "metadata": {},
   "outputs": [
    {
     "name": "stdout",
     "output_type": "stream",
     "text": [
      "Sine: [ 0.00000000e+00  1.00000000e+00  1.22464680e-16 -1.00000000e+00\n",
      "  7.07106781e-01 -7.07106781e-01]\n",
      "Cosine: [ 1.00000000e+00  6.12323400e-17 -1.00000000e+00 -1.83697020e-16\n",
      "  7.07106781e-01  7.07106781e-01]\n",
      "Tangent: [ 0.00000000e+00  1.63312394e+16 -1.22464680e-16  5.44374645e+15\n",
      "  1.00000000e+00 -1.00000000e+00]\n",
      "Arcsine: [0.         0.52359878 1.57079633]\n",
      "Arccosine: [0.         1.04719755 1.57079633]\n",
      "Arctangent: [ 0.          0.78539816 -0.78539816]\n",
      "Hyperbolic Sine: [ 0.          2.3012989  11.54873936 55.6543976   0.86867096 -0.86867096]\n",
      "Hyperbolic Cosine: [ 1.          2.50917848 11.59195328 55.66338089  1.32460909  1.32460909]\n",
      "Hyperbolic Tangent: [ 0.          0.91715234  0.99627208  0.99983861  0.6557942  -0.6557942 ]\n",
      "Arcsinh: [ 0.          0.88137359 -0.88137359]\n",
      "Arccosh: [0.         1.3169579  1.76274717]\n",
      "Arctanh: [ 0.          0.54930614 -0.54930614]\n"
     ]
    }
   ],
   "source": [
    "import numpy as np\n",
    "\n",
    "# Define an array of angles (in radians)\n",
    "arr = np.array([0, np.pi/2, np.pi, 3*np.pi/2, np.pi/4, -np.pi/4])\n",
    "\n",
    "# 1. Sine of each element\n",
    "sin_result = np.sin(arr)\n",
    "print(\"Sine:\", sin_result)\n",
    "\n",
    "# 2. Cosine of each element\n",
    "cos_result = np.cos(arr)\n",
    "print(\"Cosine:\", cos_result)\n",
    "\n",
    "# 3. Tangent of each element\n",
    "tan_result = np.tan(arr)\n",
    "print(\"Tangent:\", tan_result)\n",
    "\n",
    "# 4. Inverse Sine (arcsin) of each element\n",
    "arcsin_result = np.arcsin(np.array([0, 0.5, 1]))  # Example with valid inputs\n",
    "print(\"Arcsine:\", arcsin_result)\n",
    "\n",
    "# 5. Inverse Cosine (arccos) of each element\n",
    "arccos_result = np.arccos(np.array([1, 0.5, 0]))  # Example with valid inputs\n",
    "print(\"Arccosine:\", arccos_result)\n",
    "\n",
    "# 6. Inverse Tangent (arctan) of each element\n",
    "arctan_result = np.arctan(np.array([0, 1, -1]))\n",
    "print(\"Arctangent:\", arctan_result)\n",
    "\n",
    "# 7. Hyperbolic Sine of each element\n",
    "sinh_result = np.sinh(arr)\n",
    "print(\"Hyperbolic Sine:\", sinh_result)\n",
    "\n",
    "# 8. Hyperbolic Cosine of each element\n",
    "cosh_result = np.cosh(arr)\n",
    "print(\"Hyperbolic Cosine:\", cosh_result)\n",
    "\n",
    "# 9. Hyperbolic Tangent of each element\n",
    "tanh_result = np.tanh(arr)\n",
    "print(\"Hyperbolic Tangent:\", tanh_result)\n",
    "\n",
    "# 10. Inverse Hyperbolic Sine of each element\n",
    "arcsinh_result = np.arcsinh(np.array([0, 1, -1]))\n",
    "print(\"Arcsinh:\", arcsinh_result)\n",
    "\n",
    "# 11. Inverse Hyperbolic Cosine of each element\n",
    "arccosh_result = np.arccosh(np.array([1, 2, 3]))\n",
    "print(\"Arccosh:\", arccosh_result)\n",
    "\n",
    "# 12. Inverse Hyperbolic Tangent of each element\n",
    "arctanh_result = np.arctanh(np.array([0, 0.5, -0.5]))\n",
    "print(\"Arctanh:\", arctanh_result)\n"
   ]
  },
  {
   "cell_type": "markdown",
   "id": "f29d4128-b41c-45a2-b8d3-c9a4e5062e76",
   "metadata": {},
   "source": [
    "# 13. Math in array in numpy"
   ]
  },
  {
   "cell_type": "code",
   "execution_count": 83,
   "id": "42350602-8dd3-426f-bc32-445395238845",
   "metadata": {},
   "outputs": [
    {
     "name": "stdout",
     "output_type": "stream",
     "text": [
      "Addition: [5 7 9]\n",
      "Subtraction: [-3 -3 -3]\n",
      "Multiplication: [ 4 10 18]\n",
      "Division: [0.25 0.4  0.5 ]\n",
      "Exponentiation: [1 4 9]\n",
      "\n",
      "Square Root: [2.         2.23606798 2.44948974]\n",
      "Exponential (e^x): [ 2.71828183  7.3890561  20.08553692]\n",
      "Logarithm (Natural log): [1.38629436 1.60943791 1.79175947]\n",
      "\n",
      "Mean: 2.0\n",
      "Sum: 6\n",
      "Standard Deviation: 0.816496580927726\n",
      "Maximum: 6\n",
      "Minimum: 4\n"
     ]
    }
   ],
   "source": [
    "import numpy as np\n",
    "\n",
    "# ----------------------------------------------\n",
    "# 1. Basic Mathematical Operations\n",
    "# ----------------------------------------------\n",
    "\n",
    "arr1 = np.array([1, 2, 3])  # First array\n",
    "arr2 = np.array([4, 5, 6])  # Second array\n",
    "\n",
    "# 1. Addition\n",
    "addition_result = arr1 + arr2\n",
    "print(\"Addition:\", addition_result)\n",
    "\n",
    "# 2. Subtraction\n",
    "subtraction_result = arr1 - arr2\n",
    "print(\"Subtraction:\", subtraction_result)\n",
    "\n",
    "# 3. Multiplication\n",
    "multiplication_result = arr1 * arr2\n",
    "print(\"Multiplication:\", multiplication_result)\n",
    "\n",
    "# 4. Division\n",
    "division_result = arr1 / arr2\n",
    "print(\"Division:\", division_result)\n",
    "\n",
    "# 5. Exponentiation\n",
    "exponentiation_result = arr1 ** 2\n",
    "print(\"Exponentiation:\", exponentiation_result)\n",
    "\n",
    "# ----------------------------------------------\n",
    "# 2. More Mathematical Functions\n",
    "# ----------------------------------------------\n",
    "\n",
    "# 6. Square root\n",
    "sqrt_result = np.sqrt(arr2)\n",
    "print(\"\\nSquare Root:\", sqrt_result)\n",
    "\n",
    "# 7. Exponential (e^x)\n",
    "exp_result = np.exp(arr1)\n",
    "print(\"Exponential (e^x):\", exp_result)\n",
    "\n",
    "# 8. Logarithm (Natural log)\n",
    "log_result = np.log(arr2)\n",
    "print(\"Logarithm (Natural log):\", log_result)\n",
    "\n",
    "# 9. Mean of elements\n",
    "mean_result = np.mean(arr1)\n",
    "print(\"\\nMean:\", mean_result)\n",
    "\n",
    "# 10. Sum of elements\n",
    "sum_result = np.sum(arr1)\n",
    "print(\"Sum:\", sum_result)\n",
    "\n",
    "# 11. Standard Deviation\n",
    "std_result = np.std(arr1)\n",
    "print(\"Standard Deviation:\", std_result)\n",
    "\n",
    "# 12. Maximum value\n",
    "max_result = np.max(arr2)\n",
    "print(\"Maximum:\", max_result)\n",
    "\n",
    "# 13. Minimum value\n",
    "min_result = np.min(arr2)\n",
    "print(\"Minimum:\", min_result)\n",
    "\n",
    "\n"
   ]
  },
  {
   "cell_type": "markdown",
   "id": "7ee3777c-a08e-45af-94dd-b605d58ced6f",
   "metadata": {},
   "source": [
    "# 14.Statistical Functions"
   ]
  },
  {
   "cell_type": "code",
   "execution_count": 84,
   "id": "06efee8b-9827-4de1-9175-78c32c329838",
   "metadata": {},
   "outputs": [
    {
     "name": "stdout",
     "output_type": "stream",
     "text": [
      "Mean: 5.5\n",
      "Median: 5.5\n",
      "Variance: 8.25\n",
      "Standard Deviation: 2.8722813232690143\n",
      "Minimum: 1\n",
      "Maximum: 10\n",
      "Sum: 55\n",
      "Product: 3628800\n",
      "50th Percentile: 5.5\n",
      "Cumulative Sum: [ 1  3  6 10 15 21 28 36 45 55]\n",
      "Cumulative Product: [      1       2       6      24     120     720    5040   40320  362880\n",
      " 3628800]\n",
      "Correlation Coefficient:\n",
      " [[ 1. -1.]\n",
      " [-1.  1.]]\n",
      "Covariance Matrix:\n",
      " [[ 2.5 -2.5]\n",
      " [-2.5  2.5]]\n",
      "Interquartile Range (IQR): 4.5\n"
     ]
    }
   ],
   "source": [
    "arr = np.array([1, 2, 3, 4, 5, 6, 7, 8, 9, 10])\n",
    "\n",
    "# 1. Mean\n",
    "mean_value = np.mean(arr)\n",
    "print(\"Mean:\", mean_value)\n",
    "\n",
    "# 2. Median\n",
    "median_value = np.median(arr)\n",
    "print(\"Median:\", median_value)\n",
    "\n",
    "# 3. Variance\n",
    "variance_value = np.var(arr)\n",
    "print(\"Variance:\", variance_value)\n",
    "\n",
    "# 4. Standard Deviation\n",
    "std_dev_value = np.std(arr)\n",
    "print(\"Standard Deviation:\", std_dev_value)\n",
    "\n",
    "# 5. Minimum Value\n",
    "min_value = np.min(arr)\n",
    "print(\"Minimum:\", min_value)\n",
    "\n",
    "# 6. Maximum Value\n",
    "max_value = np.max(arr)\n",
    "print(\"Maximum:\", max_value)\n",
    "\n",
    "# 7. Sum\n",
    "sum_value = np.sum(arr)\n",
    "print(\"Sum:\", sum_value)\n",
    "\n",
    "# 8. Product\n",
    "product_value = np.prod(arr)\n",
    "print(\"Product:\", product_value)\n",
    "\n",
    "# 9. Percentile (50th percentile - Median)\n",
    "percentile_value = np.percentile(arr, 50)\n",
    "print(\"50th Percentile:\", percentile_value)\n",
    "\n",
    "# 10. Cumulative Sum\n",
    "cumsum_value = np.cumsum(arr)\n",
    "print(\"Cumulative Sum:\", cumsum_value)\n",
    "\n",
    "# 11. Cumulative Product\n",
    "cumprod_value = np.cumprod(arr)\n",
    "print(\"Cumulative Product:\", cumprod_value)\n",
    "\n",
    "# Example for two arrays:\n",
    "arr1 = np.array([1, 2, 3, 4, 5])\n",
    "arr2 = np.array([5, 4, 3, 2, 1])\n",
    "\n",
    "# 12. Correlation Coefficient\n",
    "corrcoef_value = np.corrcoef(arr1, arr2)\n",
    "print(\"Correlation Coefficient:\\n\", corrcoef_value)\n",
    "\n",
    "# 13. Covariance Matrix\n",
    "cov_value = np.cov(arr1, arr2)\n",
    "print(\"Covariance Matrix:\\n\", cov_value)\n",
    "\n",
    "# 14. Interquartile Range (IQR)\n",
    "iqr_value = np.percentile(arr, 75) - np.percentile(arr, 25)\n",
    "print(\"Interquartile Range (IQR):\", iqr_value)"
   ]
  },
  {
   "cell_type": "markdown",
   "id": "e83db07b-14d8-48c6-b168-0eba23ffee39",
   "metadata": {},
   "source": [
    "# 15.Numpy Sorting"
   ]
  },
  {
   "cell_type": "code",
   "execution_count": 85,
   "id": "9feaeb2d-1029-4ee1-94d2-ade49fa6129e",
   "metadata": {},
   "outputs": [
    {
     "name": "stdout",
     "output_type": "stream",
     "text": [
      "Sorted Array: [1 1 2 3 3 4 5 5 5 6 9]\n"
     ]
    }
   ],
   "source": [
    "arr = np.array([3, 1, 4, 1, 5, 9, 2, 6, 5, 3, 5])\n",
    "\n",
    "sorted_arr = np.sort(arr)\n",
    "print(\"Sorted Array:\", sorted_arr)"
   ]
  },
  {
   "cell_type": "code",
   "execution_count": 86,
   "id": "953ecd30-6cd1-49ca-86a4-2755d7108506",
   "metadata": {},
   "outputs": [
    {
     "name": "stdout",
     "output_type": "stream",
     "text": [
      "Indices that would sort the array: [ 1  3  6  0  9  2  4  8 10  7  5]\n"
     ]
    }
   ],
   "source": [
    "arr = np.array([3, 1, 4, 1, 5, 9, 2, 6, 5, 3, 5])\n",
    "\n",
    "sorted_indices = np.argsort(arr) # Returns the indices that would sort an array.\n",
    "print(\"Indices that would sort the array:\", sorted_indices)"
   ]
  },
  {
   "cell_type": "code",
   "execution_count": 87,
   "id": "574e05ba-b22b-43e6-914b-96c82b9b347a",
   "metadata": {},
   "outputs": [
    {
     "name": "stdout",
     "output_type": "stream",
     "text": [
      "Partitioned Array: [1 1 2 3 3 4 5 5 6 5 9]\n"
     ]
    }
   ],
   "source": [
    "arr = np.array([3, 1, 4, 1, 5, 9, 2, 6, 5, 3, 5])\n",
    "\n",
    "partitioned_arr = np.partition(arr, 4)  # Partition around the 4th smallest element\n",
    "print(\"Partitioned Array:\", partitioned_arr)"
   ]
  },
  {
   "cell_type": "code",
   "execution_count": 88,
   "id": "175264d0-6483-4a9c-bbda-912bcd73fece",
   "metadata": {},
   "outputs": [
    {
     "name": "stdout",
     "output_type": "stream",
     "text": [
      "Descending Sorted Array: [9 6 5 5 5 4 3 3 2 1 1]\n"
     ]
    }
   ],
   "source": [
    "# Sort in descending order using np.sort\n",
    "desc_sorted_arr = np.sort(arr)[::-1]\n",
    "print(\"Descending Sorted Array:\", desc_sorted_arr)"
   ]
  },
  {
   "cell_type": "code",
   "execution_count": 89,
   "id": "8397144b-0f20-48ef-a872-52132a85b099",
   "metadata": {},
   "outputs": [
    {
     "name": "stdout",
     "output_type": "stream",
     "text": [
      "Mergesort Sorted Array: [1 1 2 3 3 4 5 5 5 6 9]\n"
     ]
    }
   ],
   "source": [
    "sorted_arr_mergesort = np.sort(arr, kind='mergesort')\n",
    "print(\"Mergesort Sorted Array:\", sorted_arr_mergesort)"
   ]
  },
  {
   "cell_type": "markdown",
   "id": "601dff59-3e9e-46ca-bf46-8a4cdd38a351",
   "metadata": {},
   "source": [
    "# 16. Filteration"
   ]
  },
  {
   "cell_type": "code",
   "execution_count": 90,
   "id": "c500854e-8646-494f-b889-495b86f8b482",
   "metadata": {},
   "outputs": [
    {
     "name": "stdout",
     "output_type": "stream",
     "text": [
      "Filtered Array (greater than 3 and less than 8): [4 5 6 7]\n"
     ]
    }
   ],
   "source": [
    "arr = np.array([1, 2, 3, 4, 5, 6, 7, 8, 9])\n",
    "# Filter elements greater than 3 and less than 8, boolean indexing or masking\n",
    "filtered_arr_multiple_conditions = arr[(arr > 3) & (arr < 8)]\n",
    "print(\"Filtered Array (greater than 3 and less than 8):\", filtered_arr_multiple_conditions)"
   ]
  },
  {
   "cell_type": "code",
   "execution_count": 91,
   "id": "80d237e3-97b6-4c34-9654-354658838492",
   "metadata": {},
   "outputs": [
    {
     "name": "stdout",
     "output_type": "stream",
     "text": [
      "Indices of elements greater than 5: (array([5, 6, 7, 8], dtype=int64),)\n",
      "Array with elements greater than 5 replaced by 0: [1 2 3 4 5 0 0 0 0]\n"
     ]
    }
   ],
   "source": [
    "indices = np.where(arr > 5)\n",
    "print(\"Indices of elements greater than 5:\", indices)\n",
    "\n",
    "# Replace elements greater than 5 with 0\n",
    "arr_filtered = np.where(arr > 5, 0, arr)\n",
    "print(\"Array with elements greater than 5 replaced by 0:\", arr_filtered)"
   ]
  },
  {
   "cell_type": "code",
   "execution_count": 92,
   "id": "5b249120-a1d3-417a-997a-21470fd3dbf0",
   "metadata": {},
   "outputs": [
    {
     "name": "stdout",
     "output_type": "stream",
     "text": [
      "Extracted Elements (greater than 5): [6 7 8 9]\n"
     ]
    }
   ],
   "source": [
    "# Extract elements greater than 5\n",
    "extracted_elements = np.extract(arr > 5, arr)\n",
    "print(\"Extracted Elements (greater than 5):\", extracted_elements)\n"
   ]
  },
  {
   "cell_type": "code",
   "execution_count": 93,
   "id": "5456cb9a-7e7e-47de-b1e8-e51d7371b631",
   "metadata": {},
   "outputs": [
    {
     "name": "stdout",
     "output_type": "stream",
     "text": [
      "Filtered 2D Array (greater than 5): [6 7 8 9]\n"
     ]
    }
   ],
   "source": [
    "arr_2d = np.array([[1, 2, 3], [4, 5, 6], [7, 8, 9]])\n",
    "\n",
    "# Filter elements greater than 5 in 2D array\n",
    "filtered_2d = arr_2d[arr_2d > 5]\n",
    "print(\"Filtered 2D Array (greater than 5):\", filtered_2d)"
   ]
  },
  {
   "cell_type": "code",
   "execution_count": 94,
   "id": "2e01c2ca-93eb-4676-964b-f14297e43aa0",
   "metadata": {},
   "outputs": [
    {
     "name": "stdout",
     "output_type": "stream",
     "text": [
      "Are all elements greater than 2? False\n",
      "Is any element greater than 8? True\n"
     ]
    }
   ],
   "source": [
    "arr_2d = np.array([[1, 2, 3], [4, 5, 6], [7, 8, 9]])\n",
    "\n",
    "# Check if all elements in the array are greater than 2\n",
    "all_elements_greater_than_2 = np.all(arr_2d > 2)\n",
    "print(\"Are all elements greater than 2?\", all_elements_greater_than_2)\n",
    "\n",
    "# Check if any element in the array is greater than 8\n",
    "any_element_greater_than_8 = np.any(arr_2d > 8)\n",
    "print(\"Is any element greater than 8?\", any_element_greater_than_8)"
   ]
  },
  {
   "cell_type": "code",
   "execution_count": 95,
   "id": "597949f2-a60b-4c3c-aea5-e2f415649b8b",
   "metadata": {},
   "outputs": [
    {
     "name": "stdout",
     "output_type": "stream",
     "text": [
      "Indices of non-zero elements: (array([0, 1, 2, 3, 4, 5, 6, 7, 8], dtype=int64),)\n",
      "Non-zero elements: [1 2 3 4 5 6 7 8 9]\n"
     ]
    }
   ],
   "source": [
    "non_zero_indices = np.nonzero(arr)\n",
    "print(\"Indices of non-zero elements:\", non_zero_indices)\n",
    "\n",
    "# Get the non-zero elements themselves\n",
    "non_zero_elements = arr[non_zero_indices]\n",
    "print(\"Non-zero elements:\", non_zero_elements)"
   ]
  },
  {
   "cell_type": "markdown",
   "id": "2b6edb85-5fd2-4324-bc0e-af9660dd50e0",
   "metadata": {},
   "source": [
    "# 17. View in numpy"
   ]
  },
  {
   "cell_type": "code",
   "execution_count": 96,
   "id": "671dc742-905b-4f0b-8093-812376a980d3",
   "metadata": {},
   "outputs": [
    {
     "name": "stdout",
     "output_type": "stream",
     "text": [
      "Original Array after view modification: [ 1  2 99  4  5]\n",
      "View Array: [99  4]\n"
     ]
    }
   ],
   "source": [
    "# Create an array\n",
    "arr = np.array([1, 2, 3, 4, 5])\n",
    "\n",
    "# Create a view (shallow copy) of the original array\n",
    "arr_view = arr[2:4]\n",
    "\n",
    "# Modify the view\n",
    "arr_view[0] = 99\n",
    "\n",
    "print(\"Original Array after view modification:\", arr)\n",
    "print(\"View Array:\", arr_view)"
   ]
  },
  {
   "cell_type": "markdown",
   "id": "6bb1aa3b-997d-4c70-91fe-b2104c090987",
   "metadata": {},
   "source": [
    "# 18. Copy in numpy"
   ]
  },
  {
   "cell_type": "code",
   "execution_count": 97,
   "id": "ff26244e-1333-4e80-b215-c417bb8002e6",
   "metadata": {},
   "outputs": [
    {
     "name": "stdout",
     "output_type": "stream",
     "text": [
      "Original Array after copy modification: [ 1  2 99  4  5]\n",
      "Copy Array: [100   2  99   4   5]\n"
     ]
    }
   ],
   "source": [
    "# Create a copy of the original array\n",
    "arr_copy = np.copy(arr)\n",
    "\n",
    "# Modify the copy\n",
    "arr_copy[0] = 100\n",
    "\n",
    "print(\"Original Array after copy modification:\", arr)\n",
    "print(\"Copy Array:\", arr_copy)"
   ]
  },
  {
   "cell_type": "code",
   "execution_count": null,
   "id": "b8b93171-0fc1-4dfe-a1c9-3d335162afb7",
   "metadata": {},
   "outputs": [],
   "source": []
  }
 ],
 "metadata": {
  "kernelspec": {
   "display_name": "Python 3 (ipykernel)",
   "language": "python",
   "name": "python3"
  },
  "language_info": {
   "codemirror_mode": {
    "name": "ipython",
    "version": 3
   },
   "file_extension": ".py",
   "mimetype": "text/x-python",
   "name": "python",
   "nbconvert_exporter": "python",
   "pygments_lexer": "ipython3",
   "version": "3.12.3"
  }
 },
 "nbformat": 4,
 "nbformat_minor": 5
}
