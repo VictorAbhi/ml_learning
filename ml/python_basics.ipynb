{
 "cells": [
  {
   "cell_type": "markdown",
   "id": "8420d5bf-4380-406f-ba36-70535931763c",
   "metadata": {},
   "source": [
    "# <h1>This is single line comment </h1>"
   ]
  },
  {
   "cell_type": "code",
   "execution_count": 4,
   "id": "af974ffc-0aca-4266-8238-16bee5d8f2db",
   "metadata": {},
   "outputs": [
    {
     "data": {
      "text/plain": [
       "'this is another comment'"
      ]
     },
     "execution_count": 4,
     "metadata": {},
     "output_type": "execute_result"
    }
   ],
   "source": [
    "#this is a comment\n",
    "'''this is another comment'''"
   ]
  },
  {
   "cell_type": "markdown",
   "id": "deca6f9c-ea4c-466e-a7ee-e20d6034ff71",
   "metadata": {},
   "source": [
    "<h2>python variables</h2>"
   ]
  },
  {
   "cell_type": "code",
   "execution_count": 6,
   "id": "602fe4a2-3b15-4bf2-8f62-579fbdee75b6",
   "metadata": {},
   "outputs": [
    {
     "data": {
      "text/plain": [
       "str"
      ]
     },
     "execution_count": 6,
     "metadata": {},
     "output_type": "execute_result"
    }
   ],
   "source": [
    "x=5\n",
    "y=\"abhishek\"\n",
    "type(x)\n",
    "type(y)"
   ]
  },
  {
   "cell_type": "markdown",
   "id": "f40fd973-7c71-4a0c-8387-8f143b42856a",
   "metadata": {},
   "source": [
    "<h3>Type casting</h3>"
   ]
  },
  {
   "cell_type": "code",
   "execution_count": 7,
   "id": "f3d8af88-ea1c-4d88-91cb-d8e3b4197ea8",
   "metadata": {},
   "outputs": [
    {
     "data": {
      "text/plain": [
       "str"
      ]
     },
     "execution_count": 7,
     "metadata": {},
     "output_type": "execute_result"
    }
   ],
   "source": [
    "x = str(3)\n",
    "type(x)"
   ]
  },
  {
   "cell_type": "markdown",
   "id": "b9b7e234-df37-4757-a8c9-1bd7b65ebcf2",
   "metadata": {},
   "source": [
    "<h3>case Sensetive</h3>"
   ]
  },
  {
   "cell_type": "code",
   "execution_count": 12,
   "id": "eeca7917-e947-4aef-828b-f543db179400",
   "metadata": {},
   "outputs": [
    {
     "name": "stdout",
     "output_type": "stream",
     "text": [
      "abhishek ram\n"
     ]
    }
   ],
   "source": [
    "a= \"abhishek\"\n",
    "A=\"ram\"\n",
    "print(a,A)"
   ]
  },
  {
   "cell_type": "markdown",
   "id": "7e03105b-33cd-41aa-a3ff-ee720753b1bf",
   "metadata": {},
   "source": [
    "<h3>Illegal variables</h3>"
   ]
  },
  {
   "cell_type": "raw",
   "id": "4b755d05-882a-436a-bd6a-5ac422e65551",
   "metadata": {},
   "source": [
    "2myvar=\"Abhishek\"\n",
    "my-var=\"Abhishek\"\n",
    "my var=\"abhishek\""
   ]
  },
  {
   "cell_type": "markdown",
   "id": "88d66897-516d-4126-839c-d77ea754d007",
   "metadata": {},
   "source": [
    "<h3>python datatypes</h3>"
   ]
  },
  {
   "cell_type": "code",
   "execution_count": 14,
   "id": "e7bbde28-3fd4-438b-ba60-d2285f9464d2",
   "metadata": {},
   "outputs": [
    {
     "name": "stdout",
     "output_type": "stream",
     "text": [
      "<class 'str'>\n"
     ]
    }
   ],
   "source": [
    "#str,int,float,complex,list,tuple,range,dict,set,bool etc..\n",
    "x = \"hello world\"\n",
    "print(type(x))"
   ]
  },
  {
   "cell_type": "code",
   "execution_count": 17,
   "id": "0c243f71-e56d-420a-89ff-0a5cc3e09491",
   "metadata": {},
   "outputs": [
    {
     "name": "stdout",
     "output_type": "stream",
     "text": [
      "<class 'int'>\n"
     ]
    }
   ],
   "source": [
    "x = 20\n",
    "print(type(x))"
   ]
  },
  {
   "cell_type": "code",
   "execution_count": 19,
   "id": "e3768270-605f-4417-b18c-3388a6585a1c",
   "metadata": {},
   "outputs": [
    {
     "name": "stdout",
     "output_type": "stream",
     "text": [
      "<class 'complex'>\n"
     ]
    }
   ],
   "source": [
    "x = 1j\n",
    "print(type(x))"
   ]
  },
  {
   "cell_type": "code",
   "execution_count": 21,
   "id": "3d14fa9a-5858-46ec-b16f-f564ea368c63",
   "metadata": {},
   "outputs": [
    {
     "name": "stdout",
     "output_type": "stream",
     "text": [
      "<class 'tuple'>\n"
     ]
    }
   ],
   "source": [
    "y = ('abhi','adhikari')\n",
    "print(type(y))"
   ]
  },
  {
   "cell_type": "code",
   "execution_count": 22,
   "id": "7ed9603a-36fe-450b-a8e8-4c427339d946",
   "metadata": {},
   "outputs": [
    {
     "name": "stdout",
     "output_type": "stream",
     "text": [
      "<class 'set'>\n"
     ]
    }
   ],
   "source": [
    "y = {'abhishek', 'adhikari'}\n",
    "print(type(y))"
   ]
  },
  {
   "cell_type": "code",
   "execution_count": 23,
   "id": "9ac8ca29-3792-43d9-9679-97d8c7d23fcc",
   "metadata": {},
   "outputs": [
    {
     "name": "stdout",
     "output_type": "stream",
     "text": [
      "<class 'dict'>\n"
     ]
    }
   ],
   "source": [
    "y = {'name':'abhishek', 'age':23}\n",
    "print(type(y))"
   ]
  },
  {
   "cell_type": "code",
   "execution_count": 25,
   "id": "a76b9692-b693-468e-9b8d-3c888f27093a",
   "metadata": {},
   "outputs": [
    {
     "name": "stdout",
     "output_type": "stream",
     "text": [
      "<class 'bytes'>\n"
     ]
    }
   ],
   "source": [
    "x = b\"Hello\"\n",
    "print(type(x))"
   ]
  },
  {
   "cell_type": "code",
   "execution_count": 26,
   "id": "65d6e090-84d9-4c39-9e3d-bcd0cc1dcb96",
   "metadata": {},
   "outputs": [
    {
     "name": "stdout",
     "output_type": "stream",
     "text": [
      "<class 'frozenset'>\n"
     ]
    }
   ],
   "source": [
    "x = frozenset({'apple','orange'})\n",
    "print(type(x))"
   ]
  },
  {
   "cell_type": "code",
   "execution_count": 28,
   "id": "408a0388-87d2-42ee-9f4e-b05dbeb86908",
   "metadata": {},
   "outputs": [
    {
     "name": "stdout",
     "output_type": "stream",
     "text": [
      "<class 'memoryview'>\n"
     ]
    }
   ],
   "source": [
    "x = memoryview(bytes(5))\n",
    "print(type(x))"
   ]
  },
  {
   "cell_type": "raw",
   "id": "aaeca0b6-8215-4630-b98d-ae7007d1e350",
   "metadata": {},
   "source": [
    "x-=3 --> x = x-3\n",
    "x=+3 --> x = x+3\n",
    "x*=4 --> x= x*4\n",
    "x /=5 --> x= x/5\n",
    "x %=5 --> x=  x%5"
   ]
  },
  {
   "cell_type": "markdown",
   "id": "65cc9d6a-91cf-4f37-ade5-75c6e2ae86a8",
   "metadata": {},
   "source": [
    "<h3>Python list</h3>"
   ]
  },
  {
   "cell_type": "code",
   "execution_count": 33,
   "id": "bd466f2a-ec7e-4bf8-9841-b89210e73960",
   "metadata": {},
   "outputs": [
    {
     "name": "stdout",
     "output_type": "stream",
     "text": [
      "apple\n",
      "['apple', 'banana', 'cherry', 'something']\n"
     ]
    }
   ],
   "source": [
    "a = ['apple','banana','cherry','something','mango']\n",
    "print(a[0])\n",
    "print(a[:4])"
   ]
  },
  {
   "cell_type": "markdown",
   "id": "23830160-1201-408a-b6e1-6fac6c8081bd",
   "metadata": {},
   "source": [
    "<h3>Negative indexing</h3>"
   ]
  },
  {
   "cell_type": "code",
   "execution_count": 38,
   "id": "ea61a6cb-ffc3-44e2-a013-797e0abe321b",
   "metadata": {},
   "outputs": [
    {
     "name": "stdout",
     "output_type": "stream",
     "text": [
      "mango\n",
      "['banana', 'cherry', 'something']\n"
     ]
    }
   ],
   "source": [
    "print(a[-1])\n",
    "print(a[-4:-1])"
   ]
  },
  {
   "cell_type": "code",
   "execution_count": 41,
   "id": "3cab9a62-2589-4b34-bd78-6618b4e00f4b",
   "metadata": {},
   "outputs": [
    {
     "name": "stdout",
     "output_type": "stream",
     "text": [
      "yeah it exists\n"
     ]
    }
   ],
   "source": [
    "if 'apple' in a:\n",
    "    print('yeah it exists')"
   ]
  },
  {
   "cell_type": "markdown",
   "id": "19a5e244-1da8-42b4-9783-da41d2245464",
   "metadata": {},
   "source": [
    "<h3>Change item value</h3>"
   ]
  },
  {
   "cell_type": "code",
   "execution_count": 42,
   "id": "97e0b69d-a9c9-4f36-81a4-2c55cd639546",
   "metadata": {},
   "outputs": [
    {
     "name": "stdout",
     "output_type": "stream",
     "text": [
      "['apple', 'some-fruite', 'cherry', 'something', 'mango']\n"
     ]
    }
   ],
   "source": [
    "a[1]='some-fruite'\n",
    "print(a)"
   ]
  },
  {
   "cell_type": "markdown",
   "id": "79d236ea-be9c-427c-bf36-e1aa7d560198",
   "metadata": {},
   "source": [
    "<h3>Change the range of item values</h3>"
   ]
  },
  {
   "cell_type": "code",
   "execution_count": 44,
   "id": "a1b19fca-4900-45f6-9771-5625b6a0993d",
   "metadata": {},
   "outputs": [
    {
     "name": "stdout",
     "output_type": "stream",
     "text": [
      "['apple', 'good fruit', 'bad fruit', 'something', 'mango']\n"
     ]
    }
   ],
   "source": [
    "a[1:3]=['good fruit','bad fruit']\n",
    "print(a)"
   ]
  },
  {
   "cell_type": "markdown",
   "id": "d0b48918-2190-4a64-9a03-2f9782b4d42c",
   "metadata": {},
   "source": [
    "<h3>Inserting method in a list</h3>"
   ]
  },
  {
   "cell_type": "code",
   "execution_count": 47,
   "id": "1d8472a5-13e8-4d5a-bc0f-0724737d5f56",
   "metadata": {},
   "outputs": [
    {
     "name": "stdout",
     "output_type": "stream",
     "text": [
      "['apple', 'good fruit', 'watermelon', 'watermelon', 'watermelon', 'bad fruit', 'something', 'mango', 'second cherry']\n"
     ]
    }
   ],
   "source": [
    "a.insert(2, \"watermelon\")\n",
    "a.append('second cherry')\n",
    "print(a)"
   ]
  },
  {
   "cell_type": "markdown",
   "id": "9f05c230-5914-4622-b4c7-2216dba157ac",
   "metadata": {},
   "source": [
    "<h3>Extending a list</h3>"
   ]
  },
  {
   "cell_type": "code",
   "execution_count": 49,
   "id": "8a42f7ba-b741-4c4a-a334-6bd7384ccbd2",
   "metadata": {},
   "outputs": [
    {
     "name": "stdout",
     "output_type": "stream",
     "text": [
      "['apple', 'good fruit', 'watermelon', 'watermelon', 'watermelon', 'bad fruit', 'something', 'mango', 'second cherry', 'item1', 'item2', 'item3', 'item1', 'item2', 'item3']\n"
     ]
    }
   ],
   "source": [
    "b=['item1','item2','item3']\n",
    "a.extend(b)\n",
    "print(a)"
   ]
  },
  {
   "cell_type": "markdown",
   "id": "01e92712-dc0a-4540-b0a6-c52bec70459a",
   "metadata": {},
   "source": [
    "<h3>Remove the list</h3>"
   ]
  },
  {
   "cell_type": "code",
   "execution_count": 50,
   "id": "1283cb98-267a-4b0b-a4e1-909e3a966289",
   "metadata": {},
   "outputs": [
    {
     "name": "stdout",
     "output_type": "stream",
     "text": [
      "['apple', 'watermelon', 'watermelon', 'watermelon', 'bad fruit', 'something', 'mango', 'second cherry', 'item1', 'item2', 'item3', 'item1', 'item2', 'item3']\n"
     ]
    }
   ],
   "source": [
    "a.remove(a[1])\n",
    "print(a)"
   ]
  },
  {
   "cell_type": "code",
   "execution_count": 53,
   "id": "5af49a67-2d2b-4897-8c6a-e0dd0055438d",
   "metadata": {},
   "outputs": [
    {
     "name": "stdout",
     "output_type": "stream",
     "text": [
      "['apple', 'watermelon', 'watermelon', 'second cherry', 'item2', 'item1', 'item2', 'item3']\n"
     ]
    }
   ],
   "source": [
    "a.pop(3)\n",
    "del a[4]\n",
    "del a[5]\n",
    "print(a)"
   ]
  },
  {
   "cell_type": "code",
   "execution_count": 54,
   "id": "f93e2d36-4cc2-4cc9-89d1-fa536af41430",
   "metadata": {},
   "outputs": [
    {
     "name": "stdout",
     "output_type": "stream",
     "text": [
      "[]\n"
     ]
    }
   ],
   "source": [
    "a.clear()\n",
    "print(a)"
   ]
  },
  {
   "cell_type": "code",
   "execution_count": 60,
   "id": "27ffd5ed-eaf1-4cb9-abfb-8681523bb798",
   "metadata": {},
   "outputs": [
    {
     "name": "stdout",
     "output_type": "stream",
     "text": [
      "apple\n",
      "watermelon\n",
      "watermelon\n",
      "second cherry\n",
      "item2\n",
      "item1\n",
      "item2\n",
      "item3\n"
     ]
    },
    {
     "data": {
      "text/plain": [
       "[None, None, None, None, None, None, None, None]"
      ]
     },
     "execution_count": 60,
     "metadata": {},
     "output_type": "execute_result"
    }
   ],
   "source": [
    "my_list=['apple', 'watermelon', 'watermelon', 'second cherry', 'item2', 'item1', 'item2', 'item3']\n",
    "[print(x) for x in my_list]"
   ]
  },
  {
   "cell_type": "code",
   "execution_count": 62,
   "id": "1e83bdfa-155a-49c2-8570-a2f37a8f287f",
   "metadata": {},
   "outputs": [
    {
     "name": "stdout",
     "output_type": "stream",
     "text": [
      "apple\n",
      "watermelon\n",
      "watermelon\n",
      "second cherry\n",
      "item2\n",
      "item1\n",
      "item2\n",
      "item3\n"
     ]
    }
   ],
   "source": [
    "for i in range(len(my_list)):\n",
    "    print(my_list[i])"
   ]
  },
  {
   "cell_type": "markdown",
   "id": "fc539655-fce8-4312-a19e-b8181c9780e3",
   "metadata": {},
   "source": [
    "<h3>sorting the list</h3>"
   ]
  },
  {
   "cell_type": "code",
   "execution_count": 65,
   "id": "99793c4c-1dca-4cd0-9c09-09a6c834385a",
   "metadata": {},
   "outputs": [
    {
     "name": "stdout",
     "output_type": "stream",
     "text": [
      "['watermelon', 'watermelon', 'second cherry', 'item3', 'item2', 'item2', 'item1', 'apple']\n"
     ]
    }
   ],
   "source": [
    "my_list.sort(reverse=True)\n",
    "print(my_list)"
   ]
  },
  {
   "cell_type": "markdown",
   "id": "06fb5817-c07f-4c4e-92fb-b1f37b2ff4a9",
   "metadata": {},
   "source": [
    "<h3>Sets</h3>"
   ]
  },
  {
   "cell_type": "code",
   "execution_count": 7,
   "id": "165b7689-c02c-4df7-9c33-97af91c7018b",
   "metadata": {},
   "outputs": [
    {
     "name": "stdout",
     "output_type": "stream",
     "text": [
      "{'a'}\n",
      "{'b', 'c'}\n",
      "{1, 2, 3, 'b', 'c'}\n",
      "{1, 2, 3, 'b', 'a', 'c'}\n",
      "{1, 2, 3, 'b', 'a', 'c'}\n"
     ]
    }
   ],
   "source": [
    "set1 = {'a','b','c'}\n",
    "set2 = {1,2,3,'a'}\n",
    "set3 = set1.union(set2)\n",
    "print(set1.intersection(set2))\n",
    "print(set1.difference(set2))\n",
    "print(set1.symmetric_difference(set2))\n",
    "print(set3)\n",
    "print(set1 | set2)"
   ]
  },
  {
   "cell_type": "markdown",
   "id": "c57fc9a5-fb14-4d44-9b1f-3aa47e4bcfaf",
   "metadata": {},
   "source": [
    "<h3>Python Dictionary</h3>"
   ]
  },
  {
   "cell_type": "code",
   "execution_count": 10,
   "id": "68c26c54-e35d-41ae-98db-4bbdc73b8e38",
   "metadata": {},
   "outputs": [
    {
     "name": "stdout",
     "output_type": "stream",
     "text": [
      "abhishek\n",
      "3\n"
     ]
    }
   ],
   "source": [
    "mydict={'name':'abhishek','age':'23','class':'ml'}\n",
    "print(mydict['name'])\n",
    "print(len(mydict))"
   ]
  },
  {
   "cell_type": "code",
   "execution_count": 11,
   "id": "7a2628d2-5200-48f8-b871-6531d6c7be40",
   "metadata": {},
   "outputs": [
    {
     "name": "stdout",
     "output_type": "stream",
     "text": [
      "{'name': 'abhishek', 'age': 23, 'country': 'Nepal'}\n"
     ]
    }
   ],
   "source": [
    "mydict = dict(name='abhishek', age=23, country='Nepal')\n",
    "print(mydict)"
   ]
  },
  {
   "cell_type": "raw",
   "id": "e7f59c05-ca72-4cd2-ad69-66ca5dfa3d83",
   "metadata": {},
   "source": [
    "List is a collection of ordered and changeable. Allows duplicate members.\n",
    "Tuple is a collection which is ordered and unchangeable. Allows duplicate members.\n",
    "Set is a collection which is unordered, uncahngeable and unindexed. No duplicate members\n",
    "Dictionary is a collection which is ordered and changeable. Nod duplicate members allowed."
   ]
  },
  {
   "cell_type": "code",
   "execution_count": null,
   "id": "14da5221-50ac-4266-81ab-633b22fa436d",
   "metadata": {},
   "outputs": [],
   "source": []
  }
 ],
 "metadata": {
  "kernelspec": {
   "display_name": "Python 3 (ipykernel)",
   "language": "python",
   "name": "python3"
  },
  "language_info": {
   "codemirror_mode": {
    "name": "ipython",
    "version": 3
   },
   "file_extension": ".py",
   "mimetype": "text/x-python",
   "name": "python",
   "nbconvert_exporter": "python",
   "pygments_lexer": "ipython3",
   "version": "3.12.7"
  }
 },
 "nbformat": 4,
 "nbformat_minor": 5
}
