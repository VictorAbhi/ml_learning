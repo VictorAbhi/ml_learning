{
 "cells": [
  {
   "cell_type": "markdown",
   "id": "8eebb861-c0ea-4d77-97f4-60454abf2a2d",
   "metadata": {},
   "source": [
    "<h1>Single Dimension numpy array</h1>"
   ]
  },
  {
   "cell_type": "code",
   "execution_count": 1,
   "id": "09e4eeaa-bece-45f8-8b2f-843859829617",
   "metadata": {},
   "outputs": [
    {
     "name": "stdout",
     "output_type": "stream",
     "text": [
      "Requirement already satisfied: numpy in c:\\users\\adabh\\anaconda3\\lib\\site-packages (1.26.4)\n"
     ]
    }
   ],
   "source": [
    "!pip install numpy"
   ]
  },
  {
   "cell_type": "code",
   "execution_count": 2,
   "id": "b1fb8259-05c6-43da-bf04-03b4bc71c7a4",
   "metadata": {},
   "outputs": [],
   "source": [
    "import numpy as np"
   ]
  },
  {
   "cell_type": "code",
   "execution_count": 4,
   "id": "d06a5473-2a28-4f16-8dc8-8da76e08b346",
   "metadata": {},
   "outputs": [
    {
     "data": {
      "text/plain": [
       "array([ 10,  20,  30,  40,  50,  60,  70,  80,  90, 100])"
      ]
     },
     "execution_count": 4,
     "metadata": {},
     "output_type": "execute_result"
    }
   ],
   "source": [
    "n1 = np.array([10,20,30,40,50,60,70,80,90,100])\n",
    "n1"
   ]
  },
  {
   "cell_type": "code",
   "execution_count": 5,
   "id": "b5f8190d-f6ba-4154-b5c2-ec86207506ea",
   "metadata": {},
   "outputs": [
    {
     "data": {
      "text/plain": [
       "numpy.ndarray"
      ]
     },
     "execution_count": 5,
     "metadata": {},
     "output_type": "execute_result"
    }
   ],
   "source": [
    "type(n1)"
   ]
  },
  {
   "cell_type": "markdown",
   "id": "4cccce72-2831-4454-82ed-35a686eed37b",
   "metadata": {},
   "source": [
    "<h1>MultiDimensional numpy array</h1>"
   ]
  },
  {
   "cell_type": "code",
   "execution_count": 10,
   "id": "2019fbdd-a272-4dde-94a4-f980737cc953",
   "metadata": {},
   "outputs": [
    {
     "name": "stdout",
     "output_type": "stream",
     "text": [
      "[[10 20 30]\n",
      " [40 50 60]\n",
      " [70 80 90]]\n"
     ]
    },
    {
     "data": {
      "text/plain": [
       "array([[10, 20, 30],\n",
       "       [40, 50, 60],\n",
       "       [70, 80, 90]])"
      ]
     },
     "execution_count": 10,
     "metadata": {},
     "output_type": "execute_result"
    }
   ],
   "source": [
    "n2 = np.array([[10,20,30],[40,50,60],[70,80,90]])\n",
    "print(n2)\n",
    "n2"
   ]
  },
  {
   "cell_type": "code",
   "execution_count": 11,
   "id": "2fdc9fd0-2e5f-4fbf-970c-e7cdb1bdd653",
   "metadata": {},
   "outputs": [
    {
     "data": {
      "text/plain": [
       "array([[0., 0., 0.],\n",
       "       [0., 0., 0.]])"
      ]
     },
     "execution_count": 11,
     "metadata": {},
     "output_type": "execute_result"
    }
   ],
   "source": [
    "n3 = np.zeros((2,3))\n",
    "n3"
   ]
  },
  {
   "cell_type": "markdown",
   "id": "4057868e-5b86-48ee-96ce-dd190be9821c",
   "metadata": {},
   "source": [
    "<h3>array of matrix with full then</h3>"
   ]
  },
  {
   "cell_type": "code",
   "execution_count": 14,
   "id": "605fa517-ed29-48b3-88e1-575f446231a6",
   "metadata": {},
   "outputs": [
    {
     "data": {
      "text/plain": [
       "array([[11, 11, 11],\n",
       "       [11, 11, 11],\n",
       "       [11, 11, 11]])"
      ]
     },
     "execution_count": 14,
     "metadata": {},
     "output_type": "execute_result"
    }
   ],
   "source": [
    "n4 = np.full((3,3),11)\n",
    "n4"
   ]
  },
  {
   "cell_type": "markdown",
   "id": "824218bf-4a15-46b0-ab6f-442e350c68dc",
   "metadata": {},
   "source": [
    "<h3>numpy arra within arange</h3>"
   ]
  },
  {
   "cell_type": "code",
   "execution_count": 17,
   "id": "2dca3426-fe98-4644-b05f-7115e17e935f",
   "metadata": {},
   "outputs": [
    {
     "data": {
      "text/plain": [
       "array([10, 11, 12, 13, 14, 15, 16, 17, 18, 19])"
      ]
     },
     "execution_count": 17,
     "metadata": {},
     "output_type": "execute_result"
    }
   ],
   "source": [
    "n5 = np.arange(10,20)\n",
    "n5"
   ]
  },
  {
   "cell_type": "code",
   "execution_count": 19,
   "id": "458f1f70-c799-4ac4-91df-f484c0f59655",
   "metadata": {},
   "outputs": [
    {
     "data": {
      "text/plain": [
       "array([1, 3, 5, 7, 9])"
      ]
     },
     "execution_count": 19,
     "metadata": {},
     "output_type": "execute_result"
    }
   ],
   "source": [
    "n6 = np.arange(1,10,2)\n",
    "n6"
   ]
  },
  {
   "cell_type": "markdown",
   "id": "c03853e1-4f89-4aaa-96b0-117ca22a68c0",
   "metadata": {},
   "source": [
    "<h3>Initialization numpy array with random integers</h3>"
   ]
  },
  {
   "cell_type": "code",
   "execution_count": 21,
   "id": "20c9ad6f-0501-4a96-8f08-384a861b0d76",
   "metadata": {},
   "outputs": [
    {
     "data": {
      "text/plain": [
       "array([666, 615, 785, 471, 594, 902, 625, 821, 107, 749])"
      ]
     },
     "execution_count": 21,
     "metadata": {},
     "output_type": "execute_result"
    }
   ],
   "source": [
    "n7=np.random.randint(100,1000,10)\n",
    "n7"
   ]
  },
  {
   "cell_type": "markdown",
   "id": "2e57b3cf-de2a-49f4-a6b5-4dc91d940f45",
   "metadata": {},
   "source": [
    "<h3>initialization the array shape changes in a fraction of shape</h3>"
   ]
  },
  {
   "cell_type": "code",
   "execution_count": 24,
   "id": "3373123e-e3bc-4019-a9dc-3037ec320320",
   "metadata": {},
   "outputs": [
    {
     "data": {
      "text/plain": [
       "(3, 4)"
      ]
     },
     "execution_count": 24,
     "metadata": {},
     "output_type": "execute_result"
    }
   ],
   "source": [
    "n8=np.array([[10,20,40,50],[50,605,40,50],[10,13,23,50]])\n",
    "n8.shape"
   ]
  },
  {
   "cell_type": "code",
   "execution_count": 25,
   "id": "8ea53b9c-8bb0-4a5a-bdf0-0c240e53b0cc",
   "metadata": {},
   "outputs": [
    {
     "data": {
      "text/plain": [
       "array([[ 10,  20,  40],\n",
       "       [ 50,  50, 605],\n",
       "       [ 40,  50,  10],\n",
       "       [ 13,  23,  50]])"
      ]
     },
     "execution_count": 25,
     "metadata": {},
     "output_type": "execute_result"
    }
   ],
   "source": [
    "n8.shape=(4,3)\n",
    "n8"
   ]
  },
  {
   "cell_type": "markdown",
   "id": "ac7d86b4-0e82-41db-80a4-d087ae031192",
   "metadata": {},
   "source": [
    "<h1>Joining numpy array</h1>"
   ]
  },
  {
   "cell_type": "code",
   "execution_count": 26,
   "id": "e8252924-88c4-451a-a314-f97b2a12b8de",
   "metadata": {},
   "outputs": [],
   "source": [
    "a=np.array([10,20,40])\n",
    "b=np.array([50,40,60])"
   ]
  },
  {
   "cell_type": "code",
   "execution_count": 27,
   "id": "51f3ec98-87dd-4e05-83e5-6f9f8ea85cc3",
   "metadata": {},
   "outputs": [
    {
     "data": {
      "text/plain": [
       "array([[10, 20, 40],\n",
       "       [50, 40, 60]])"
      ]
     },
     "execution_count": 27,
     "metadata": {},
     "output_type": "execute_result"
    }
   ],
   "source": [
    "np.vstack((a,b)) #joining the numpy as vertical stacking"
   ]
  },
  {
   "cell_type": "code",
   "execution_count": 28,
   "id": "bc25eb73-e385-4a05-81f4-ca4143b3b964",
   "metadata": {},
   "outputs": [
    {
     "data": {
      "text/plain": [
       "array([10, 20, 40, 50, 40, 60])"
      ]
     },
     "execution_count": 28,
     "metadata": {},
     "output_type": "execute_result"
    }
   ],
   "source": [
    "np.hstack((a,b)) #joining the numpy as horizonatl stacking"
   ]
  },
  {
   "cell_type": "code",
   "execution_count": 29,
   "id": "392f7437-be13-44c3-80e1-05cf1eca5d4c",
   "metadata": {},
   "outputs": [
    {
     "data": {
      "text/plain": [
       "array([[10, 50],\n",
       "       [20, 40],\n",
       "       [40, 60]])"
      ]
     },
     "execution_count": 29,
     "metadata": {},
     "output_type": "execute_result"
    }
   ],
   "source": [
    "np.column_stack((a,b)) #joining numpy as column stack"
   ]
  },
  {
   "cell_type": "markdown",
   "id": "6c51ffd9-b199-4f18-be82-9a222d97ca42",
   "metadata": {},
   "source": [
    "<h1>Numpy intersection and differences</h1>"
   ]
  },
  {
   "cell_type": "code",
   "execution_count": 30,
   "id": "b9b592a4-b592-4765-a1aa-cf28b45f160c",
   "metadata": {},
   "outputs": [],
   "source": [
    "x=np.array([10,20,30,40,50,60])"
   ]
  },
  {
   "cell_type": "code",
   "execution_count": 31,
   "id": "9db5d5b1-d061-4644-85c2-6da385db766e",
   "metadata": {},
   "outputs": [],
   "source": [
    "y=np.array([30,50,90,100,120,150])"
   ]
  },
  {
   "cell_type": "code",
   "execution_count": 32,
   "id": "c3a6f6fd-8c99-4575-9dee-151d9073a029",
   "metadata": {},
   "outputs": [
    {
     "data": {
      "text/plain": [
       "array([30, 50])"
      ]
     },
     "execution_count": 32,
     "metadata": {},
     "output_type": "execute_result"
    }
   ],
   "source": [
    "np.intersect1d(x,y)"
   ]
  },
  {
   "cell_type": "code",
   "execution_count": 33,
   "id": "2b5cc8ba-e239-45bf-b9d1-ffc09f1e28c4",
   "metadata": {},
   "outputs": [
    {
     "data": {
      "text/plain": [
       "array([ 10,  20,  30,  40,  50,  60,  90, 100, 120, 150])"
      ]
     },
     "execution_count": 33,
     "metadata": {},
     "output_type": "execute_result"
    }
   ],
   "source": [
    "np.union1d(x,y)"
   ]
  },
  {
   "cell_type": "code",
   "execution_count": 37,
   "id": "babcd7bd-8166-4188-b068-9946e609f8c9",
   "metadata": {},
   "outputs": [
    {
     "name": "stdout",
     "output_type": "stream",
     "text": [
      "[ 90 100 120 150]\n",
      "[10 20 40 60]\n"
     ]
    }
   ],
   "source": [
    "print(np.setdiff1d(y,x))\n",
    "print(np.setdiff1d(x,y))"
   ]
  },
  {
   "cell_type": "markdown",
   "id": "27f096b6-9c98-495d-96f8-354a9d926e8d",
   "metadata": {},
   "source": [
    "<h3>Addition of numpy arrays</h3>"
   ]
  },
  {
   "cell_type": "code",
   "execution_count": 41,
   "id": "2fca260c-1904-4166-9cd7-6b16fab213a3",
   "metadata": {},
   "outputs": [],
   "source": [
    "t = np.array([50,20])\n",
    "s = np.array([30,40])"
   ]
  },
  {
   "cell_type": "code",
   "execution_count": 42,
   "id": "f567fd70-36cb-4f08-be45-6b111cd04ad9",
   "metadata": {},
   "outputs": [
    {
     "data": {
      "text/plain": [
       "140"
      ]
     },
     "execution_count": 42,
     "metadata": {},
     "output_type": "execute_result"
    }
   ],
   "source": [
    "np.sum([t,s])"
   ]
  },
  {
   "cell_type": "code",
   "execution_count": 43,
   "id": "5531154a-9c15-44bf-a374-46b4da97e540",
   "metadata": {},
   "outputs": [
    {
     "data": {
      "text/plain": [
       "array([80, 60])"
      ]
     },
     "execution_count": 43,
     "metadata": {},
     "output_type": "execute_result"
    }
   ],
   "source": [
    "np.sum([t,s],axis=0)"
   ]
  },
  {
   "cell_type": "code",
   "execution_count": 44,
   "id": "f0253c7c-595a-4103-bfb4-2246dcd50962",
   "metadata": {},
   "outputs": [
    {
     "data": {
      "text/plain": [
       "array([70, 70])"
      ]
     },
     "execution_count": 44,
     "metadata": {},
     "output_type": "execute_result"
    }
   ],
   "source": [
    "np.sum([t,s],axis=1)"
   ]
  },
  {
   "cell_type": "markdown",
   "id": "ece2d3d3-3f90-42e2-b62e-2b5cc058c0e6",
   "metadata": {},
   "source": [
    "<h3>Numpy array mathematics</h3>"
   ]
  },
  {
   "cell_type": "code",
   "execution_count": 45,
   "id": "5c51c2a7-6ede-4ee8-8b84-d7c336060d1b",
   "metadata": {},
   "outputs": [],
   "source": [
    "p=np.array([10,20,30])"
   ]
  },
  {
   "cell_type": "code",
   "execution_count": 49,
   "id": "0a4afef9-9775-4426-9137-61de73efee6b",
   "metadata": {},
   "outputs": [
    {
     "name": "stdout",
     "output_type": "stream",
     "text": [
      "[11 21 31]\n",
      "[ 5. 10. 15.]\n",
      "[100 400 900]\n",
      "[ 8 18 28]\n"
     ]
    }
   ],
   "source": [
    "print(p+1)\n",
    "print(p/2)\n",
    "print(p**2)\n",
    "print(p-2)"
   ]
  },
  {
   "cell_type": "markdown",
   "id": "b051a744-4d18-4683-8cb3-df3a10ce504a",
   "metadata": {},
   "source": [
    "<h3>numpy math functions</h3>"
   ]
  },
  {
   "cell_type": "code",
   "execution_count": 50,
   "id": "b3924069-cfef-453f-a4a2-6af7d4b30300",
   "metadata": {},
   "outputs": [
    {
     "data": {
      "text/plain": [
       "30.0"
      ]
     },
     "execution_count": 50,
     "metadata": {},
     "output_type": "execute_result"
    }
   ],
   "source": [
    "nn = np.array([10,20,30,60])\n",
    "np.mean(nn)"
   ]
  },
  {
   "cell_type": "code",
   "execution_count": 51,
   "id": "971f27c9-6d1a-47f6-b3c7-338c9ff2816b",
   "metadata": {},
   "outputs": [
    {
     "data": {
      "text/plain": [
       "18.708286933869708"
      ]
     },
     "execution_count": 51,
     "metadata": {},
     "output_type": "execute_result"
    }
   ],
   "source": [
    "np.std(nn)"
   ]
  },
  {
   "cell_type": "code",
   "execution_count": 52,
   "id": "f8b82333-7bfd-4d52-b390-e05670346be0",
   "metadata": {},
   "outputs": [
    {
     "data": {
      "text/plain": [
       "25.0"
      ]
     },
     "execution_count": 52,
     "metadata": {},
     "output_type": "execute_result"
    }
   ],
   "source": [
    "np.median(nn)"
   ]
  },
  {
   "cell_type": "markdown",
   "id": "a2d092a2-d560-483c-92ba-91173512fbe2",
   "metadata": {},
   "source": [
    "<h1>Saving and loading numpy array</h1>"
   ]
  },
  {
   "cell_type": "code",
   "execution_count": 53,
   "id": "ea30d03e-0298-4ca4-a343-a062be51fd85",
   "metadata": {},
   "outputs": [],
   "source": [
    "n11=np.array([10,20,30,40,60])"
   ]
  },
  {
   "cell_type": "code",
   "execution_count": 54,
   "id": "fdb9e4e7-c27d-4227-9004-f57f726a31fc",
   "metadata": {},
   "outputs": [],
   "source": [
    "np.save('ml',n11)"
   ]
  },
  {
   "cell_type": "code",
   "execution_count": 55,
   "id": "1cafac69-890c-43c8-abe7-cdd172721352",
   "metadata": {},
   "outputs": [
    {
     "data": {
      "text/plain": [
       "array([10, 20, 30, 40, 60])"
      ]
     },
     "execution_count": 55,
     "metadata": {},
     "output_type": "execute_result"
    }
   ],
   "source": [
    "np.load('ml.npy')"
   ]
  },
  {
   "cell_type": "code",
   "execution_count": 62,
   "id": "021a5277-caad-44d5-ae9d-028340bd5e45",
   "metadata": {},
   "outputs": [
    {
     "data": {
      "text/plain": [
       "array([[1., 0., 0., 0.],\n",
       "       [0., 1., 0., 0.],\n",
       "       [0., 0., 1., 0.],\n",
       "       [0., 0., 0., 1.]])"
      ]
     },
     "execution_count": 62,
     "metadata": {},
     "output_type": "execute_result"
    }
   ],
   "source": [
    "np.eye(4)"
   ]
  },
  {
   "cell_type": "code",
   "execution_count": 58,
   "id": "7f51aa57-8dd5-4860-95eb-69d1d6aff147",
   "metadata": {},
   "outputs": [
    {
     "data": {
      "text/plain": [
       "array([1., 1.])"
      ]
     },
     "execution_count": 58,
     "metadata": {},
     "output_type": "execute_result"
    }
   ],
   "source": [
    "np.ones(2)"
   ]
  },
  {
   "cell_type": "code",
   "execution_count": 60,
   "id": "2c8674b6-fcb6-4165-9a49-ddac291cedc6",
   "metadata": {},
   "outputs": [
    {
     "name": "stdout",
     "output_type": "stream",
     "text": [
      "<class 'numpy.ndarray'> (3,) 1 2 3\n",
      "[5 2 3]\n"
     ]
    }
   ],
   "source": [
    "a = np.array([1,2,3])\n",
    "print(type(a), a.shape,a[0],a[1],a[2])\n",
    "a[0]=5\n",
    "print(a)"
   ]
  },
  {
   "cell_type": "code",
   "execution_count": 61,
   "id": "f68e8dfb-5a7f-4f39-9ad0-a253303f7225",
   "metadata": {},
   "outputs": [
    {
     "name": "stdout",
     "output_type": "stream",
     "text": [
      "[[1. 1.]]\n"
     ]
    }
   ],
   "source": [
    "b = np.ones((1,2))\n",
    "print(b)"
   ]
  },
  {
   "cell_type": "code",
   "execution_count": 64,
   "id": "cc79c626-8e6d-471f-9b83-f8916851ed42",
   "metadata": {},
   "outputs": [
    {
     "data": {
      "text/plain": [
       "array([[0.24818968, 0.4830199 , 0.50025919, 0.05797656],\n",
       "       [0.70791542, 0.37188069, 0.50848348, 0.42632597],\n",
       "       [0.11921107, 0.2909699 , 0.67338075, 0.78808025],\n",
       "       [0.49052272, 0.36396669, 0.55819249, 0.89112185]])"
      ]
     },
     "execution_count": 64,
     "metadata": {},
     "output_type": "execute_result"
    }
   ],
   "source": [
    "e = np.random.random((4,4))\n",
    "e"
   ]
  },
  {
   "cell_type": "markdown",
   "id": "4d054461-5630-4dad-810a-b14d7029ad44",
   "metadata": {},
   "source": [
    "### boolean array indexing"
   ]
  },
  {
   "cell_type": "code",
   "execution_count": 65,
   "id": "7e881590-19d2-4ad6-95d6-da94541bea9f",
   "metadata": {},
   "outputs": [
    {
     "name": "stdout",
     "output_type": "stream",
     "text": [
      "[[False False]\n",
      " [ True  True]\n",
      " [ True  True]]\n"
     ]
    }
   ],
   "source": [
    "a = np.array([[2,3],[4,5],[5,6]])\n",
    "bool_idx=(a>3)\n",
    "print(bool_idx)"
   ]
  },
  {
   "cell_type": "code",
   "execution_count": 66,
   "id": "058f4e95-1715-41a4-b7db-7254e8f9eb0d",
   "metadata": {},
   "outputs": [
    {
     "name": "stdout",
     "output_type": "stream",
     "text": [
      "[4 5 5 6]\n",
      "[3 4 5 5 6]\n"
     ]
    }
   ],
   "source": [
    "print(a[bool_idx])\n",
    "print(a[a>2])"
   ]
  },
  {
   "cell_type": "code",
   "execution_count": 67,
   "id": "56c7a2d7-20b1-4e30-901e-3e43affedcb0",
   "metadata": {},
   "outputs": [
    {
     "name": "stdout",
     "output_type": "stream",
     "text": [
      "int32 float64 int64\n"
     ]
    }
   ],
   "source": [
    "x = np.array([1,2])\n",
    "y = np.array([1.0,2.0])\n",
    "z = np.array([1,2],dtype=np.int64)\n",
    "print(x.dtype, y.dtype, z.dtype)"
   ]
  },
  {
   "cell_type": "markdown",
   "id": "8d5abd89-8131-4c55-916b-ffe86a053986",
   "metadata": {},
   "source": [
    "### Array math"
   ]
  },
  {
   "cell_type": "code",
   "execution_count": 69,
   "id": "26435af1-b3f2-482c-9534-758bc8f1d056",
   "metadata": {},
   "outputs": [
    {
     "name": "stdout",
     "output_type": "stream",
     "text": [
      "[[2. 7.]\n",
      " [4. 9.]]\n",
      "[[2. 7.]\n",
      " [4. 9.]]\n"
     ]
    }
   ],
   "source": [
    "x = np.array([[1,2],[3,4]], dtype=np.float64)\n",
    "x = np.array([[1,5],[3,7]], dtype=np.float64)\n",
    "print(x+y)\n",
    "print(np.add(x,y))"
   ]
  },
  {
   "cell_type": "code",
   "execution_count": 71,
   "id": "43d0731a-fe48-48e2-bd5a-d3b61faf7394",
   "metadata": {},
   "outputs": [
    {
     "name": "stdout",
     "output_type": "stream",
     "text": [
      "[[0. 3.]\n",
      " [2. 5.]]\n"
     ]
    }
   ],
   "source": [
    "print(x-y)"
   ]
  },
  {
   "cell_type": "code",
   "execution_count": 76,
   "id": "aebf1855-6bfb-43de-8ddc-210ecf5f4941",
   "metadata": {},
   "outputs": [
    {
     "name": "stdout",
     "output_type": "stream",
     "text": [
      "[[ 1. 10.]\n",
      " [ 3. 14.]]\n",
      "mul [[ 1. 10.]\n",
      " [ 3. 14.]]\n",
      "[[0. 3.]\n",
      " [2. 5.]]\n"
     ]
    }
   ],
   "source": [
    "print(x*y)\n",
    "print(\"mul = \",np.multiply(x,y))\n",
    "print(np.subtract(x,y))"
   ]
  },
  {
   "cell_type": "code",
   "execution_count": 75,
   "id": "bbbd4f83-38e9-4524-92ca-80e495aa7692",
   "metadata": {},
   "outputs": [
    {
     "name": "stdout",
     "output_type": "stream",
     "text": [
      "[[1.  2.5]\n",
      " [3.  3.5]]\n",
      "[[1.  2.5]\n",
      " [3.  3.5]]\n"
     ]
    }
   ],
   "source": [
    "print(x/y)\n",
    "print(np.divide(x,y))"
   ]
  },
  {
   "cell_type": "code",
   "execution_count": 77,
   "id": "430938d3-f0e5-43f5-b3af-806ae0cc8e8a",
   "metadata": {},
   "outputs": [
    {
     "name": "stdout",
     "output_type": "stream",
     "text": [
      "[[1.         2.23606798]\n",
      " [1.73205081 2.64575131]]\n"
     ]
    }
   ],
   "source": [
    "print(np.sqrt(x))"
   ]
  },
  {
   "cell_type": "markdown",
   "id": "c9052646-fb71-4610-a6ca-2a1c08c35051",
   "metadata": {},
   "source": [
    "### dot product"
   ]
  },
  {
   "cell_type": "code",
   "execution_count": 80,
   "id": "129d8aa9-83eb-48b5-a4f5-5e509aa5cad0",
   "metadata": {},
   "outputs": [
    {
     "name": "stdout",
     "output_type": "stream",
     "text": [
      "[[18 21]\n",
      " [51 60]]\n",
      "[[18 21]\n",
      " [51 60]]\n"
     ]
    }
   ],
   "source": [
    "v = np.array([[1,2],[4,5]])\n",
    "w = np.array([[4,5],[7,8]])\n",
    "print(v.dot(w))\n",
    "print(np.dot(v,w))# I prefer this one"
   ]
  },
  {
   "cell_type": "code",
   "execution_count": 81,
   "id": "8d2a1c6c-6143-47b9-b292-d305d774d916",
   "metadata": {},
   "outputs": [
    {
     "name": "stdout",
     "output_type": "stream",
     "text": [
      "[[18 21]\n",
      " [51 60]]\n"
     ]
    }
   ],
   "source": [
    "print(v @ w)"
   ]
  },
  {
   "cell_type": "markdown",
   "id": "e772dfab-2eab-4dbf-bee1-2fc151c2b871",
   "metadata": {},
   "source": [
    "# Performance computing on arrays"
   ]
  },
  {
   "cell_type": "code",
   "execution_count": 83,
   "id": "cbd6ca74-4f79-4a7d-9acc-fccb66a0d271",
   "metadata": {},
   "outputs": [
    {
     "name": "stdout",
     "output_type": "stream",
     "text": [
      "10\n",
      "[4 6]\n",
      "[3 7]\n"
     ]
    }
   ],
   "source": [
    "import numpy as np\n",
    "\n",
    "x = np.array([[1, 2], [3, 4]])  # Properly define the array\n",
    "print(np.sum(x))               # Sum of all elements\n",
    "print(np.sum(x, axis=0))       # Sum of each column\n",
    "print(np.sum(x, axis=1))       # Sum of each row\n"
   ]
  },
  {
   "cell_type": "code",
   "execution_count": 90,
   "id": "f1334b9e-88ae-465c-b77f-8fa7fbcc9835",
   "metadata": {},
   "outputs": [
    {
     "data": {
      "text/plain": [
       "array([[1, 4, 7],\n",
       "       [2, 5, 8],\n",
       "       [3, 6, 9]])"
      ]
     },
     "execution_count": 90,
     "metadata": {},
     "output_type": "execute_result"
    }
   ],
   "source": [
    "np.transpose(x)"
   ]
  },
  {
   "cell_type": "markdown",
   "id": "be2e852b-701e-4fdb-b407-1b49757ec8fa",
   "metadata": {},
   "source": [
    "# Broadcasting in numpy"
   ]
  },
  {
   "cell_type": "code",
   "execution_count": 85,
   "id": "b0f50fe7-f8b2-476f-a043-542b63b13286",
   "metadata": {},
   "outputs": [
    {
     "name": "stdout",
     "output_type": "stream",
     "text": [
      "[[ 2  4  4]\n",
      " [ 5  7  7]\n",
      " [ 8 10 10]]\n"
     ]
    }
   ],
   "source": [
    "x = np.array([[1,2,3],[4,5,6],[7,8,9]])\n",
    "v = np.array([1,2,1])\n",
    "y = np.empty_like(x)\n",
    "\n",
    "for i in range(3):\n",
    "    y[i, :] = x[i, :] + v\n",
    "\n",
    "print(y)"
   ]
  },
  {
   "cell_type": "code",
   "execution_count": 88,
   "id": "abba2a1d-5a07-4d64-90ae-7adda13f99c3",
   "metadata": {},
   "outputs": [
    {
     "name": "stdout",
     "output_type": "stream",
     "text": [
      "[[1 2 1]\n",
      " [1 2 1]\n",
      " [1 2 1]]\n"
     ]
    }
   ],
   "source": [
    "vv = np.tile(v, (3,1))\n",
    "print(vv)"
   ]
  },
  {
   "cell_type": "code",
   "execution_count": 89,
   "id": "b2ca401c-24aa-4c4a-a1e0-b99921798c4b",
   "metadata": {},
   "outputs": [
    {
     "name": "stdout",
     "output_type": "stream",
     "text": [
      "[[ 2  4  4]\n",
      " [ 5  7  7]\n",
      " [ 8 10 10]]\n"
     ]
    }
   ],
   "source": [
    "y = x + vv\n",
    "print(y)"
   ]
  },
  {
   "cell_type": "markdown",
   "id": "b08351d8-44bc-4a89-afeb-f6786e0df424",
   "metadata": {},
   "source": [
    "### uniform samples"
   ]
  },
  {
   "cell_type": "code",
   "execution_count": 95,
   "id": "6b7471fb-fa23-4257-a24b-c06a510cefbd",
   "metadata": {},
   "outputs": [
    {
     "data": {
      "text/plain": [
       "0.7889404808746113"
      ]
     },
     "execution_count": 95,
     "metadata": {},
     "output_type": "execute_result"
    }
   ],
   "source": [
    "np.random.uniform(low=0.0, high=1.0, size=None)"
   ]
  },
  {
   "cell_type": "code",
   "execution_count": 96,
   "id": "81b96d38-7b39-49ae-906f-5e2ed8b85de9",
   "metadata": {},
   "outputs": [
    {
     "data": {
      "text/plain": [
       "array([6.336156  , 7.82359248, 9.03199671, 7.80070158, 5.1736154 ])"
      ]
     },
     "execution_count": 96,
     "metadata": {},
     "output_type": "execute_result"
    }
   ],
   "source": [
    "np.random.uniform(5,10, size=5)"
   ]
  },
  {
   "cell_type": "code",
   "execution_count": 97,
   "id": "b5d5b97f-f7f7-4fa5-b21e-df53bda23f7a",
   "metadata": {},
   "outputs": [
    {
     "data": {
      "text/plain": [
       "array([0.46628527, 0.76205782, 0.02301189, 0.50088385, 0.88310389])"
      ]
     },
     "execution_count": 97,
     "metadata": {},
     "output_type": "execute_result"
    }
   ],
   "source": [
    "np.random.uniform(size=5)"
   ]
  },
  {
   "cell_type": "markdown",
   "id": "9e275d68-33ca-4db3-abdc-76a3cf80ebbe",
   "metadata": {},
   "source": [
    "### logspace"
   ]
  },
  {
   "cell_type": "raw",
   "id": "023b12d3-c088-4960-adc1-7e8e325045b8",
   "metadata": {},
   "source": [
    "np.logspace(start,stop, num=50,endpoint=True, base=10.0, dtype=None,axis=0)\n",
    "`start`: starting value of the sequence.\n",
    "`end`: last value\n",
    "`endpoint`: if True the last sample will be included in the sequence\n",
    "`base`: the base of the log space, default is 10"
   ]
  },
  {
   "cell_type": "code",
   "execution_count": 98,
   "id": "4a41d058-a4ab-46cc-8e5b-1162c2e5daca",
   "metadata": {},
   "outputs": [
    {
     "data": {
      "text/plain": [
       "array([1.00000000e+00, 5.65685425e+00, 3.20000000e+01, 1.81019336e+02,\n",
       "       1.02400000e+03])"
      ]
     },
     "execution_count": 98,
     "metadata": {},
     "output_type": "execute_result"
    }
   ],
   "source": [
    "np.logspace(0,10,5,base=2)"
   ]
  },
  {
   "cell_type": "code",
   "execution_count": 99,
   "id": "5a8ada87-87cf-4c1c-9127-3b6e7aa3df09",
   "metadata": {},
   "outputs": [
    {
     "data": {
      "text/plain": [
       "array([1, 1, 2, 2, 2, 4], dtype=int64)"
      ]
     },
     "execution_count": 99,
     "metadata": {},
     "output_type": "execute_result"
    }
   ],
   "source": [
    "a = np.array([0.9,0.5,1,1.2,1.4,3.6])\n",
    "bins = np.array([0,1,2,3])\n",
    "np.digitize(a,bins)"
   ]
  },
  {
   "cell_type": "markdown",
   "id": "dcd0c2c0-38ec-4759-9b58-fed91333abec",
   "metadata": {},
   "source": [
    "### Expand dimensions"
   ]
  },
  {
   "cell_type": "raw",
   "id": "d339ded3-8856-4947-b572-87a9f1c16d82",
   "metadata": {},
   "source": [
    "np.expand_dims(a,axis)"
   ]
  },
  {
   "cell_type": "code",
   "execution_count": 100,
   "id": "15c48c12-1c88-4f3f-b5c5-b2c3f350debe",
   "metadata": {},
   "outputs": [
    {
     "data": {
      "text/plain": [
       "array([[ 8, 14,  1,  8, 11,  4,  9,  4,  4,  1, 13, 13, 11]])"
      ]
     },
     "execution_count": 100,
     "metadata": {},
     "output_type": "execute_result"
    }
   ],
   "source": [
    "arr = np.array([8,14,1,8,11,4,9,4,4,1,13,13,11])\n",
    "np.expand_dims(arr,axis=0)"
   ]
  },
  {
   "cell_type": "code",
   "execution_count": 101,
   "id": "7ffa81e0-597a-42bc-bbfb-e01e0913184f",
   "metadata": {},
   "outputs": [
    {
     "data": {
      "text/plain": [
       "array([[ 8],\n",
       "       [14],\n",
       "       [ 1],\n",
       "       [ 8],\n",
       "       [11],\n",
       "       [ 4],\n",
       "       [ 9],\n",
       "       [ 4],\n",
       "       [ 4],\n",
       "       [ 1],\n",
       "       [13],\n",
       "       [13],\n",
       "       [11]])"
      ]
     },
     "execution_count": 101,
     "metadata": {},
     "output_type": "execute_result"
    }
   ],
   "source": [
    "np.expand_dims(arr,axis=1)"
   ]
  },
  {
   "cell_type": "code",
   "execution_count": 102,
   "id": "6636523f-1993-4fce-85a4-438c832af204",
   "metadata": {},
   "outputs": [
    {
     "data": {
      "text/plain": [
       "array([ 8, 14,  1,  8, 11,  2])"
      ]
     },
     "execution_count": 102,
     "metadata": {},
     "output_type": "execute_result"
    }
   ],
   "source": [
    "arr = np.array([[8],[14],[1],[8],[11],[2]])\n",
    "np.squeeze(arr)"
   ]
  },
  {
   "cell_type": "raw",
   "id": "eb0e343e-afb0-4323-a957-a72877261b1d",
   "metadata": {},
   "source": [
    "np.count_nonzero(a,axis=None,*,keepdims=False)"
   ]
  },
  {
   "cell_type": "code",
   "execution_count": 103,
   "id": "0113e0a9-9caa-4fd1-b9db-13e52156dd63",
   "metadata": {},
   "outputs": [
    {
     "data": {
      "text/plain": [
       "3"
      ]
     },
     "execution_count": 103,
     "metadata": {},
     "output_type": "execute_result"
    }
   ],
   "source": [
    "a = np.array([0,0,1,1,1,0]) \n",
    "np.count_nonzero(a) # count the number of zero elements"
   ]
  },
  {
   "cell_type": "code",
   "execution_count": 104,
   "id": "42e14492-d60d-4316-a593-f5a5aac1f974",
   "metadata": {},
   "outputs": [
    {
     "data": {
      "text/plain": [
       "array([[2],\n",
       "       [3],\n",
       "       [4]], dtype=int64)"
      ]
     },
     "execution_count": 104,
     "metadata": {},
     "output_type": "execute_result"
    }
   ],
   "source": [
    "np.argwhere(a)"
   ]
  },
  {
   "cell_type": "code",
   "execution_count": 105,
   "id": "a64f28a0-8fa0-451a-a0fd-8ee71f2f1754",
   "metadata": {},
   "outputs": [
    {
     "data": {
      "text/plain": [
       "0"
      ]
     },
     "execution_count": 105,
     "metadata": {},
     "output_type": "execute_result"
    }
   ],
   "source": [
    "#np.argmax(a, axis=None, out=None)\n",
    "arr = np.array([[6.23,0.64,1.23,1.35]])\n",
    "np.argmax(arr)"
   ]
  },
  {
   "cell_type": "code",
   "execution_count": 106,
   "id": "ef1d15f1-dfc1-4ec4-bbc4-53f9d1835986",
   "metadata": {},
   "outputs": [
    {
     "data": {
      "text/plain": [
       "1"
      ]
     },
     "execution_count": 106,
     "metadata": {},
     "output_type": "execute_result"
    }
   ],
   "source": [
    "np.argmin(arr)"
   ]
  },
  {
   "cell_type": "code",
   "execution_count": 107,
   "id": "d3858112-28e2-452f-b319-5c67385540a3",
   "metadata": {},
   "outputs": [
    {
     "data": {
      "text/plain": [
       "array([[0.64, 1.23, 1.35, 6.23]])"
      ]
     },
     "execution_count": 107,
     "metadata": {},
     "output_type": "execute_result"
    }
   ],
   "source": [
    "#np.sort(a, axis=-1, kind=None, order=None)\n",
    "np.sort(arr)"
   ]
  },
  {
   "cell_type": "code",
   "execution_count": 109,
   "id": "25f05c98-cd8f-4905-9456-0bd4a37c79a3",
   "metadata": {},
   "outputs": [
    {
     "data": {
      "text/plain": [
       "array([[6.23, 0.64, 1.23, 1.35]])"
      ]
     },
     "execution_count": 109,
     "metadata": {},
     "output_type": "execute_result"
    }
   ],
   "source": [
    "np.abs(arr) # it returns the absolute value"
   ]
  },
  {
   "cell_type": "code",
   "execution_count": 113,
   "id": "08f281b4-4d4f-46b0-b320-998c1c229044",
   "metadata": {},
   "outputs": [
    {
     "name": "stdout",
     "output_type": "stream",
     "text": [
      "[[6. 1. 1. 1.]]\n",
      "[[6.2 0.6 1.2 1.4]]\n"
     ]
    }
   ],
   "source": [
    "print(np.round(arr, decimals=0))\n",
    "print(np.round(arr, decimals=1))"
   ]
  },
  {
   "cell_type": "code",
   "execution_count": 112,
   "id": "531e4f97-ec96-45fc-b6a9-1fbb45b910ed",
   "metadata": {},
   "outputs": [
    {
     "data": {
      "text/plain": [
       "array([[0.02555277, 0.25827765, 0.15004684, 0.86413465],\n",
       "       [0.94365389, 0.59004162, 0.49543295, 0.61681253],\n",
       "       [0.08445259, 0.35787026, 0.29739249, 0.13839665]])"
      ]
     },
     "execution_count": 112,
     "metadata": {},
     "output_type": "execute_result"
    }
   ],
   "source": [
    "a = np.random.random(size=(3,4))\n",
    "a"
   ]
  },
  {
   "cell_type": "code",
   "execution_count": 114,
   "id": "c77d7241-659a-4d9c-8717-aec9700d67a7",
   "metadata": {},
   "outputs": [
    {
     "data": {
      "text/plain": [
       "array([0, 1, 0, 0, 5, 5, 5, 2, 3])"
      ]
     },
     "execution_count": 114,
     "metadata": {},
     "output_type": "execute_result"
    }
   ],
   "source": [
    "arr = np.array([0,1,-3,-4,5,6,7,2,3])\n",
    "arr.clip(0,5)"
   ]
  },
  {
   "cell_type": "code",
   "execution_count": 115,
   "id": "5c114115-edc3-4be8-9b7d-2e5c5175b39c",
   "metadata": {},
   "outputs": [
    {
     "data": {
      "text/plain": [
       "array([0, 1, 0, 0, 3, 3, 3, 2, 3])"
      ]
     },
     "execution_count": 115,
     "metadata": {},
     "output_type": "execute_result"
    }
   ],
   "source": [
    "arr.clip(0,3)"
   ]
  },
  {
   "cell_type": "code",
   "execution_count": 116,
   "id": "1adb55cd-c217-48f5-a6f9-62cdde323c57",
   "metadata": {},
   "outputs": [
    {
     "data": {
      "text/plain": [
       "array([[ 0,  1,  2],\n",
       "       [ 3,  4,  5],\n",
       "       [ 6,  7,  8],\n",
       "       [ 9, 10, 11]])"
      ]
     },
     "execution_count": 116,
     "metadata": {},
     "output_type": "execute_result"
    }
   ],
   "source": [
    "a = np.arange(12).reshape(4,3)\n",
    "a"
   ]
  },
  {
   "cell_type": "code",
   "execution_count": 117,
   "id": "3c99600d-71f2-4755-9c25-dde535218cab",
   "metadata": {},
   "outputs": [
    {
     "data": {
      "text/plain": [
       "(array([2, 2, 2, 3, 3, 3], dtype=int64),\n",
       " array([0, 1, 2, 0, 1, 2], dtype=int64))"
      ]
     },
     "execution_count": 117,
     "metadata": {},
     "output_type": "execute_result"
    }
   ],
   "source": [
    "np.where(a>5)"
   ]
  },
  {
   "cell_type": "code",
   "execution_count": 118,
   "id": "120c9eb9-6acd-437d-b6bf-8869651206a3",
   "metadata": {},
   "outputs": [
    {
     "data": {
      "text/plain": [
       "array([0, 1, 2, 3, 4])"
      ]
     },
     "execution_count": 118,
     "metadata": {},
     "output_type": "execute_result"
    }
   ],
   "source": [
    "a[np.where(a<5)]"
   ]
  },
  {
   "cell_type": "code",
   "execution_count": 119,
   "id": "ddae0477-bb25-4bdb-a30e-91ba257a8550",
   "metadata": {},
   "outputs": [
    {
     "data": {
      "text/plain": [
       "array([ 0,  6,  7, -4,  5,  6,  7,  2,  3])"
      ]
     },
     "execution_count": 119,
     "metadata": {},
     "output_type": "execute_result"
    }
   ],
   "source": [
    "np.put(arr,[1,2],[6,7]) # replaces specified elements of an array with give values\n",
    "arr"
   ]
  },
  {
   "cell_type": "code",
   "execution_count": 123,
   "id": "e5ea8112-ed75-479d-884b-4a787d64961c",
   "metadata": {},
   "outputs": [
    {
     "name": "stdout",
     "output_type": "stream",
     "text": [
      "Before arr1 [1 2 3]\n",
      "Before  arr2 [4 5 6]\n",
      "After arr1 [4 5 6]\n",
      "After arr2 [4 5 6]\n"
     ]
    }
   ],
   "source": [
    "#copyto(dst, src, casting='same_kind', where=True)\n",
    "arr1 = np.array([1,2,3])\n",
    "arr2 = np.array([4,5,6])\n",
    "print(\"Before arr1\", arr1)\n",
    "print(\"Before  arr2\", arr2)\n",
    "np.copyto(arr1,arr2)\n",
    "print(\"After arr1\", arr1)\n",
    "print(\"After arr2\", arr2)"
   ]
  },
  {
   "cell_type": "markdown",
   "id": "be45657c-4a07-4194-bea5-37e6c1869d44",
   "metadata": {},
   "source": [
    "### extract unique elements from both Arrays"
   ]
  },
  {
   "cell_type": "code",
   "execution_count": 124,
   "id": "f12b15cd-18b4-409a-b6b4-4f3a08717eaf",
   "metadata": {},
   "outputs": [
    {
     "data": {
      "text/plain": [
       "array([ 2,  3,  5,  6,  9, 36])"
      ]
     },
     "execution_count": 124,
     "metadata": {},
     "output_type": "execute_result"
    }
   ],
   "source": [
    "a = np.array([1,2,3,4,5,6])\n",
    "b = np.array([1,4,9,4,36])\n",
    "np.setxor1d(a,b)"
   ]
  },
  {
   "cell_type": "code",
   "execution_count": 125,
   "id": "0b0c7d0a-6c8e-4c96-b73f-d663cc1990d0",
   "metadata": {},
   "outputs": [
    {
     "data": {
      "text/plain": [
       "[array([[3, 4],\n",
       "        [6, 7]]),\n",
       " array([[5, 2],\n",
       "        [2, 6]])]"
      ]
     },
     "execution_count": 125,
     "metadata": {},
     "output_type": "execute_result"
    }
   ],
   "source": [
    "A = np.array([[3,4,5,2],[6,7,2,6]])\n",
    "np.hsplit(A, 2) ## splits the data into two equal parts"
   ]
  },
  {
   "cell_type": "code",
   "execution_count": 126,
   "id": "b3ca8a87-dde8-4cdc-a065-fb4deae38d8a",
   "metadata": {},
   "outputs": [
    {
     "data": {
      "text/plain": [
       "[array([[3],\n",
       "        [6]]),\n",
       " array([[4],\n",
       "        [7]]),\n",
       " array([[5],\n",
       "        [2]]),\n",
       " array([[2],\n",
       "        [6]])]"
      ]
     },
     "execution_count": 126,
     "metadata": {},
     "output_type": "execute_result"
    }
   ],
   "source": [
    "np.hsplit(A,4)"
   ]
  },
  {
   "cell_type": "code",
   "execution_count": 135,
   "id": "47e75455-e506-4dd3-ad3b-811d0c00dc95",
   "metadata": {},
   "outputs": [
    {
     "data": {
      "text/plain": [
       "[array([[3, 4, 5, 2]]), array([[6, 7, 2, 6]])]"
      ]
     },
     "execution_count": 135,
     "metadata": {},
     "output_type": "execute_result"
    }
   ],
   "source": [
    "np.vsplit(A,2)"
   ]
  },
  {
   "cell_type": "markdown",
   "id": "502f3d9f-e8d8-4652-8f70-aec3e56ee730",
   "metadata": {},
   "source": [
    "### comparing two arrays"
   ]
  },
  {
   "cell_type": "code",
   "execution_count": 136,
   "id": "99ed3245-bc55-4efd-9aae-e9cd406cd43e",
   "metadata": {},
   "outputs": [
    {
     "data": {
      "text/plain": [
       "False"
      ]
     },
     "execution_count": 136,
     "metadata": {},
     "output_type": "execute_result"
    }
   ],
   "source": [
    "a = np.array([0.25,0.4,0.6,0.32])\n",
    "b = np.array([0.26,0.3,2.7,0.32])\n",
    "tolerance = 0.1 # total difference\n",
    "np.allclose(a,b,tolerance)"
   ]
  },
  {
   "cell_type": "code",
   "execution_count": 142,
   "id": "646da0ef-40ae-4577-8fd0-26c8f0fcd0d0",
   "metadata": {},
   "outputs": [
    {
     "name": "stdout",
     "output_type": "stream",
     "text": [
      "[False  True  True False]\n"
     ]
    }
   ],
   "source": [
    "tolerance = 0.1\n",
    "np.allclose(a,b,tolerance)\n",
    "print(np.abs(a - b) > tolerance)"
   ]
  },
  {
   "cell_type": "code",
   "execution_count": 140,
   "id": "138d70e1-996c-4141-960c-9da07870ee19",
   "metadata": {},
   "outputs": [
    {
     "data": {
      "text/plain": [
       "array(['2017', '2017', '2017'], dtype='<U4')"
      ]
     },
     "execution_count": 140,
     "metadata": {},
     "output_type": "execute_result"
    }
   ],
   "source": [
    "np.repeat('2017',3)"
   ]
  },
  {
   "cell_type": "code",
   "execution_count": 146,
   "id": "f27a229a-4aa3-460e-9997-e70c27ba3415",
   "metadata": {},
   "outputs": [],
   "source": [
    "import pandas as pd\n",
    "df = pd.DataFrame([['Mango',40],['Banana',140],['apple',240]], columns=['fruits','price'])"
   ]
  },
  {
   "cell_type": "code",
   "execution_count": 148,
   "id": "c21936ad-98fe-4e69-922b-99e4179288bb",
   "metadata": {},
   "outputs": [
    {
     "data": {
      "text/html": [
       "<div>\n",
       "<style scoped>\n",
       "    .dataframe tbody tr th:only-of-type {\n",
       "        vertical-align: middle;\n",
       "    }\n",
       "\n",
       "    .dataframe tbody tr th {\n",
       "        vertical-align: top;\n",
       "    }\n",
       "\n",
       "    .dataframe thead th {\n",
       "        text-align: right;\n",
       "    }\n",
       "</style>\n",
       "<table border=\"1\" class=\"dataframe\">\n",
       "  <thead>\n",
       "    <tr style=\"text-align: right;\">\n",
       "      <th></th>\n",
       "      <th>fruits</th>\n",
       "      <th>price</th>\n",
       "      <th>year</th>\n",
       "    </tr>\n",
       "  </thead>\n",
       "  <tbody>\n",
       "    <tr>\n",
       "      <th>0</th>\n",
       "      <td>Mango</td>\n",
       "      <td>40</td>\n",
       "      <td>2020</td>\n",
       "    </tr>\n",
       "    <tr>\n",
       "      <th>1</th>\n",
       "      <td>Banana</td>\n",
       "      <td>140</td>\n",
       "      <td>2020</td>\n",
       "    </tr>\n",
       "    <tr>\n",
       "      <th>2</th>\n",
       "      <td>apple</td>\n",
       "      <td>240</td>\n",
       "      <td>2020</td>\n",
       "    </tr>\n",
       "  </tbody>\n",
       "</table>\n",
       "</div>"
      ],
      "text/plain": [
       "   fruits  price  year\n",
       "0   Mango     40  2020\n",
       "1  Banana    140  2020\n",
       "2   apple    240  2020"
      ]
     },
     "execution_count": 148,
     "metadata": {},
     "output_type": "execute_result"
    }
   ],
   "source": [
    "df['year'] = np.repeat(2020, df.shape[0])\n",
    "df"
   ]
  },
  {
   "cell_type": "markdown",
   "id": "235c8216-c626-4eac-907e-a00961849c22",
   "metadata": {},
   "source": [
    "### array printing options"
   ]
  },
  {
   "cell_type": "code",
   "execution_count": 149,
   "id": "64a982c8-523d-45da-b5e3-19f2dc4f71ef",
   "metadata": {},
   "outputs": [
    {
     "name": "stdout",
     "output_type": "stream",
     "text": [
      "[12.23 32.35]\n"
     ]
    }
   ],
   "source": [
    "np.set_printoptions(precision=2)\n",
    "a = np.array([12.23456, 32.34535])\n",
    "print(a)"
   ]
  },
  {
   "cell_type": "code",
   "execution_count": 150,
   "id": "9d7a5dc7-3d87-4c09-b6e3-af6d3d7811f4",
   "metadata": {},
   "outputs": [],
   "source": [
    "np.set_printoptions(threshold=np.inf)"
   ]
  },
  {
   "cell_type": "code",
   "execution_count": 151,
   "id": "258f7bc2-b36a-4c5d-9c97-fbb2c69146a7",
   "metadata": {},
   "outputs": [],
   "source": [
    "np.set_printoptions(linewidth=100) #default 75"
   ]
  },
  {
   "cell_type": "code",
   "execution_count": null,
   "id": "06d78a84-045b-4897-a7a1-76340e729a7f",
   "metadata": {},
   "outputs": [],
   "source": []
  }
 ],
 "metadata": {
  "kernelspec": {
   "display_name": "Python 3 (ipykernel)",
   "language": "python",
   "name": "python3"
  },
  "language_info": {
   "codemirror_mode": {
    "name": "ipython",
    "version": 3
   },
   "file_extension": ".py",
   "mimetype": "text/x-python",
   "name": "python",
   "nbconvert_exporter": "python",
   "pygments_lexer": "ipython3",
   "version": "3.12.7"
  }
 },
 "nbformat": 4,
 "nbformat_minor": 5
}
