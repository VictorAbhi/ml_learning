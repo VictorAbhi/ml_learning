{
 "cells": [
  {
   "cell_type": "markdown",
   "id": "9bfe3aee-f2ca-4bfd-805e-8eb82cec8910",
   "metadata": {},
   "source": [
    "# series object in one-dimesional labeled array"
   ]
  },
  {
   "cell_type": "code",
   "execution_count": 1,
   "id": "56bf8a8b-b7c9-46ff-bae4-fb69475ff475",
   "metadata": {},
   "outputs": [],
   "source": [
    "import pandas as pd"
   ]
  },
  {
   "cell_type": "code",
   "execution_count": 2,
   "id": "91345a99-36ca-4aa7-9e4a-e6206e01e166",
   "metadata": {},
   "outputs": [],
   "source": [
    "s1 = pd.Series([1,2,3,4,5]) "
   ]
  },
  {
   "cell_type": "code",
   "execution_count": 3,
   "id": "a4cd53c2-d3e2-4cde-b124-9c1d58c0dbd4",
   "metadata": {},
   "outputs": [
    {
     "data": {
      "text/plain": [
       "0    1\n",
       "1    2\n",
       "2    3\n",
       "3    4\n",
       "4    5\n",
       "dtype: int64"
      ]
     },
     "execution_count": 3,
     "metadata": {},
     "output_type": "execute_result"
    }
   ],
   "source": [
    "s1"
   ]
  },
  {
   "cell_type": "code",
   "execution_count": 4,
   "id": "18f81a92-a563-4c40-a401-78a6a270fcd6",
   "metadata": {},
   "outputs": [
    {
     "data": {
      "text/plain": [
       "pandas.core.series.Series"
      ]
     },
     "execution_count": 4,
     "metadata": {},
     "output_type": "execute_result"
    }
   ],
   "source": [
    "type(s1)"
   ]
  },
  {
   "cell_type": "markdown",
   "id": "d5e3f8e7-8b8e-4879-928a-e8b67d045b43",
   "metadata": {},
   "source": [
    "# series can be indexed and change to values"
   ]
  },
  {
   "cell_type": "code",
   "execution_count": null,
   "id": "a767ced5-13bd-440d-8e89-f07b81ab3cf6",
   "metadata": {},
   "outputs": [],
   "source": []
  }
 ],
 "metadata": {
  "kernelspec": {
   "display_name": "Python 3 (ipykernel)",
   "language": "python",
   "name": "python3"
  },
  "language_info": {
   "codemirror_mode": {
    "name": "ipython",
    "version": 3
   },
   "file_extension": ".py",
   "mimetype": "text/x-python",
   "name": "python",
   "nbconvert_exporter": "python",
   "pygments_lexer": "ipython3",
   "version": "3.12.7"
  }
 },
 "nbformat": 4,
 "nbformat_minor": 5
}
