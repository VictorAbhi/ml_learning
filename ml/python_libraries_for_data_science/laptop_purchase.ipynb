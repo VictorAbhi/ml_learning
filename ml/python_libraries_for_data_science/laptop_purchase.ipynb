{
 "cells": [
  {
   "cell_type": "code",
   "execution_count": 1,
   "id": "4bde27bf-47f2-4a12-abc0-287a9d1b24f8",
   "metadata": {},
   "outputs": [],
   "source": [
    "import numpy as np\n",
    "import pandas as pd\n",
    "import matplotlib.pyplot as plt\n",
    "import seaborn as sns"
   ]
  },
  {
   "cell_type": "code",
   "execution_count": 2,
   "id": "9feda98f-a522-4b9c-98ec-48bbc867c9d5",
   "metadata": {},
   "outputs": [],
   "source": [
    "df = pd.read_csv('data_sets/laptop_purchase.csv')"
   ]
  },
  {
   "cell_type": "code",
   "execution_count": 3,
   "id": "5197fa2e-6066-44b1-b2a2-74a223ac761c",
   "metadata": {},
   "outputs": [
    {
     "data": {
      "text/html": [
       "<div>\n",
       "<style scoped>\n",
       "    .dataframe tbody tr th:only-of-type {\n",
       "        vertical-align: middle;\n",
       "    }\n",
       "\n",
       "    .dataframe tbody tr th {\n",
       "        vertical-align: top;\n",
       "    }\n",
       "\n",
       "    .dataframe thead th {\n",
       "        text-align: right;\n",
       "    }\n",
       "</style>\n",
       "<table border=\"1\" class=\"dataframe\">\n",
       "  <thead>\n",
       "    <tr style=\"text-align: right;\">\n",
       "      <th></th>\n",
       "      <th>Customer_ID</th>\n",
       "      <th>Age</th>\n",
       "      <th>Gender</th>\n",
       "      <th>City</th>\n",
       "      <th>Income_Level</th>\n",
       "      <th>Purchase_Mode</th>\n",
       "      <th>Brand_Purchased</th>\n",
       "      <th>Price_Range</th>\n",
       "      <th>Payment_Mode</th>\n",
       "      <th>Purchase_Frequency</th>\n",
       "      <th>Satisfaction_Rating</th>\n",
       "    </tr>\n",
       "  </thead>\n",
       "  <tbody>\n",
       "    <tr>\n",
       "      <th>0</th>\n",
       "      <td>CUST00001</td>\n",
       "      <td>56</td>\n",
       "      <td>Male</td>\n",
       "      <td>Pune</td>\n",
       "      <td>Low</td>\n",
       "      <td>Online</td>\n",
       "      <td>Dell</td>\n",
       "      <td>30K-50K</td>\n",
       "      <td>UPI</td>\n",
       "      <td>Rare</td>\n",
       "      <td>4</td>\n",
       "    </tr>\n",
       "    <tr>\n",
       "      <th>1</th>\n",
       "      <td>CUST00002</td>\n",
       "      <td>46</td>\n",
       "      <td>Female</td>\n",
       "      <td>Kolkata</td>\n",
       "      <td>Medium</td>\n",
       "      <td>Online</td>\n",
       "      <td>MSI</td>\n",
       "      <td>Below 30K</td>\n",
       "      <td>Cash</td>\n",
       "      <td>Occasional</td>\n",
       "      <td>2</td>\n",
       "    </tr>\n",
       "    <tr>\n",
       "      <th>2</th>\n",
       "      <td>CUST00003</td>\n",
       "      <td>32</td>\n",
       "      <td>Male</td>\n",
       "      <td>Bangalore</td>\n",
       "      <td>Low</td>\n",
       "      <td>Online</td>\n",
       "      <td>Samsung</td>\n",
       "      <td>80K-1.2L</td>\n",
       "      <td>UPI</td>\n",
       "      <td>Occasional</td>\n",
       "      <td>3</td>\n",
       "    </tr>\n",
       "    <tr>\n",
       "      <th>3</th>\n",
       "      <td>CUST00004</td>\n",
       "      <td>25</td>\n",
       "      <td>Female</td>\n",
       "      <td>Jaipur</td>\n",
       "      <td>Medium</td>\n",
       "      <td>Offline</td>\n",
       "      <td>Samsung</td>\n",
       "      <td>Below 30K</td>\n",
       "      <td>Credit Card</td>\n",
       "      <td>Rare</td>\n",
       "      <td>4</td>\n",
       "    </tr>\n",
       "    <tr>\n",
       "      <th>4</th>\n",
       "      <td>CUST00005</td>\n",
       "      <td>38</td>\n",
       "      <td>Female</td>\n",
       "      <td>Pune</td>\n",
       "      <td>High</td>\n",
       "      <td>Online</td>\n",
       "      <td>MSI</td>\n",
       "      <td>80K-1.2L</td>\n",
       "      <td>Cash</td>\n",
       "      <td>Rare</td>\n",
       "      <td>3</td>\n",
       "    </tr>\n",
       "  </tbody>\n",
       "</table>\n",
       "</div>"
      ],
      "text/plain": [
       "  Customer_ID  Age  Gender       City Income_Level Purchase_Mode  \\\n",
       "0   CUST00001   56    Male       Pune          Low        Online   \n",
       "1   CUST00002   46  Female    Kolkata       Medium        Online   \n",
       "2   CUST00003   32    Male  Bangalore          Low        Online   \n",
       "3   CUST00004   25  Female     Jaipur       Medium       Offline   \n",
       "4   CUST00005   38  Female       Pune         High        Online   \n",
       "\n",
       "  Brand_Purchased Price_Range Payment_Mode Purchase_Frequency  \\\n",
       "0            Dell     30K-50K          UPI               Rare   \n",
       "1             MSI   Below 30K         Cash         Occasional   \n",
       "2         Samsung    80K-1.2L          UPI         Occasional   \n",
       "3         Samsung   Below 30K  Credit Card               Rare   \n",
       "4             MSI    80K-1.2L         Cash               Rare   \n",
       "\n",
       "   Satisfaction_Rating  \n",
       "0                    4  \n",
       "1                    2  \n",
       "2                    3  \n",
       "3                    4  \n",
       "4                    3  "
      ]
     },
     "execution_count": 3,
     "metadata": {},
     "output_type": "execute_result"
    }
   ],
   "source": [
    "df.head()"
   ]
  },
  {
   "cell_type": "markdown",
   "id": "336c9de8-1215-418a-886c-faeb7ea96075",
   "metadata": {},
   "source": [
    "### 1. Are there any missing values in the dataset? If yes, how would you handle them? -What strategies would you use for imputing missing values (e.g., mean, median, mode, forward fill)? "
   ]
  },
  {
   "cell_type": "code",
   "execution_count": 5,
   "id": "8e83667a-6593-4ba6-a5c0-1b16681ddfbf",
   "metadata": {},
   "outputs": [
    {
     "data": {
      "text/plain": [
       "Customer_ID            0\n",
       "Age                    0\n",
       "Gender                 0\n",
       "City                   0\n",
       "Income_Level           0\n",
       "Purchase_Mode          0\n",
       "Brand_Purchased        0\n",
       "Price_Range            0\n",
       "Payment_Mode           0\n",
       "Purchase_Frequency     0\n",
       "Satisfaction_Rating    0\n",
       "dtype: int64"
      ]
     },
     "execution_count": 5,
     "metadata": {},
     "output_type": "execute_result"
    }
   ],
   "source": [
    "df.isnull().sum() # no missing values in dataset"
   ]
  },
  {
   "cell_type": "raw",
   "id": "3ef69ec6-f1d0-4d15-b14e-aa7b6d116867",
   "metadata": {},
   "source": [
    "mean is suitable if the data is normally distributed , without the outliers\n",
    "median is suitable for data which is skewed\n",
    "mode is suitable for the categorical data\n",
    "forward fill or backward fill is useful for giving continuity to the values, like for time-series data"
   ]
  },
  {
   "cell_type": "markdown",
   "id": "6a535b95-8f1f-43a0-9235-b3bf798f7c2c",
   "metadata": {},
   "source": [
    "### Do any columns contain duplicate entries or rows? How can you identify and remove them? -Why is it important to remove duplicates, and how would this impact analysis? "
   ]
  },
  {
   "cell_type": "code",
   "execution_count": 8,
   "id": "a20fe3ee-c076-4748-9240-f7da3eb3384a",
   "metadata": {},
   "outputs": [
    {
     "data": {
      "text/html": [
       "<div>\n",
       "<style scoped>\n",
       "    .dataframe tbody tr th:only-of-type {\n",
       "        vertical-align: middle;\n",
       "    }\n",
       "\n",
       "    .dataframe tbody tr th {\n",
       "        vertical-align: top;\n",
       "    }\n",
       "\n",
       "    .dataframe thead th {\n",
       "        text-align: right;\n",
       "    }\n",
       "</style>\n",
       "<table border=\"1\" class=\"dataframe\">\n",
       "  <thead>\n",
       "    <tr style=\"text-align: right;\">\n",
       "      <th></th>\n",
       "      <th>Customer_ID</th>\n",
       "      <th>Age</th>\n",
       "      <th>Gender</th>\n",
       "      <th>City</th>\n",
       "      <th>Income_Level</th>\n",
       "      <th>Purchase_Mode</th>\n",
       "      <th>Brand_Purchased</th>\n",
       "      <th>Price_Range</th>\n",
       "      <th>Payment_Mode</th>\n",
       "      <th>Purchase_Frequency</th>\n",
       "      <th>Satisfaction_Rating</th>\n",
       "    </tr>\n",
       "  </thead>\n",
       "  <tbody>\n",
       "  </tbody>\n",
       "</table>\n",
       "</div>"
      ],
      "text/plain": [
       "Empty DataFrame\n",
       "Columns: [Customer_ID, Age, Gender, City, Income_Level, Purchase_Mode, Brand_Purchased, Price_Range, Payment_Mode, Purchase_Frequency, Satisfaction_Rating]\n",
       "Index: []"
      ]
     },
     "execution_count": 8,
     "metadata": {},
     "output_type": "execute_result"
    }
   ],
   "source": [
    "df[df.duplicated()]"
   ]
  },
  {
   "cell_type": "raw",
   "id": "5744aaf4-c283-4936-8aa5-30bf4325bf97",
   "metadata": {},
   "source": [
    "Removing duplicates is necessary for improved model performance, to avoid skewness and to save the computational resources as well."
   ]
  },
  {
   "cell_type": "markdown",
   "id": "541abe4e-8b0e-46a2-b42a-7e2da3461bf2",
   "metadata": {},
   "source": [
    "### 3. Are there any outliers in the dataset, especially in numerical columns like Age or Income_Level? "
   ]
  },
  {
   "cell_type": "code",
   "execution_count": 9,
   "id": "5b73a357-ddd5-46da-ba21-4fc624ccd8a4",
   "metadata": {},
   "outputs": [
    {
     "data": {
      "text/html": [
       "<div>\n",
       "<style scoped>\n",
       "    .dataframe tbody tr th:only-of-type {\n",
       "        vertical-align: middle;\n",
       "    }\n",
       "\n",
       "    .dataframe tbody tr th {\n",
       "        vertical-align: top;\n",
       "    }\n",
       "\n",
       "    .dataframe thead th {\n",
       "        text-align: right;\n",
       "    }\n",
       "</style>\n",
       "<table border=\"1\" class=\"dataframe\">\n",
       "  <thead>\n",
       "    <tr style=\"text-align: right;\">\n",
       "      <th></th>\n",
       "      <th>Age</th>\n",
       "      <th>Satisfaction_Rating</th>\n",
       "    </tr>\n",
       "  </thead>\n",
       "  <tbody>\n",
       "    <tr>\n",
       "      <th>count</th>\n",
       "      <td>5000.000000</td>\n",
       "      <td>5000.000000</td>\n",
       "    </tr>\n",
       "    <tr>\n",
       "      <th>mean</th>\n",
       "      <td>38.662200</td>\n",
       "      <td>2.994200</td>\n",
       "    </tr>\n",
       "    <tr>\n",
       "      <th>std</th>\n",
       "      <td>12.028492</td>\n",
       "      <td>1.416957</td>\n",
       "    </tr>\n",
       "    <tr>\n",
       "      <th>min</th>\n",
       "      <td>18.000000</td>\n",
       "      <td>1.000000</td>\n",
       "    </tr>\n",
       "    <tr>\n",
       "      <th>25%</th>\n",
       "      <td>28.000000</td>\n",
       "      <td>2.000000</td>\n",
       "    </tr>\n",
       "    <tr>\n",
       "      <th>50%</th>\n",
       "      <td>39.000000</td>\n",
       "      <td>3.000000</td>\n",
       "    </tr>\n",
       "    <tr>\n",
       "      <th>75%</th>\n",
       "      <td>49.000000</td>\n",
       "      <td>4.000000</td>\n",
       "    </tr>\n",
       "    <tr>\n",
       "      <th>max</th>\n",
       "      <td>59.000000</td>\n",
       "      <td>5.000000</td>\n",
       "    </tr>\n",
       "  </tbody>\n",
       "</table>\n",
       "</div>"
      ],
      "text/plain": [
       "               Age  Satisfaction_Rating\n",
       "count  5000.000000          5000.000000\n",
       "mean     38.662200             2.994200\n",
       "std      12.028492             1.416957\n",
       "min      18.000000             1.000000\n",
       "25%      28.000000             2.000000\n",
       "50%      39.000000             3.000000\n",
       "75%      49.000000             4.000000\n",
       "max      59.000000             5.000000"
      ]
     },
     "execution_count": 9,
     "metadata": {},
     "output_type": "execute_result"
    }
   ],
   "source": [
    "df.describe()"
   ]
  },
  {
   "cell_type": "code",
   "execution_count": 15,
   "id": "a6820867-4d01-4089-ad62-1411635785ea",
   "metadata": {},
   "outputs": [
    {
     "data": {
      "text/plain": [
       "Text(0.5, 1.0, 'Visualizing box plots to identify the outliers')"
      ]
     },
     "execution_count": 15,
     "metadata": {},
     "output_type": "execute_result"
    },
    {
     "data": {
      "image/png": "[encoded data removed]",
      "text/plain": [
       "<Figure size 640x480 with 1 Axes>"
      ]
     },
     "metadata": {},
     "output_type": "display_data"
    }
   ],
   "source": [
    "sns.boxplot(df, width=0.5, color='red') # used boxplot visualization for outlier detection\n",
    "plt.title(\"Visualizing box plots to identify the outliers\")"
   ]
  },
  {
   "cell_type": "code",
   "execution_count": 12,
   "id": "0c8d68df-aeea-419c-af37-e35552a10be2",
   "metadata": {},
   "outputs": [
    {
     "data": {
      "text/plain": [
       "3"
      ]
     },
     "execution_count": 12,
     "metadata": {},
     "output_type": "execute_result"
    }
   ],
   "source": [
    "# for income level\n",
    "df['Income_Level'].nunique()"
   ]
  },
  {
   "cell_type": "code",
   "execution_count": 14,
   "id": "3cb26443-4809-43b5-ae9a-9370d8ef2048",
   "metadata": {},
   "outputs": [
    {
     "data": {
      "text/plain": [
       "Income_Level\n",
       "Medium    2540\n",
       "Low       1464\n",
       "High       996\n",
       "Name: count, dtype: int64"
      ]
     },
     "execution_count": 14,
     "metadata": {},
     "output_type": "execute_result"
    }
   ],
   "source": [
    "df['Income_Level'].value_counts()"
   ]
  },
  {
   "cell_type": "markdown",
   "id": "87c43e1e-83f0-4418-bcc2-7a83a58b621b",
   "metadata": {},
   "source": [
    "### 4. Are the data types of the columns appropriate for analysis? "
   ]
  },
  {
   "cell_type": "code",
   "execution_count": 16,
   "id": "c2851b58-4fca-4cd9-98c9-f5dd803a38ce",
   "metadata": {},
   "outputs": [
    {
     "data": {
      "text/plain": [
       "Customer_ID            object\n",
       "Age                     int64\n",
       "Gender                 object\n",
       "City                   object\n",
       "Income_Level           object\n",
       "Purchase_Mode          object\n",
       "Brand_Purchased        object\n",
       "Price_Range            object\n",
       "Payment_Mode           object\n",
       "Purchase_Frequency     object\n",
       "Satisfaction_Rating     int64\n",
       "dtype: object"
      ]
     },
     "execution_count": 16,
     "metadata": {},
     "output_type": "execute_result"
    }
   ],
   "source": [
    "df.dtypes"
   ]
  },
  {
   "cell_type": "raw",
   "id": "619404b1-793d-4f56-b119-9f37a50725d8",
   "metadata": {},
   "source": [
    "I think data_types of every column is appropriate. I may be wrong though."
   ]
  },
  {
   "cell_type": "markdown",
   "id": "64d996d6-b4e5-4bb2-896a-c1de45617ca2",
   "metadata": {},
   "source": [
    "### 5. Do any columns contain inconsistent data entries (e.g., 'M' vs 'Male' for gender, or 'High' vs 1000 for Income_Level)? "
   ]
  },
  {
   "cell_type": "code",
   "execution_count": 28,
   "id": "d88574d9-291b-4869-8e85-4b58152b346d",
   "metadata": {},
   "outputs": [
    {
     "data": {
      "text/html": [
       "<div>\n",
       "<style scoped>\n",
       "    .dataframe tbody tr th:only-of-type {\n",
       "        vertical-align: middle;\n",
       "    }\n",
       "\n",
       "    .dataframe tbody tr th {\n",
       "        vertical-align: top;\n",
       "    }\n",
       "\n",
       "    .dataframe thead th {\n",
       "        text-align: right;\n",
       "    }\n",
       "</style>\n",
       "<table border=\"1\" class=\"dataframe\">\n",
       "  <thead>\n",
       "    <tr style=\"text-align: right;\">\n",
       "      <th></th>\n",
       "      <th>Customer_ID</th>\n",
       "      <th>Age</th>\n",
       "      <th>Gender</th>\n",
       "      <th>City</th>\n",
       "      <th>Income_Level</th>\n",
       "      <th>Purchase_Mode</th>\n",
       "      <th>Brand_Purchased</th>\n",
       "      <th>Payment_Mode</th>\n",
       "      <th>Purchase_Frequency</th>\n",
       "      <th>Satisfaction_Rating</th>\n",
       "      <th>Price_Range_50K-80K</th>\n",
       "      <th>Price_Range_80K-1.2L</th>\n",
       "      <th>Price_Range_Above 1.2L</th>\n",
       "      <th>Price_Range_Below 30K</th>\n",
       "    </tr>\n",
       "  </thead>\n",
       "  <tbody>\n",
       "    <tr>\n",
       "      <th>0</th>\n",
       "      <td>CUST00001</td>\n",
       "      <td>56</td>\n",
       "      <td>Male</td>\n",
       "      <td>Pune</td>\n",
       "      <td>Low</td>\n",
       "      <td>Online</td>\n",
       "      <td>Dell</td>\n",
       "      <td>UPI</td>\n",
       "      <td>Rare</td>\n",
       "      <td>4</td>\n",
       "      <td>False</td>\n",
       "      <td>False</td>\n",
       "      <td>False</td>\n",
       "      <td>False</td>\n",
       "    </tr>\n",
       "    <tr>\n",
       "      <th>1</th>\n",
       "      <td>CUST00002</td>\n",
       "      <td>46</td>\n",
       "      <td>Female</td>\n",
       "      <td>Kolkata</td>\n",
       "      <td>Medium</td>\n",
       "      <td>Online</td>\n",
       "      <td>MSI</td>\n",
       "      <td>Cash</td>\n",
       "      <td>Occasional</td>\n",
       "      <td>2</td>\n",
       "      <td>False</td>\n",
       "      <td>False</td>\n",
       "      <td>False</td>\n",
       "      <td>True</td>\n",
       "    </tr>\n",
       "    <tr>\n",
       "      <th>2</th>\n",
       "      <td>CUST00003</td>\n",
       "      <td>32</td>\n",
       "      <td>Male</td>\n",
       "      <td>Bangalore</td>\n",
       "      <td>Low</td>\n",
       "      <td>Online</td>\n",
       "      <td>Samsung</td>\n",
       "      <td>UPI</td>\n",
       "      <td>Occasional</td>\n",
       "      <td>3</td>\n",
       "      <td>False</td>\n",
       "      <td>True</td>\n",
       "      <td>False</td>\n",
       "      <td>False</td>\n",
       "    </tr>\n",
       "    <tr>\n",
       "      <th>3</th>\n",
       "      <td>CUST00004</td>\n",
       "      <td>25</td>\n",
       "      <td>Female</td>\n",
       "      <td>Jaipur</td>\n",
       "      <td>Medium</td>\n",
       "      <td>Offline</td>\n",
       "      <td>Samsung</td>\n",
       "      <td>Credit Card</td>\n",
       "      <td>Rare</td>\n",
       "      <td>4</td>\n",
       "      <td>False</td>\n",
       "      <td>False</td>\n",
       "      <td>False</td>\n",
       "      <td>True</td>\n",
       "    </tr>\n",
       "    <tr>\n",
       "      <th>4</th>\n",
       "      <td>CUST00005</td>\n",
       "      <td>38</td>\n",
       "      <td>Female</td>\n",
       "      <td>Pune</td>\n",
       "      <td>High</td>\n",
       "      <td>Online</td>\n",
       "      <td>MSI</td>\n",
       "      <td>Cash</td>\n",
       "      <td>Rare</td>\n",
       "      <td>3</td>\n",
       "      <td>False</td>\n",
       "      <td>True</td>\n",
       "      <td>False</td>\n",
       "      <td>False</td>\n",
       "    </tr>\n",
       "  </tbody>\n",
       "</table>\n",
       "</div>"
      ],
      "text/plain": [
       "  Customer_ID  Age  Gender       City Income_Level Purchase_Mode  \\\n",
       "0   CUST00001   56    Male       Pune          Low        Online   \n",
       "1   CUST00002   46  Female    Kolkata       Medium        Online   \n",
       "2   CUST00003   32    Male  Bangalore          Low        Online   \n",
       "3   CUST00004   25  Female     Jaipur       Medium       Offline   \n",
       "4   CUST00005   38  Female       Pune         High        Online   \n",
       "\n",
       "  Brand_Purchased Payment_Mode Purchase_Frequency  Satisfaction_Rating  \\\n",
       "0            Dell          UPI               Rare                    4   \n",
       "1             MSI         Cash         Occasional                    2   \n",
       "2         Samsung          UPI         Occasional                    3   \n",
       "3         Samsung  Credit Card               Rare                    4   \n",
       "4             MSI         Cash               Rare                    3   \n",
       "\n",
       "   Price_Range_50K-80K  Price_Range_80K-1.2L  Price_Range_Above 1.2L  \\\n",
       "0                False                 False                   False   \n",
       "1                False                 False                   False   \n",
       "2                False                  True                   False   \n",
       "3                False                 False                   False   \n",
       "4                False                  True                   False   \n",
       "\n",
       "   Price_Range_Below 30K  \n",
       "0                  False  \n",
       "1                   True  \n",
       "2                  False  \n",
       "3                   True  \n",
       "4                  False  "
      ]
     },
     "execution_count": 28,
     "metadata": {},
     "output_type": "execute_result"
    }
   ],
   "source": [
    "df.head()"
   ]
  },
  {
   "cell_type": "code",
   "execution_count": 19,
   "id": "863768a2-4183-49e5-a546-9b0bb0116066",
   "metadata": {},
   "outputs": [
    {
     "data": {
      "text/plain": [
       "Customer_ID            5000\n",
       "Age                      42\n",
       "Gender                    2\n",
       "City                      9\n",
       "Income_Level              3\n",
       "Purchase_Mode             2\n",
       "Brand_Purchased           8\n",
       "Price_Range               5\n",
       "Payment_Mode              5\n",
       "Purchase_Frequency        3\n",
       "Satisfaction_Rating       5\n",
       "dtype: int64"
      ]
     },
     "execution_count": 19,
     "metadata": {},
     "output_type": "execute_result"
    }
   ],
   "source": [
    "df.nunique()"
   ]
  },
  {
   "cell_type": "raw",
   "id": "8014e54b-d358-42be-8975-708591ab3d2b",
   "metadata": {},
   "source": [
    "From the output in above dataset, i don't see any consistent entries, as there are who values for Gender which is of course Male and Female, similarly, three values for Income_Level ( Low , Medium and High)"
   ]
  },
  {
   "cell_type": "markdown",
   "id": "a5311648-efdd-4f6e-ac35-230a7c679fec",
   "metadata": {},
   "source": [
    "### 6. Is the 'Price_Range' column numeric or categorical? Should it be encoded in any specific way for modeling? "
   ]
  },
  {
   "cell_type": "code",
   "execution_count": 22,
   "id": "f74d98a9-3e30-4fb9-86e5-f5f85a91b2a7",
   "metadata": {},
   "outputs": [
    {
     "data": {
      "text/plain": [
       "dtype('O')"
      ]
     },
     "execution_count": 22,
     "metadata": {},
     "output_type": "execute_result"
    }
   ],
   "source": [
    "df['Price_Range'].dtype # checking datatype of specific column"
   ]
  },
  {
   "cell_type": "code",
   "execution_count": 30,
   "id": "7526be73-2580-4c6a-9876-83dd85d76f9e",
   "metadata": {},
   "outputs": [
    {
     "data": {
      "text/plain": [
       "array(['30K-50K', 'Below 30K', '80K-1.2L', '50K-80K', 'Above 1.2L'],\n",
       "      dtype=object)"
      ]
     },
     "execution_count": 30,
     "metadata": {},
     "output_type": "execute_result"
    }
   ],
   "source": [
    "df['Price_Range'].unique()"
   ]
  },
  {
   "cell_type": "code",
   "execution_count": 31,
   "id": "f531cc49-38cd-4904-abb1-d80fcceba098",
   "metadata": {},
   "outputs": [],
   "source": [
    "df = pd.get_dummies(df, columns=['Price_Range'], drop_first=False) # one hot encoding"
   ]
  },
  {
   "cell_type": "code",
   "execution_count": 32,
   "id": "12b12064-8d8b-4140-8800-6cf351efa0b5",
   "metadata": {},
   "outputs": [
    {
     "data": {
      "text/html": [
       "<div>\n",
       "<style scoped>\n",
       "    .dataframe tbody tr th:only-of-type {\n",
       "        vertical-align: middle;\n",
       "    }\n",
       "\n",
       "    .dataframe tbody tr th {\n",
       "        vertical-align: top;\n",
       "    }\n",
       "\n",
       "    .dataframe thead th {\n",
       "        text-align: right;\n",
       "    }\n",
       "</style>\n",
       "<table border=\"1\" class=\"dataframe\">\n",
       "  <thead>\n",
       "    <tr style=\"text-align: right;\">\n",
       "      <th></th>\n",
       "      <th>Customer_ID</th>\n",
       "      <th>Age</th>\n",
       "      <th>Gender</th>\n",
       "      <th>City</th>\n",
       "      <th>Income_Level</th>\n",
       "      <th>Purchase_Mode</th>\n",
       "      <th>Brand_Purchased</th>\n",
       "      <th>Payment_Mode</th>\n",
       "      <th>Purchase_Frequency</th>\n",
       "      <th>Satisfaction_Rating</th>\n",
       "      <th>Price_Range_30K-50K</th>\n",
       "      <th>Price_Range_50K-80K</th>\n",
       "      <th>Price_Range_80K-1.2L</th>\n",
       "      <th>Price_Range_Above 1.2L</th>\n",
       "      <th>Price_Range_Below 30K</th>\n",
       "    </tr>\n",
       "  </thead>\n",
       "  <tbody>\n",
       "    <tr>\n",
       "      <th>0</th>\n",
       "      <td>CUST00001</td>\n",
       "      <td>56</td>\n",
       "      <td>Male</td>\n",
       "      <td>Pune</td>\n",
       "      <td>Low</td>\n",
       "      <td>Online</td>\n",
       "      <td>Dell</td>\n",
       "      <td>UPI</td>\n",
       "      <td>Rare</td>\n",
       "      <td>4</td>\n",
       "      <td>True</td>\n",
       "      <td>False</td>\n",
       "      <td>False</td>\n",
       "      <td>False</td>\n",
       "      <td>False</td>\n",
       "    </tr>\n",
       "    <tr>\n",
       "      <th>1</th>\n",
       "      <td>CUST00002</td>\n",
       "      <td>46</td>\n",
       "      <td>Female</td>\n",
       "      <td>Kolkata</td>\n",
       "      <td>Medium</td>\n",
       "      <td>Online</td>\n",
       "      <td>MSI</td>\n",
       "      <td>Cash</td>\n",
       "      <td>Occasional</td>\n",
       "      <td>2</td>\n",
       "      <td>False</td>\n",
       "      <td>False</td>\n",
       "      <td>False</td>\n",
       "      <td>False</td>\n",
       "      <td>True</td>\n",
       "    </tr>\n",
       "    <tr>\n",
       "      <th>2</th>\n",
       "      <td>CUST00003</td>\n",
       "      <td>32</td>\n",
       "      <td>Male</td>\n",
       "      <td>Bangalore</td>\n",
       "      <td>Low</td>\n",
       "      <td>Online</td>\n",
       "      <td>Samsung</td>\n",
       "      <td>UPI</td>\n",
       "      <td>Occasional</td>\n",
       "      <td>3</td>\n",
       "      <td>False</td>\n",
       "      <td>False</td>\n",
       "      <td>True</td>\n",
       "      <td>False</td>\n",
       "      <td>False</td>\n",
       "    </tr>\n",
       "    <tr>\n",
       "      <th>3</th>\n",
       "      <td>CUST00004</td>\n",
       "      <td>25</td>\n",
       "      <td>Female</td>\n",
       "      <td>Jaipur</td>\n",
       "      <td>Medium</td>\n",
       "      <td>Offline</td>\n",
       "      <td>Samsung</td>\n",
       "      <td>Credit Card</td>\n",
       "      <td>Rare</td>\n",
       "      <td>4</td>\n",
       "      <td>False</td>\n",
       "      <td>False</td>\n",
       "      <td>False</td>\n",
       "      <td>False</td>\n",
       "      <td>True</td>\n",
       "    </tr>\n",
       "    <tr>\n",
       "      <th>4</th>\n",
       "      <td>CUST00005</td>\n",
       "      <td>38</td>\n",
       "      <td>Female</td>\n",
       "      <td>Pune</td>\n",
       "      <td>High</td>\n",
       "      <td>Online</td>\n",
       "      <td>MSI</td>\n",
       "      <td>Cash</td>\n",
       "      <td>Rare</td>\n",
       "      <td>3</td>\n",
       "      <td>False</td>\n",
       "      <td>False</td>\n",
       "      <td>True</td>\n",
       "      <td>False</td>\n",
       "      <td>False</td>\n",
       "    </tr>\n",
       "  </tbody>\n",
       "</table>\n",
       "</div>"
      ],
      "text/plain": [
       "  Customer_ID  Age  Gender       City Income_Level Purchase_Mode  \\\n",
       "0   CUST00001   56    Male       Pune          Low        Online   \n",
       "1   CUST00002   46  Female    Kolkata       Medium        Online   \n",
       "2   CUST00003   32    Male  Bangalore          Low        Online   \n",
       "3   CUST00004   25  Female     Jaipur       Medium       Offline   \n",
       "4   CUST00005   38  Female       Pune         High        Online   \n",
       "\n",
       "  Brand_Purchased Payment_Mode Purchase_Frequency  Satisfaction_Rating  \\\n",
       "0            Dell          UPI               Rare                    4   \n",
       "1             MSI         Cash         Occasional                    2   \n",
       "2         Samsung          UPI         Occasional                    3   \n",
       "3         Samsung  Credit Card               Rare                    4   \n",
       "4             MSI         Cash               Rare                    3   \n",
       "\n",
       "   Price_Range_30K-50K  Price_Range_50K-80K  Price_Range_80K-1.2L  \\\n",
       "0                 True                False                 False   \n",
       "1                False                False                 False   \n",
       "2                False                False                  True   \n",
       "3                False                False                 False   \n",
       "4                False                False                  True   \n",
       "\n",
       "   Price_Range_Above 1.2L  Price_Range_Below 30K  \n",
       "0                   False                  False  \n",
       "1                   False                   True  \n",
       "2                   False                  False  \n",
       "3                   False                   True  \n",
       "4                   False                  False  "
      ]
     },
     "execution_count": 32,
     "metadata": {},
     "output_type": "execute_result"
    }
   ],
   "source": [
    "df.head()"
   ]
  },
  {
   "cell_type": "raw",
   "id": "b4d5a8ed-ee27-414c-af33-98af2152ae6b",
   "metadata": {},
   "source": [
    "For order data we use label encoding but for categorical data we use one hot encoding"
   ]
  },
  {
   "cell_type": "markdown",
   "id": "edba38c7-631b-4bd5-8134-d8764d2d1b7e",
   "metadata": {},
   "source": [
    "### 7. Are there any columns with irrelevant or redundant information that can be removed for better analysis? "
   ]
  },
  {
   "cell_type": "code",
   "execution_count": 33,
   "id": "793f6e25-4b2b-43c8-a417-8b2d56fcc1af",
   "metadata": {},
   "outputs": [
    {
     "data": {
      "text/plain": [
       "Customer_ID               5000\n",
       "Age                         42\n",
       "Gender                       2\n",
       "City                         9\n",
       "Income_Level                 3\n",
       "Purchase_Mode                2\n",
       "Brand_Purchased              8\n",
       "Payment_Mode                 5\n",
       "Purchase_Frequency           3\n",
       "Satisfaction_Rating          5\n",
       "Price_Range_30K-50K          2\n",
       "Price_Range_50K-80K          2\n",
       "Price_Range_80K-1.2L         2\n",
       "Price_Range_Above 1.2L       2\n",
       "Price_Range_Below 30K        2\n",
       "dtype: int64"
      ]
     },
     "execution_count": 33,
     "metadata": {},
     "output_type": "execute_result"
    }
   ],
   "source": [
    "df.nunique() # for observing unique values in each column"
   ]
  },
  {
   "cell_type": "code",
   "execution_count": 42,
   "id": "b0cb0f4d-61b0-4c12-b3e2-9e924fb47592",
   "metadata": {},
   "outputs": [],
   "source": [
    "df.drop(columns=['Customer_ID'], inplace=True) # dropping customer_id, i feel it is not needed"
   ]
  },
  {
   "cell_type": "code",
   "execution_count": 39,
   "id": "62606cfe-688d-4bd1-a242-7bf54b53fd5a",
   "metadata": {},
   "outputs": [
    {
     "name": "stdout",
     "output_type": "stream",
     "text": [
      "                          Age  Satisfaction_Rating\n",
      "Age                  1.000000             0.018464\n",
      "Satisfaction_Rating  0.018464             1.000000\n"
     ]
    }
   ],
   "source": [
    "corr_matrix = df.select_dtypes(include='number') # not found any columns with high correlation\n",
    "print(corr_matrix.corr())"
   ]
  },
  {
   "cell_type": "code",
   "execution_count": 40,
   "id": "dcc6d095-5c80-46e1-b688-e9bab96475b9",
   "metadata": {},
   "outputs": [
    {
     "data": {
      "text/plain": [
       "Customer_ID               5000\n",
       "Age                         42\n",
       "Gender                       2\n",
       "City                         9\n",
       "Income_Level                 3\n",
       "Purchase_Mode                2\n",
       "Brand_Purchased              8\n",
       "Payment_Mode                 5\n",
       "Purchase_Frequency           3\n",
       "Satisfaction_Rating          5\n",
       "Price_Range_30K-50K          2\n",
       "Price_Range_50K-80K          2\n",
       "Price_Range_80K-1.2L         2\n",
       "Price_Range_Above 1.2L       2\n",
       "Price_Range_Below 30K        2\n",
       "dtype: int64"
      ]
     },
     "execution_count": 40,
     "metadata": {},
     "output_type": "execute_result"
    }
   ],
   "source": [
    "df.nunique()"
   ]
  },
  {
   "cell_type": "raw",
   "id": "16274b26-5ed8-4884-8282-993dbb810beb",
   "metadata": {},
   "source": [
    "i would drop the column if there are any reduntant, high missing values, irrelevant columns like for customer_id above"
   ]
  },
  {
   "cell_type": "code",
   "execution_count": 43,
   "id": "419c2a0f-339a-404b-b42c-ab5c2f0e1c05",
   "metadata": {
    "scrolled": true
   },
   "outputs": [
    {
     "data": {
      "text/html": [
       "<div>\n",
       "<style scoped>\n",
       "    .dataframe tbody tr th:only-of-type {\n",
       "        vertical-align: middle;\n",
       "    }\n",
       "\n",
       "    .dataframe tbody tr th {\n",
       "        vertical-align: top;\n",
       "    }\n",
       "\n",
       "    .dataframe thead th {\n",
       "        text-align: right;\n",
       "    }\n",
       "</style>\n",
       "<table border=\"1\" class=\"dataframe\">\n",
       "  <thead>\n",
       "    <tr style=\"text-align: right;\">\n",
       "      <th></th>\n",
       "      <th>Age</th>\n",
       "      <th>Gender</th>\n",
       "      <th>City</th>\n",
       "      <th>Income_Level</th>\n",
       "      <th>Purchase_Mode</th>\n",
       "      <th>Brand_Purchased</th>\n",
       "      <th>Payment_Mode</th>\n",
       "      <th>Purchase_Frequency</th>\n",
       "      <th>Satisfaction_Rating</th>\n",
       "      <th>Price_Range_30K-50K</th>\n",
       "      <th>Price_Range_50K-80K</th>\n",
       "      <th>Price_Range_80K-1.2L</th>\n",
       "      <th>Price_Range_Above 1.2L</th>\n",
       "      <th>Price_Range_Below 30K</th>\n",
       "    </tr>\n",
       "  </thead>\n",
       "  <tbody>\n",
       "    <tr>\n",
       "      <th>0</th>\n",
       "      <td>56</td>\n",
       "      <td>Male</td>\n",
       "      <td>Pune</td>\n",
       "      <td>Low</td>\n",
       "      <td>Online</td>\n",
       "      <td>Dell</td>\n",
       "      <td>UPI</td>\n",
       "      <td>Rare</td>\n",
       "      <td>4</td>\n",
       "      <td>True</td>\n",
       "      <td>False</td>\n",
       "      <td>False</td>\n",
       "      <td>False</td>\n",
       "      <td>False</td>\n",
       "    </tr>\n",
       "    <tr>\n",
       "      <th>1</th>\n",
       "      <td>46</td>\n",
       "      <td>Female</td>\n",
       "      <td>Kolkata</td>\n",
       "      <td>Medium</td>\n",
       "      <td>Online</td>\n",
       "      <td>MSI</td>\n",
       "      <td>Cash</td>\n",
       "      <td>Occasional</td>\n",
       "      <td>2</td>\n",
       "      <td>False</td>\n",
       "      <td>False</td>\n",
       "      <td>False</td>\n",
       "      <td>False</td>\n",
       "      <td>True</td>\n",
       "    </tr>\n",
       "    <tr>\n",
       "      <th>2</th>\n",
       "      <td>32</td>\n",
       "      <td>Male</td>\n",
       "      <td>Bangalore</td>\n",
       "      <td>Low</td>\n",
       "      <td>Online</td>\n",
       "      <td>Samsung</td>\n",
       "      <td>UPI</td>\n",
       "      <td>Occasional</td>\n",
       "      <td>3</td>\n",
       "      <td>False</td>\n",
       "      <td>False</td>\n",
       "      <td>True</td>\n",
       "      <td>False</td>\n",
       "      <td>False</td>\n",
       "    </tr>\n",
       "    <tr>\n",
       "      <th>3</th>\n",
       "      <td>25</td>\n",
       "      <td>Female</td>\n",
       "      <td>Jaipur</td>\n",
       "      <td>Medium</td>\n",
       "      <td>Offline</td>\n",
       "      <td>Samsung</td>\n",
       "      <td>Credit Card</td>\n",
       "      <td>Rare</td>\n",
       "      <td>4</td>\n",
       "      <td>False</td>\n",
       "      <td>False</td>\n",
       "      <td>False</td>\n",
       "      <td>False</td>\n",
       "      <td>True</td>\n",
       "    </tr>\n",
       "    <tr>\n",
       "      <th>4</th>\n",
       "      <td>38</td>\n",
       "      <td>Female</td>\n",
       "      <td>Pune</td>\n",
       "      <td>High</td>\n",
       "      <td>Online</td>\n",
       "      <td>MSI</td>\n",
       "      <td>Cash</td>\n",
       "      <td>Rare</td>\n",
       "      <td>3</td>\n",
       "      <td>False</td>\n",
       "      <td>False</td>\n",
       "      <td>True</td>\n",
       "      <td>False</td>\n",
       "      <td>False</td>\n",
       "    </tr>\n",
       "  </tbody>\n",
       "</table>\n",
       "</div>"
      ],
      "text/plain": [
       "   Age  Gender       City Income_Level Purchase_Mode Brand_Purchased  \\\n",
       "0   56    Male       Pune          Low        Online            Dell   \n",
       "1   46  Female    Kolkata       Medium        Online             MSI   \n",
       "2   32    Male  Bangalore          Low        Online         Samsung   \n",
       "3   25  Female     Jaipur       Medium       Offline         Samsung   \n",
       "4   38  Female       Pune         High        Online             MSI   \n",
       "\n",
       "  Payment_Mode Purchase_Frequency  Satisfaction_Rating  Price_Range_30K-50K  \\\n",
       "0          UPI               Rare                    4                 True   \n",
       "1         Cash         Occasional                    2                False   \n",
       "2          UPI         Occasional                    3                False   \n",
       "3  Credit Card               Rare                    4                False   \n",
       "4         Cash               Rare                    3                False   \n",
       "\n",
       "   Price_Range_50K-80K  Price_Range_80K-1.2L  Price_Range_Above 1.2L  \\\n",
       "0                False                 False                   False   \n",
       "1                False                 False                   False   \n",
       "2                False                  True                   False   \n",
       "3                False                 False                   False   \n",
       "4                False                  True                   False   \n",
       "\n",
       "   Price_Range_Below 30K  \n",
       "0                  False  \n",
       "1                   True  \n",
       "2                  False  \n",
       "3                   True  \n",
       "4                  False  "
      ]
     },
     "execution_count": 43,
     "metadata": {},
     "output_type": "execute_result"
    }
   ],
   "source": [
    "df.head()"
   ]
  },
  {
   "cell_type": "markdown",
   "id": "18afae10-4ea4-4150-98fc-790cc9a7ef37",
   "metadata": {},
   "source": [
    "### Does the 'Purchase_Frequency' column need to be transformed or normalized (e.g., weekly to monthly)? ○ What kind of transformations would help to better understand patterns?"
   ]
  },
  {
   "cell_type": "code",
   "execution_count": 46,
   "id": "3feaf84b-3580-4202-9b4c-6ef021684f90",
   "metadata": {},
   "outputs": [
    {
     "name": "stdout",
     "output_type": "stream",
     "text": [
      "['Rare' 'Occasional' 'Frequent']\n"
     ]
    }
   ],
   "source": [
    "print(df['Purchase_Frequency'].unique())"
   ]
  },
  {
   "cell_type": "code",
   "execution_count": 49,
   "id": "6d8aa2e6-ee73-426c-b75e-c84253e52c95",
   "metadata": {},
   "outputs": [],
   "source": [
    "def encoding(value):\n",
    "    if value == 'Rare':\n",
    "        return 2\n",
    "    elif value == 'Occasional':\n",
    "        return 1\n",
    "    elif value == 'Frequent':\n",
    "        return 0\n",
    "\n",
    "df['Purchase_Frequency_encoded'] = df['Purchase_Frequency'].apply(encoding)"
   ]
  },
  {
   "cell_type": "code",
   "execution_count": 50,
   "id": "8ba071da-320f-418a-8964-646287e6f825",
   "metadata": {},
   "outputs": [
    {
     "data": {
      "text/html": [
       "<div>\n",
       "<style scoped>\n",
       "    .dataframe tbody tr th:only-of-type {\n",
       "        vertical-align: middle;\n",
       "    }\n",
       "\n",
       "    .dataframe tbody tr th {\n",
       "        vertical-align: top;\n",
       "    }\n",
       "\n",
       "    .dataframe thead th {\n",
       "        text-align: right;\n",
       "    }\n",
       "</style>\n",
       "<table border=\"1\" class=\"dataframe\">\n",
       "  <thead>\n",
       "    <tr style=\"text-align: right;\">\n",
       "      <th></th>\n",
       "      <th>Age</th>\n",
       "      <th>Gender</th>\n",
       "      <th>City</th>\n",
       "      <th>Income_Level</th>\n",
       "      <th>Purchase_Mode</th>\n",
       "      <th>Brand_Purchased</th>\n",
       "      <th>Payment_Mode</th>\n",
       "      <th>Purchase_Frequency</th>\n",
       "      <th>Satisfaction_Rating</th>\n",
       "      <th>Price_Range_30K-50K</th>\n",
       "      <th>Price_Range_50K-80K</th>\n",
       "      <th>Price_Range_80K-1.2L</th>\n",
       "      <th>Price_Range_Above 1.2L</th>\n",
       "      <th>Price_Range_Below 30K</th>\n",
       "      <th>Purchase_Frequency_encoded</th>\n",
       "    </tr>\n",
       "  </thead>\n",
       "  <tbody>\n",
       "    <tr>\n",
       "      <th>0</th>\n",
       "      <td>56</td>\n",
       "      <td>Male</td>\n",
       "      <td>Pune</td>\n",
       "      <td>Low</td>\n",
       "      <td>Online</td>\n",
       "      <td>Dell</td>\n",
       "      <td>UPI</td>\n",
       "      <td>Rare</td>\n",
       "      <td>4</td>\n",
       "      <td>True</td>\n",
       "      <td>False</td>\n",
       "      <td>False</td>\n",
       "      <td>False</td>\n",
       "      <td>False</td>\n",
       "      <td>2</td>\n",
       "    </tr>\n",
       "    <tr>\n",
       "      <th>1</th>\n",
       "      <td>46</td>\n",
       "      <td>Female</td>\n",
       "      <td>Kolkata</td>\n",
       "      <td>Medium</td>\n",
       "      <td>Online</td>\n",
       "      <td>MSI</td>\n",
       "      <td>Cash</td>\n",
       "      <td>Occasional</td>\n",
       "      <td>2</td>\n",
       "      <td>False</td>\n",
       "      <td>False</td>\n",
       "      <td>False</td>\n",
       "      <td>False</td>\n",
       "      <td>True</td>\n",
       "      <td>1</td>\n",
       "    </tr>\n",
       "    <tr>\n",
       "      <th>2</th>\n",
       "      <td>32</td>\n",
       "      <td>Male</td>\n",
       "      <td>Bangalore</td>\n",
       "      <td>Low</td>\n",
       "      <td>Online</td>\n",
       "      <td>Samsung</td>\n",
       "      <td>UPI</td>\n",
       "      <td>Occasional</td>\n",
       "      <td>3</td>\n",
       "      <td>False</td>\n",
       "      <td>False</td>\n",
       "      <td>True</td>\n",
       "      <td>False</td>\n",
       "      <td>False</td>\n",
       "      <td>1</td>\n",
       "    </tr>\n",
       "    <tr>\n",
       "      <th>3</th>\n",
       "      <td>25</td>\n",
       "      <td>Female</td>\n",
       "      <td>Jaipur</td>\n",
       "      <td>Medium</td>\n",
       "      <td>Offline</td>\n",
       "      <td>Samsung</td>\n",
       "      <td>Credit Card</td>\n",
       "      <td>Rare</td>\n",
       "      <td>4</td>\n",
       "      <td>False</td>\n",
       "      <td>False</td>\n",
       "      <td>False</td>\n",
       "      <td>False</td>\n",
       "      <td>True</td>\n",
       "      <td>2</td>\n",
       "    </tr>\n",
       "    <tr>\n",
       "      <th>4</th>\n",
       "      <td>38</td>\n",
       "      <td>Female</td>\n",
       "      <td>Pune</td>\n",
       "      <td>High</td>\n",
       "      <td>Online</td>\n",
       "      <td>MSI</td>\n",
       "      <td>Cash</td>\n",
       "      <td>Rare</td>\n",
       "      <td>3</td>\n",
       "      <td>False</td>\n",
       "      <td>False</td>\n",
       "      <td>True</td>\n",
       "      <td>False</td>\n",
       "      <td>False</td>\n",
       "      <td>2</td>\n",
       "    </tr>\n",
       "  </tbody>\n",
       "</table>\n",
       "</div>"
      ],
      "text/plain": [
       "   Age  Gender       City Income_Level Purchase_Mode Brand_Purchased  \\\n",
       "0   56    Male       Pune          Low        Online            Dell   \n",
       "1   46  Female    Kolkata       Medium        Online             MSI   \n",
       "2   32    Male  Bangalore          Low        Online         Samsung   \n",
       "3   25  Female     Jaipur       Medium       Offline         Samsung   \n",
       "4   38  Female       Pune         High        Online             MSI   \n",
       "\n",
       "  Payment_Mode Purchase_Frequency  Satisfaction_Rating  Price_Range_30K-50K  \\\n",
       "0          UPI               Rare                    4                 True   \n",
       "1         Cash         Occasional                    2                False   \n",
       "2          UPI         Occasional                    3                False   \n",
       "3  Credit Card               Rare                    4                False   \n",
       "4         Cash               Rare                    3                False   \n",
       "\n",
       "   Price_Range_50K-80K  Price_Range_80K-1.2L  Price_Range_Above 1.2L  \\\n",
       "0                False                 False                   False   \n",
       "1                False                 False                   False   \n",
       "2                False                  True                   False   \n",
       "3                False                 False                   False   \n",
       "4                False                  True                   False   \n",
       "\n",
       "   Price_Range_Below 30K  Purchase_Frequency_encoded  \n",
       "0                  False                           2  \n",
       "1                   True                           1  \n",
       "2                  False                           1  \n",
       "3                   True                           2  \n",
       "4                  False                           2  "
      ]
     },
     "execution_count": 50,
     "metadata": {},
     "output_type": "execute_result"
    }
   ],
   "source": [
    "df.head()"
   ]
  },
  {
   "cell_type": "raw",
   "id": "b53bf8ed-237f-404e-a220-f07e8450a537",
   "metadata": {},
   "source": [
    "I think categorical transformation is useful in this case, so i did label encoding"
   ]
  },
  {
   "cell_type": "markdown",
   "id": "00aafb4c-1fed-42d4-8a9b-a0c482fe52c9",
   "metadata": {},
   "source": [
    "### . Is there any need to transform the 'Income_Level' column into a continuous variable? ○ Could you combine income categories into broader ranges or scale them for analysis? "
   ]
  },
  {
   "cell_type": "raw",
   "id": "adb83c1d-ec0f-43a9-a296-d9ff36dabe6a",
   "metadata": {},
   "source": [
    "might be, but i don't know what to do with it, but i will do label encoding"
   ]
  },
  {
   "cell_type": "code",
   "execution_count": 51,
   "id": "9732af02-aba8-4127-afe2-f4ec77163029",
   "metadata": {},
   "outputs": [],
   "source": [
    "income_mapping= {'Low':0, 'Medium':1,'High':2}\n",
    "df['Income_Level_encoded'] = df['Income_Level'].map(income_mapping)"
   ]
  },
  {
   "cell_type": "code",
   "execution_count": 52,
   "id": "91ee6992-83f7-4467-8773-8f387e86a9ce",
   "metadata": {},
   "outputs": [
    {
     "data": {
      "text/html": [
       "<div>\n",
       "<style scoped>\n",
       "    .dataframe tbody tr th:only-of-type {\n",
       "        vertical-align: middle;\n",
       "    }\n",
       "\n",
       "    .dataframe tbody tr th {\n",
       "        vertical-align: top;\n",
       "    }\n",
       "\n",
       "    .dataframe thead th {\n",
       "        text-align: right;\n",
       "    }\n",
       "</style>\n",
       "<table border=\"1\" class=\"dataframe\">\n",
       "  <thead>\n",
       "    <tr style=\"text-align: right;\">\n",
       "      <th></th>\n",
       "      <th>Age</th>\n",
       "      <th>Gender</th>\n",
       "      <th>City</th>\n",
       "      <th>Income_Level</th>\n",
       "      <th>Purchase_Mode</th>\n",
       "      <th>Brand_Purchased</th>\n",
       "      <th>Payment_Mode</th>\n",
       "      <th>Purchase_Frequency</th>\n",
       "      <th>Satisfaction_Rating</th>\n",
       "      <th>Price_Range_30K-50K</th>\n",
       "      <th>Price_Range_50K-80K</th>\n",
       "      <th>Price_Range_80K-1.2L</th>\n",
       "      <th>Price_Range_Above 1.2L</th>\n",
       "      <th>Price_Range_Below 30K</th>\n",
       "      <th>Purchase_Frequency_encoded</th>\n",
       "      <th>Income_Level_encoded</th>\n",
       "    </tr>\n",
       "  </thead>\n",
       "  <tbody>\n",
       "    <tr>\n",
       "      <th>0</th>\n",
       "      <td>56</td>\n",
       "      <td>Male</td>\n",
       "      <td>Pune</td>\n",
       "      <td>Low</td>\n",
       "      <td>Online</td>\n",
       "      <td>Dell</td>\n",
       "      <td>UPI</td>\n",
       "      <td>Rare</td>\n",
       "      <td>4</td>\n",
       "      <td>True</td>\n",
       "      <td>False</td>\n",
       "      <td>False</td>\n",
       "      <td>False</td>\n",
       "      <td>False</td>\n",
       "      <td>2</td>\n",
       "      <td>0</td>\n",
       "    </tr>\n",
       "    <tr>\n",
       "      <th>1</th>\n",
       "      <td>46</td>\n",
       "      <td>Female</td>\n",
       "      <td>Kolkata</td>\n",
       "      <td>Medium</td>\n",
       "      <td>Online</td>\n",
       "      <td>MSI</td>\n",
       "      <td>Cash</td>\n",
       "      <td>Occasional</td>\n",
       "      <td>2</td>\n",
       "      <td>False</td>\n",
       "      <td>False</td>\n",
       "      <td>False</td>\n",
       "      <td>False</td>\n",
       "      <td>True</td>\n",
       "      <td>1</td>\n",
       "      <td>1</td>\n",
       "    </tr>\n",
       "    <tr>\n",
       "      <th>2</th>\n",
       "      <td>32</td>\n",
       "      <td>Male</td>\n",
       "      <td>Bangalore</td>\n",
       "      <td>Low</td>\n",
       "      <td>Online</td>\n",
       "      <td>Samsung</td>\n",
       "      <td>UPI</td>\n",
       "      <td>Occasional</td>\n",
       "      <td>3</td>\n",
       "      <td>False</td>\n",
       "      <td>False</td>\n",
       "      <td>True</td>\n",
       "      <td>False</td>\n",
       "      <td>False</td>\n",
       "      <td>1</td>\n",
       "      <td>0</td>\n",
       "    </tr>\n",
       "    <tr>\n",
       "      <th>3</th>\n",
       "      <td>25</td>\n",
       "      <td>Female</td>\n",
       "      <td>Jaipur</td>\n",
       "      <td>Medium</td>\n",
       "      <td>Offline</td>\n",
       "      <td>Samsung</td>\n",
       "      <td>Credit Card</td>\n",
       "      <td>Rare</td>\n",
       "      <td>4</td>\n",
       "      <td>False</td>\n",
       "      <td>False</td>\n",
       "      <td>False</td>\n",
       "      <td>False</td>\n",
       "      <td>True</td>\n",
       "      <td>2</td>\n",
       "      <td>1</td>\n",
       "    </tr>\n",
       "    <tr>\n",
       "      <th>4</th>\n",
       "      <td>38</td>\n",
       "      <td>Female</td>\n",
       "      <td>Pune</td>\n",
       "      <td>High</td>\n",
       "      <td>Online</td>\n",
       "      <td>MSI</td>\n",
       "      <td>Cash</td>\n",
       "      <td>Rare</td>\n",
       "      <td>3</td>\n",
       "      <td>False</td>\n",
       "      <td>False</td>\n",
       "      <td>True</td>\n",
       "      <td>False</td>\n",
       "      <td>False</td>\n",
       "      <td>2</td>\n",
       "      <td>2</td>\n",
       "    </tr>\n",
       "  </tbody>\n",
       "</table>\n",
       "</div>"
      ],
      "text/plain": [
       "   Age  Gender       City Income_Level Purchase_Mode Brand_Purchased  \\\n",
       "0   56    Male       Pune          Low        Online            Dell   \n",
       "1   46  Female    Kolkata       Medium        Online             MSI   \n",
       "2   32    Male  Bangalore          Low        Online         Samsung   \n",
       "3   25  Female     Jaipur       Medium       Offline         Samsung   \n",
       "4   38  Female       Pune         High        Online             MSI   \n",
       "\n",
       "  Payment_Mode Purchase_Frequency  Satisfaction_Rating  Price_Range_30K-50K  \\\n",
       "0          UPI               Rare                    4                 True   \n",
       "1         Cash         Occasional                    2                False   \n",
       "2          UPI         Occasional                    3                False   \n",
       "3  Credit Card               Rare                    4                False   \n",
       "4         Cash               Rare                    3                False   \n",
       "\n",
       "   Price_Range_50K-80K  Price_Range_80K-1.2L  Price_Range_Above 1.2L  \\\n",
       "0                False                 False                   False   \n",
       "1                False                 False                   False   \n",
       "2                False                  True                   False   \n",
       "3                False                 False                   False   \n",
       "4                False                  True                   False   \n",
       "\n",
       "   Price_Range_Below 30K  Purchase_Frequency_encoded  Income_Level_encoded  \n",
       "0                  False                           2                     0  \n",
       "1                   True                           1                     1  \n",
       "2                  False                           1                     0  \n",
       "3                   True                           2                     1  \n",
       "4                  False                           2                     2  "
      ]
     },
     "execution_count": 52,
     "metadata": {},
     "output_type": "execute_result"
    }
   ],
   "source": [
    "df.head()"
   ]
  },
  {
   "cell_type": "markdown",
   "id": "2698498d-fba1-447e-b79d-d0f8c7f56ba0",
   "metadata": {},
   "source": [
    "### 10. Are there any date-related columns (e.g., transaction date) that need to be parsed and converted into proper date formats?"
   ]
  },
  {
   "cell_type": "raw",
   "id": "6325d9a7-1ef1-4a4f-b061-20fb2a41294e",
   "metadata": {},
   "source": [
    "there is no date-related columns but if there were any i would conver it into pandas datetime datatype and extract them one by one\n",
    "df['transaction_date'] = pd.to_datetime(df['transaction_date'], errors='coerce')\n",
    "df['Year'] = df['transaction_date'].dt.year\n",
    "df['Month'] = df['transaction_date'].dt.month\n",
    "df['Day'] = df['transaction_date'].dt.day"
   ]
  },
  {
   "cell_type": "markdown",
   "id": "784ae03f-21ea-44b4-8aee-3d37e3798060",
   "metadata": {},
   "source": [
    "# Exploratory Data Analysis"
   ]
  },
  {
   "cell_type": "code",
   "execution_count": 54,
   "id": "284da80f-ae15-4195-aabb-8a4c923e12bc",
   "metadata": {},
   "outputs": [
    {
     "data": {
      "image/png": "[encoded data removed]",
      "text/plain": [
       "<Figure size 640x480 with 1 Axes>"
      ]
     },
     "metadata": {},
     "output_type": "display_data"
    }
   ],
   "source": [
    "df['Age'].plot(kind='hist', bins=3, edgecolor='black')\n",
    "plt.title('Histogram using Pandas')\n",
    "plt.xlabel('Value')\n",
    "plt.ylabel('Frequency')\n",
    "plt.show()"
   ]
  },
  {
   "cell_type": "code",
   "execution_count": 55,
   "id": "a560b6c2-625a-4f1e-a59f-d019f05cfd60",
   "metadata": {},
   "outputs": [
    {
     "data": {
      "text/plain": [
       "<Axes: xlabel='Age'>"
      ]
     },
     "execution_count": 55,
     "metadata": {},
     "output_type": "execute_result"
    },
    {
     "data": {
      "image/png": "[encoded data removed]",
      "text/plain": [
       "<Figure size 640x480 with 1 Axes>"
      ]
     },
     "metadata": {},
     "output_type": "display_data"
    }
   ],
   "source": [
    "sns.boxplot(x=df['Age'])"
   ]
  },
  {
   "cell_type": "code",
   "execution_count": 56,
   "id": "a4c22faa-8f40-4f70-9303-eecc755f0dc5",
   "metadata": {},
   "outputs": [
    {
     "data": {
      "text/plain": [
       "-0.02983117302667299"
      ]
     },
     "execution_count": 56,
     "metadata": {},
     "output_type": "execute_result"
    }
   ],
   "source": [
    "age_skewness = df['Age'].skew() # calculate skewness\n",
    "age_skewness"
   ]
  },
  {
   "cell_type": "raw",
   "id": "f14eef0b-4139-4e63-bdd2-45ec2be536c6",
   "metadata": {},
   "source": [
    "it is negatively skewed. that means mean<median<mode"
   ]
  },
  {
   "cell_type": "code",
   "execution_count": 59,
   "id": "5eb5d093-0400-44be-94a9-7708eb315485",
   "metadata": {},
   "outputs": [
    {
     "data": {
      "image/png": "[encoded data removed]",
      "text/plain": [
       "<Figure size 640x480 with 1 Axes>"
      ]
     },
     "metadata": {},
     "output_type": "display_data"
    }
   ],
   "source": [
    "sns.countplot(data=df, x='City', hue='Income_Level')\n",
    "plt.title('Income Levels Distribution Across Cities')\n",
    "plt.xlabel('City')\n",
    "plt.ylabel('Count')\n",
    "plt.xticks(rotation=45)\n",
    "plt.show()"
   ]
  },
  {
   "cell_type": "code",
   "execution_count": 60,
   "id": "495560be-9030-42fa-8c2c-a809fdcf179c",
   "metadata": {},
   "outputs": [
    {
     "data": {
      "text/plain": [
       "<Axes: >"
      ]
     },
     "execution_count": 60,
     "metadata": {},
     "output_type": "execute_result"
    },
    {
     "data": {
      "image/png": "[encoded data removed]",
      "text/plain": [
       "<Figure size 640x480 with 2 Axes>"
      ]
     },
     "metadata": {},
     "output_type": "display_data"
    }
   ],
   "source": [
    "sns.heatmap(corr_matrix.corr(), fmt='.2f', annot=True)"
   ]
  },
  {
   "cell_type": "code",
   "execution_count": 63,
   "id": "2fa42feb-5e44-4ae9-a3de-6cfd2df428a7",
   "metadata": {},
   "outputs": [
    {
     "name": "stdout",
     "output_type": "stream",
     "text": [
      "['Online' 'Offline']\n"
     ]
    }
   ],
   "source": [
    "print(df['Purchase_Mode'].unique())"
   ]
  },
  {
   "cell_type": "code",
   "execution_count": 66,
   "id": "c9a1380b-2314-4adb-aea9-faabaf19b031",
   "metadata": {},
   "outputs": [
    {
     "data": {
      "image/png": "[encoded data removed]",
      "text/plain": [
       "<Figure size 640x480 with 1 Axes>"
      ]
     },
     "metadata": {},
     "output_type": "display_data"
    }
   ],
   "source": [
    "sns.countplot(data=df, x='Purchase_Mode', hue='Brand_Purchased')\n",
    "plt.title('Count of Brand Purchased for each Purchase Mode')\n",
    "plt.xlabel('Purchase Mode')\n",
    "plt.ylabel('Count')\n",
    "plt.show()"
   ]
  },
  {
   "cell_type": "code",
   "execution_count": 67,
   "id": "d704ab17-78ee-4376-90b4-baae2dacf29f",
   "metadata": {},
   "outputs": [],
   "source": [
    "new_df = df.select_dtypes(include='number')"
   ]
  },
  {
   "cell_type": "code",
   "execution_count": 69,
   "id": "486125a2-6e57-4591-a528-f820dc63a7bf",
   "metadata": {},
   "outputs": [
    {
     "data": {
      "text/plain": [
       "<Axes: >"
      ]
     },
     "execution_count": 69,
     "metadata": {},
     "output_type": "execute_result"
    },
    {
     "data": {
      "image/png": "[encoded data removed]",
      "text/plain": [
       "<Figure size 640x480 with 2 Axes>"
      ]
     },
     "metadata": {},
     "output_type": "display_data"
    }
   ],
   "source": [
    "new_df.corr()\n",
    "sns.heatmap(new_df.corr(), fmt='.2f', annot=True)"
   ]
  },
  {
   "cell_type": "code",
   "execution_count": 70,
   "id": "52a89f49-c25a-42c1-9b91-f67e11fafa5d",
   "metadata": {},
   "outputs": [
    {
     "data": {
      "text/html": [
       "<div>\n",
       "<style scoped>\n",
       "    .dataframe tbody tr th:only-of-type {\n",
       "        vertical-align: middle;\n",
       "    }\n",
       "\n",
       "    .dataframe tbody tr th {\n",
       "        vertical-align: top;\n",
       "    }\n",
       "\n",
       "    .dataframe thead th {\n",
       "        text-align: right;\n",
       "    }\n",
       "</style>\n",
       "<table border=\"1\" class=\"dataframe\">\n",
       "  <thead>\n",
       "    <tr style=\"text-align: right;\">\n",
       "      <th></th>\n",
       "      <th>Age</th>\n",
       "      <th>Gender</th>\n",
       "      <th>City</th>\n",
       "      <th>Income_Level</th>\n",
       "      <th>Purchase_Mode</th>\n",
       "      <th>Brand_Purchased</th>\n",
       "      <th>Payment_Mode</th>\n",
       "      <th>Purchase_Frequency</th>\n",
       "      <th>Satisfaction_Rating</th>\n",
       "      <th>Price_Range_30K-50K</th>\n",
       "      <th>Price_Range_50K-80K</th>\n",
       "      <th>Price_Range_80K-1.2L</th>\n",
       "      <th>Price_Range_Above 1.2L</th>\n",
       "      <th>Price_Range_Below 30K</th>\n",
       "      <th>Purchase_Frequency_encoded</th>\n",
       "      <th>Income_Level_encoded</th>\n",
       "    </tr>\n",
       "  </thead>\n",
       "  <tbody>\n",
       "    <tr>\n",
       "      <th>0</th>\n",
       "      <td>56</td>\n",
       "      <td>Male</td>\n",
       "      <td>Pune</td>\n",
       "      <td>Low</td>\n",
       "      <td>Online</td>\n",
       "      <td>Dell</td>\n",
       "      <td>UPI</td>\n",
       "      <td>Rare</td>\n",
       "      <td>4</td>\n",
       "      <td>True</td>\n",
       "      <td>False</td>\n",
       "      <td>False</td>\n",
       "      <td>False</td>\n",
       "      <td>False</td>\n",
       "      <td>2</td>\n",
       "      <td>0</td>\n",
       "    </tr>\n",
       "    <tr>\n",
       "      <th>1</th>\n",
       "      <td>46</td>\n",
       "      <td>Female</td>\n",
       "      <td>Kolkata</td>\n",
       "      <td>Medium</td>\n",
       "      <td>Online</td>\n",
       "      <td>MSI</td>\n",
       "      <td>Cash</td>\n",
       "      <td>Occasional</td>\n",
       "      <td>2</td>\n",
       "      <td>False</td>\n",
       "      <td>False</td>\n",
       "      <td>False</td>\n",
       "      <td>False</td>\n",
       "      <td>True</td>\n",
       "      <td>1</td>\n",
       "      <td>1</td>\n",
       "    </tr>\n",
       "    <tr>\n",
       "      <th>2</th>\n",
       "      <td>32</td>\n",
       "      <td>Male</td>\n",
       "      <td>Bangalore</td>\n",
       "      <td>Low</td>\n",
       "      <td>Online</td>\n",
       "      <td>Samsung</td>\n",
       "      <td>UPI</td>\n",
       "      <td>Occasional</td>\n",
       "      <td>3</td>\n",
       "      <td>False</td>\n",
       "      <td>False</td>\n",
       "      <td>True</td>\n",
       "      <td>False</td>\n",
       "      <td>False</td>\n",
       "      <td>1</td>\n",
       "      <td>0</td>\n",
       "    </tr>\n",
       "    <tr>\n",
       "      <th>3</th>\n",
       "      <td>25</td>\n",
       "      <td>Female</td>\n",
       "      <td>Jaipur</td>\n",
       "      <td>Medium</td>\n",
       "      <td>Offline</td>\n",
       "      <td>Samsung</td>\n",
       "      <td>Credit Card</td>\n",
       "      <td>Rare</td>\n",
       "      <td>4</td>\n",
       "      <td>False</td>\n",
       "      <td>False</td>\n",
       "      <td>False</td>\n",
       "      <td>False</td>\n",
       "      <td>True</td>\n",
       "      <td>2</td>\n",
       "      <td>1</td>\n",
       "    </tr>\n",
       "    <tr>\n",
       "      <th>4</th>\n",
       "      <td>38</td>\n",
       "      <td>Female</td>\n",
       "      <td>Pune</td>\n",
       "      <td>High</td>\n",
       "      <td>Online</td>\n",
       "      <td>MSI</td>\n",
       "      <td>Cash</td>\n",
       "      <td>Rare</td>\n",
       "      <td>3</td>\n",
       "      <td>False</td>\n",
       "      <td>False</td>\n",
       "      <td>True</td>\n",
       "      <td>False</td>\n",
       "      <td>False</td>\n",
       "      <td>2</td>\n",
       "      <td>2</td>\n",
       "    </tr>\n",
       "  </tbody>\n",
       "</table>\n",
       "</div>"
      ],
      "text/plain": [
       "   Age  Gender       City Income_Level Purchase_Mode Brand_Purchased  \\\n",
       "0   56    Male       Pune          Low        Online            Dell   \n",
       "1   46  Female    Kolkata       Medium        Online             MSI   \n",
       "2   32    Male  Bangalore          Low        Online         Samsung   \n",
       "3   25  Female     Jaipur       Medium       Offline         Samsung   \n",
       "4   38  Female       Pune         High        Online             MSI   \n",
       "\n",
       "  Payment_Mode Purchase_Frequency  Satisfaction_Rating  Price_Range_30K-50K  \\\n",
       "0          UPI               Rare                    4                 True   \n",
       "1         Cash         Occasional                    2                False   \n",
       "2          UPI         Occasional                    3                False   \n",
       "3  Credit Card               Rare                    4                False   \n",
       "4         Cash               Rare                    3                False   \n",
       "\n",
       "   Price_Range_50K-80K  Price_Range_80K-1.2L  Price_Range_Above 1.2L  \\\n",
       "0                False                 False                   False   \n",
       "1                False                 False                   False   \n",
       "2                False                  True                   False   \n",
       "3                False                 False                   False   \n",
       "4                False                  True                   False   \n",
       "\n",
       "   Price_Range_Below 30K  Purchase_Frequency_encoded  Income_Level_encoded  \n",
       "0                  False                           2                     0  \n",
       "1                   True                           1                     1  \n",
       "2                  False                           1                     0  \n",
       "3                   True                           2                     1  \n",
       "4                  False                           2                     2  "
      ]
     },
     "execution_count": 70,
     "metadata": {},
     "output_type": "execute_result"
    }
   ],
   "source": [
    "df.head()"
   ]
  },
  {
   "cell_type": "code",
   "execution_count": 72,
   "id": "9a695481-fd38-4f86-ad18-e3ffb93cd28e",
   "metadata": {},
   "outputs": [
    {
     "data": {
      "image/png": "[encoded data removed]",
      "text/plain": [
       "<Figure size 640x480 with 1 Axes>"
      ]
     },
     "metadata": {},
     "output_type": "display_data"
    }
   ],
   "source": [
    "sns.countplot(data=df, x='Gender', hue='Purchase_Frequency')\n",
    "plt.title('Count of purchased fequencies according to gender')\n",
    "plt.xlabel('Gender')\n",
    "plt.ylabel('Count')\n",
    "plt.show()"
   ]
  },
  {
   "cell_type": "code",
   "execution_count": 80,
   "id": "e75f50f5-f906-4197-b0cf-7abcaa1b29df",
   "metadata": {},
   "outputs": [
    {
     "data": {
      "image/png": "[encoded data removed]",
      "text/plain": [
       "<Figure size 640x480 with 1 Axes>"
      ]
     },
     "metadata": {},
     "output_type": "display_data"
    }
   ],
   "source": [
    "sns.countplot(df, x='City', hue='Purchase_Frequency')\n",
    "plt.title('Count of purchase frequency according to cities')\n",
    "plt.xlabel('Cities')\n",
    "plt.ylabel('Count')\n",
    "plt.xticks(rotation=45)\n",
    "plt.show()"
   ]
  },
  {
   "cell_type": "code",
   "execution_count": 83,
   "id": "38813c98-d79e-44e5-850b-c986dd94bc6a",
   "metadata": {},
   "outputs": [
    {
     "data": {
      "text/plain": [
       "<Axes: xlabel='Brand_Purchased', ylabel='count'>"
      ]
     },
     "execution_count": 83,
     "metadata": {},
     "output_type": "execute_result"
    },
    {
     "data": {
      "image/png": "[encoded data removed]",
      "text/plain": [
       "<Figure size 640x480 with 1 Axes>"
      ]
     },
     "metadata": {},
     "output_type": "display_data"
    }
   ],
   "source": [
    "sns.countplot(df, x='Brand_Purchased', hue='Income_Level')"
   ]
  },
  {
   "cell_type": "code",
   "execution_count": 7,
   "id": "66a3d41c-8f98-47cb-9ce6-bc9ae0ee4dba",
   "metadata": {},
   "outputs": [
    {
     "data": {
      "text/html": [
       "<div>\n",
       "<style scoped>\n",
       "    .dataframe tbody tr th:only-of-type {\n",
       "        vertical-align: middle;\n",
       "    }\n",
       "\n",
       "    .dataframe tbody tr th {\n",
       "        vertical-align: top;\n",
       "    }\n",
       "\n",
       "    .dataframe thead th {\n",
       "        text-align: right;\n",
       "    }\n",
       "</style>\n",
       "<table border=\"1\" class=\"dataframe\">\n",
       "  <thead>\n",
       "    <tr style=\"text-align: right;\">\n",
       "      <th></th>\n",
       "      <th>brands_encoded</th>\n",
       "      <th>income_encoded</th>\n",
       "    </tr>\n",
       "  </thead>\n",
       "  <tbody>\n",
       "    <tr>\n",
       "      <th>brands_encoded</th>\n",
       "      <td>1.000000</td>\n",
       "      <td>-0.001133</td>\n",
       "    </tr>\n",
       "    <tr>\n",
       "      <th>income_encoded</th>\n",
       "      <td>-0.001133</td>\n",
       "      <td>1.000000</td>\n",
       "    </tr>\n",
       "  </tbody>\n",
       "</table>\n",
       "</div>"
      ],
      "text/plain": [
       "                brands_encoded  income_encoded\n",
       "brands_encoded        1.000000       -0.001133\n",
       "income_encoded       -0.001133        1.000000"
      ]
     },
     "execution_count": 7,
     "metadata": {},
     "output_type": "execute_result"
    }
   ],
   "source": [
    "data = pd.DataFrame({\n",
    "    'brands': df['Brand_Purchased'],\n",
    "    'income': df['Income_Level']\n",
    "})\n",
    "\n",
    "data['brands_encoded'] = data['brands'].astype('category').cat.codes\n",
    "data['income_encoded'] = data['income'].astype('category').cat.codes\n",
    "\n",
    "correlation = data[['brands_encoded', 'income_encoded']].corr()\n",
    "correlation\n",
    "# sns.heatmap(correlation, fmt='.2f', annot=True)"
   ]
  },
  {
   "cell_type": "code",
   "execution_count": null,
   "id": "7c44f787-fd31-4422-8e93-d902da5a85be",
   "metadata": {},
   "outputs": [],
   "source": []
  }
 ],
 "metadata": {
  "kernelspec": {
   "display_name": "Python 3 (ipykernel)",
   "language": "python",
   "name": "python3"
  },
  "language_info": {
   "codemirror_mode": {
    "name": "ipython",
    "version": 3
   },
   "file_extension": ".py",
   "mimetype": "text/x-python",
   "name": "python",
   "nbconvert_exporter": "python",
   "pygments_lexer": "ipython3",
   "version": "3.12.3"
  }
 },
 "nbformat": 4,
 "nbformat_minor": 5
}
