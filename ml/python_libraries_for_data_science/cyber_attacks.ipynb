{
 "cells": [
  {
   "cell_type": "code",
   "execution_count": 1,
   "id": "8343dc91-646e-476e-8753-56ec4f86b15c",
   "metadata": {},
   "outputs": [],
   "source": [
    "import numpy as np\n",
    "import pandas as pd \n",
    "import seaborn as sns\n",
    "import matplotlib.pyplot as plt"
   ]
  },
  {
   "cell_type": "code",
   "execution_count": 2,
   "id": "66ec0292-f3ba-4869-abb9-98c5e1554287",
   "metadata": {},
   "outputs": [],
   "source": [
    "df = pd.read_csv('data_sets/cybersecurity_attacks.csv')"
   ]
  },
  {
   "cell_type": "code",
   "execution_count": 3,
   "id": "fff021fe-96cb-44ee-bf8b-41e3e32d3b0b",
   "metadata": {},
   "outputs": [
    {
     "data": {
      "text/plain": [
       "Index(['Timestamp', 'Source IP Address', 'Destination IP Address',\n",
       "       'Source Port', 'Destination Port', 'Protocol', 'Packet Length',\n",
       "       'Packet Type', 'Traffic Type', 'Payload Data', 'Malware Indicators',\n",
       "       'Anomaly Scores', 'Alerts/Warnings', 'Attack Type', 'Attack Signature',\n",
       "       'Action Taken', 'Severity Level', 'User Information',\n",
       "       'Device Information', 'Network Segment', 'Geo-location Data',\n",
       "       'Proxy Information', 'Firewall Logs', 'IDS/IPS Alerts', 'Log Source'],\n",
       "      dtype='object')"
      ]
     },
     "execution_count": 3,
     "metadata": {},
     "output_type": "execute_result"
    }
   ],
   "source": [
    "df.columns"
   ]
  },
  {
   "cell_type": "code",
   "execution_count": 4,
   "id": "a27deda4-b8d4-4677-b903-221941a007af",
   "metadata": {},
   "outputs": [
    {
     "data": {
      "text/html": [
       "<div>\n",
       "<style scoped>\n",
       "    .dataframe tbody tr th:only-of-type {\n",
       "        vertical-align: middle;\n",
       "    }\n",
       "\n",
       "    .dataframe tbody tr th {\n",
       "        vertical-align: top;\n",
       "    }\n",
       "\n",
       "    .dataframe thead th {\n",
       "        text-align: right;\n",
       "    }\n",
       "</style>\n",
       "<table border=\"1\" class=\"dataframe\">\n",
       "  <thead>\n",
       "    <tr style=\"text-align: right;\">\n",
       "      <th></th>\n",
       "      <th>Timestamp</th>\n",
       "      <th>Source IP Address</th>\n",
       "      <th>Destination IP Address</th>\n",
       "      <th>Source Port</th>\n",
       "      <th>Destination Port</th>\n",
       "      <th>Protocol</th>\n",
       "      <th>Packet Length</th>\n",
       "      <th>Packet Type</th>\n",
       "      <th>Traffic Type</th>\n",
       "      <th>Payload Data</th>\n",
       "      <th>...</th>\n",
       "      <th>Action Taken</th>\n",
       "      <th>Severity Level</th>\n",
       "      <th>User Information</th>\n",
       "      <th>Device Information</th>\n",
       "      <th>Network Segment</th>\n",
       "      <th>Geo-location Data</th>\n",
       "      <th>Proxy Information</th>\n",
       "      <th>Firewall Logs</th>\n",
       "      <th>IDS/IPS Alerts</th>\n",
       "      <th>Log Source</th>\n",
       "    </tr>\n",
       "  </thead>\n",
       "  <tbody>\n",
       "    <tr>\n",
       "      <th>0</th>\n",
       "      <td>2023-05-30 06:33:58</td>\n",
       "      <td>103.216.15.12</td>\n",
       "      <td>84.9.164.252</td>\n",
       "      <td>31225</td>\n",
       "      <td>17616</td>\n",
       "      <td>ICMP</td>\n",
       "      <td>503</td>\n",
       "      <td>Data</td>\n",
       "      <td>HTTP</td>\n",
       "      <td>Qui natus odio asperiores nam. Optio nobis ius...</td>\n",
       "      <td>...</td>\n",
       "      <td>Logged</td>\n",
       "      <td>Low</td>\n",
       "      <td>Reyansh Dugal</td>\n",
       "      <td>Mozilla/5.0 (compatible; MSIE 8.0; Windows NT ...</td>\n",
       "      <td>Segment A</td>\n",
       "      <td>Jamshedpur, Sikkim</td>\n",
       "      <td>150.9.97.135</td>\n",
       "      <td>Log Data</td>\n",
       "      <td>NaN</td>\n",
       "      <td>Server</td>\n",
       "    </tr>\n",
       "    <tr>\n",
       "      <th>1</th>\n",
       "      <td>2020-08-26 07:08:30</td>\n",
       "      <td>78.199.217.198</td>\n",
       "      <td>66.191.137.154</td>\n",
       "      <td>17245</td>\n",
       "      <td>48166</td>\n",
       "      <td>ICMP</td>\n",
       "      <td>1174</td>\n",
       "      <td>Data</td>\n",
       "      <td>HTTP</td>\n",
       "      <td>Aperiam quos modi officiis veritatis rem. Omni...</td>\n",
       "      <td>...</td>\n",
       "      <td>Blocked</td>\n",
       "      <td>Low</td>\n",
       "      <td>Sumer Rana</td>\n",
       "      <td>Mozilla/5.0 (compatible; MSIE 8.0; Windows NT ...</td>\n",
       "      <td>Segment B</td>\n",
       "      <td>Bilaspur, Nagaland</td>\n",
       "      <td>NaN</td>\n",
       "      <td>Log Data</td>\n",
       "      <td>NaN</td>\n",
       "      <td>Firewall</td>\n",
       "    </tr>\n",
       "    <tr>\n",
       "      <th>2</th>\n",
       "      <td>2022-11-13 08:23:25</td>\n",
       "      <td>63.79.210.48</td>\n",
       "      <td>198.219.82.17</td>\n",
       "      <td>16811</td>\n",
       "      <td>53600</td>\n",
       "      <td>UDP</td>\n",
       "      <td>306</td>\n",
       "      <td>Control</td>\n",
       "      <td>HTTP</td>\n",
       "      <td>Perferendis sapiente vitae soluta. Hic delectu...</td>\n",
       "      <td>...</td>\n",
       "      <td>Ignored</td>\n",
       "      <td>Low</td>\n",
       "      <td>Himmat Karpe</td>\n",
       "      <td>Mozilla/5.0 (compatible; MSIE 9.0; Windows NT ...</td>\n",
       "      <td>Segment C</td>\n",
       "      <td>Bokaro, Rajasthan</td>\n",
       "      <td>114.133.48.179</td>\n",
       "      <td>Log Data</td>\n",
       "      <td>Alert Data</td>\n",
       "      <td>Firewall</td>\n",
       "    </tr>\n",
       "    <tr>\n",
       "      <th>3</th>\n",
       "      <td>2023-07-02 10:38:46</td>\n",
       "      <td>163.42.196.10</td>\n",
       "      <td>101.228.192.255</td>\n",
       "      <td>20018</td>\n",
       "      <td>32534</td>\n",
       "      <td>UDP</td>\n",
       "      <td>385</td>\n",
       "      <td>Data</td>\n",
       "      <td>HTTP</td>\n",
       "      <td>Totam maxime beatae expedita explicabo porro l...</td>\n",
       "      <td>...</td>\n",
       "      <td>Blocked</td>\n",
       "      <td>Medium</td>\n",
       "      <td>Fateh Kibe</td>\n",
       "      <td>Mozilla/5.0 (Macintosh; PPC Mac OS X 10_11_5; ...</td>\n",
       "      <td>Segment B</td>\n",
       "      <td>Jaunpur, Rajasthan</td>\n",
       "      <td>NaN</td>\n",
       "      <td>NaN</td>\n",
       "      <td>Alert Data</td>\n",
       "      <td>Firewall</td>\n",
       "    </tr>\n",
       "    <tr>\n",
       "      <th>4</th>\n",
       "      <td>2023-07-16 13:11:07</td>\n",
       "      <td>71.166.185.76</td>\n",
       "      <td>189.243.174.238</td>\n",
       "      <td>6131</td>\n",
       "      <td>26646</td>\n",
       "      <td>TCP</td>\n",
       "      <td>1462</td>\n",
       "      <td>Data</td>\n",
       "      <td>DNS</td>\n",
       "      <td>Odit nesciunt dolorem nisi iste iusto. Animi v...</td>\n",
       "      <td>...</td>\n",
       "      <td>Blocked</td>\n",
       "      <td>Low</td>\n",
       "      <td>Dhanush Chad</td>\n",
       "      <td>Mozilla/5.0 (compatible; MSIE 5.0; Windows NT ...</td>\n",
       "      <td>Segment C</td>\n",
       "      <td>Anantapur, Tripura</td>\n",
       "      <td>149.6.110.119</td>\n",
       "      <td>NaN</td>\n",
       "      <td>Alert Data</td>\n",
       "      <td>Firewall</td>\n",
       "    </tr>\n",
       "  </tbody>\n",
       "</table>\n",
       "<p>5 rows × 25 columns</p>\n",
       "</div>"
      ],
      "text/plain": [
       "             Timestamp Source IP Address Destination IP Address  Source Port  \\\n",
       "0  2023-05-30 06:33:58     103.216.15.12           84.9.164.252        31225   \n",
       "1  2020-08-26 07:08:30    78.199.217.198         66.191.137.154        17245   \n",
       "2  2022-11-13 08:23:25      63.79.210.48          198.219.82.17        16811   \n",
       "3  2023-07-02 10:38:46     163.42.196.10        101.228.192.255        20018   \n",
       "4  2023-07-16 13:11:07     71.166.185.76        189.243.174.238         6131   \n",
       "\n",
       "   Destination Port Protocol  Packet Length Packet Type Traffic Type  \\\n",
       "0             17616     ICMP            503        Data         HTTP   \n",
       "1             48166     ICMP           1174        Data         HTTP   \n",
       "2             53600      UDP            306     Control         HTTP   \n",
       "3             32534      UDP            385        Data         HTTP   \n",
       "4             26646      TCP           1462        Data          DNS   \n",
       "\n",
       "                                        Payload Data  ... Action Taken  \\\n",
       "0  Qui natus odio asperiores nam. Optio nobis ius...  ...       Logged   \n",
       "1  Aperiam quos modi officiis veritatis rem. Omni...  ...      Blocked   \n",
       "2  Perferendis sapiente vitae soluta. Hic delectu...  ...      Ignored   \n",
       "3  Totam maxime beatae expedita explicabo porro l...  ...      Blocked   \n",
       "4  Odit nesciunt dolorem nisi iste iusto. Animi v...  ...      Blocked   \n",
       "\n",
       "   Severity Level User Information  \\\n",
       "0             Low    Reyansh Dugal   \n",
       "1             Low       Sumer Rana   \n",
       "2             Low     Himmat Karpe   \n",
       "3          Medium       Fateh Kibe   \n",
       "4             Low     Dhanush Chad   \n",
       "\n",
       "                                  Device Information Network Segment  \\\n",
       "0  Mozilla/5.0 (compatible; MSIE 8.0; Windows NT ...       Segment A   \n",
       "1  Mozilla/5.0 (compatible; MSIE 8.0; Windows NT ...       Segment B   \n",
       "2  Mozilla/5.0 (compatible; MSIE 9.0; Windows NT ...       Segment C   \n",
       "3  Mozilla/5.0 (Macintosh; PPC Mac OS X 10_11_5; ...       Segment B   \n",
       "4  Mozilla/5.0 (compatible; MSIE 5.0; Windows NT ...       Segment C   \n",
       "\n",
       "    Geo-location Data Proxy Information Firewall Logs IDS/IPS Alerts  \\\n",
       "0  Jamshedpur, Sikkim      150.9.97.135      Log Data            NaN   \n",
       "1  Bilaspur, Nagaland               NaN      Log Data            NaN   \n",
       "2   Bokaro, Rajasthan    114.133.48.179      Log Data     Alert Data   \n",
       "3  Jaunpur, Rajasthan               NaN           NaN     Alert Data   \n",
       "4  Anantapur, Tripura     149.6.110.119           NaN     Alert Data   \n",
       "\n",
       "  Log Source  \n",
       "0     Server  \n",
       "1   Firewall  \n",
       "2   Firewall  \n",
       "3   Firewall  \n",
       "4   Firewall  \n",
       "\n",
       "[5 rows x 25 columns]"
      ]
     },
     "execution_count": 4,
     "metadata": {},
     "output_type": "execute_result"
    }
   ],
   "source": [
    "df.head()"
   ]
  },
  {
   "cell_type": "code",
   "execution_count": 5,
   "id": "ab3e0286-9477-4be8-bd0e-f8802476908d",
   "metadata": {},
   "outputs": [
    {
     "data": {
      "text/plain": [
       "Alerts/Warnings           20067\n",
       "IDS/IPS Alerts            20050\n",
       "Malware Indicators        20000\n",
       "Firewall Logs             19961\n",
       "Proxy Information         19851\n",
       "Attack Type                   0\n",
       "Geo-location Data             0\n",
       "Network Segment               0\n",
       "Device Information            0\n",
       "User Information              0\n",
       "Severity Level                0\n",
       "Action Taken                  0\n",
       "Attack Signature              0\n",
       "Timestamp                     0\n",
       "Source IP Address             0\n",
       "Anomaly Scores                0\n",
       "Payload Data                  0\n",
       "Traffic Type                  0\n",
       "Packet Type                   0\n",
       "Packet Length                 0\n",
       "Protocol                      0\n",
       "Destination Port              0\n",
       "Source Port                   0\n",
       "Destination IP Address        0\n",
       "Log Source                    0\n",
       "dtype: int64"
      ]
     },
     "execution_count": 5,
     "metadata": {},
     "output_type": "execute_result"
    }
   ],
   "source": [
    "# checking for missing values and sorting by the columns with higest missing values\n",
    "df.isnull().sum().sort_values(ascending=False)"
   ]
  },
  {
   "cell_type": "code",
   "execution_count": 6,
   "id": "5676cd2a-aec1-4937-9869-ace216a109c3",
   "metadata": {},
   "outputs": [
    {
     "data": {
      "text/plain": [
       "array([nan, 'Alert Triggered'], dtype=object)"
      ]
     },
     "execution_count": 6,
     "metadata": {},
     "output_type": "execute_result"
    }
   ],
   "source": [
    "# for imputing missing values\n",
    "df['Alerts/Warnings'].unique()"
   ]
  },
  {
   "cell_type": "code",
   "execution_count": 7,
   "id": "21c7207a-8cbd-45a3-bdc1-30b28c825c37",
   "metadata": {},
   "outputs": [],
   "source": [
    "def impute(x):\n",
    "    if x == 'Alert Triggered':\n",
    "        return 'yes'\n",
    "    else:\n",
    "        return 'no'\n",
    "\n",
    "df['Alerts/Warnings'] = df['Alerts/Warnings'].apply(impute)"
   ]
  },
  {
   "cell_type": "code",
   "execution_count": 8,
   "id": "b8905309-8492-4381-934c-a673f0be4cdf",
   "metadata": {},
   "outputs": [
    {
     "data": {
      "text/plain": [
       "array(['no', 'yes'], dtype=object)"
      ]
     },
     "execution_count": 8,
     "metadata": {},
     "output_type": "execute_result"
    }
   ],
   "source": [
    "df['Alerts/Warnings'].unique()"
   ]
  },
  {
   "cell_type": "code",
   "execution_count": 9,
   "id": "263603c6-f181-4c2f-b211-396b2b826672",
   "metadata": {},
   "outputs": [
    {
     "data": {
      "text/plain": [
       "array([nan, 'Alert Data'], dtype=object)"
      ]
     },
     "execution_count": 9,
     "metadata": {},
     "output_type": "execute_result"
    }
   ],
   "source": [
    "df['IDS/IPS Alerts'].unique()"
   ]
  },
  {
   "cell_type": "code",
   "execution_count": 10,
   "id": "22461263-90f5-47dc-a44e-2b8fdd4a41eb",
   "metadata": {},
   "outputs": [],
   "source": [
    "df['IDS/IPS Alerts'] = df['IDS/IPS Alerts'].apply(lambda x: 'No Data' if pd.isna(x) else x)"
   ]
  },
  {
   "cell_type": "code",
   "execution_count": 11,
   "id": "9e885961-e031-4fe8-a49f-915d0332db6d",
   "metadata": {},
   "outputs": [
    {
     "data": {
      "text/plain": [
       "array(['No Data', 'Alert Data'], dtype=object)"
      ]
     },
     "execution_count": 11,
     "metadata": {},
     "output_type": "execute_result"
    }
   ],
   "source": [
    "# checking\n",
    "df['IDS/IPS Alerts'].unique()"
   ]
  },
  {
   "cell_type": "code",
   "execution_count": 12,
   "id": "87df02f1-c2b1-4e56-a89a-cdeb564f39d8",
   "metadata": {},
   "outputs": [
    {
     "name": "stdout",
     "output_type": "stream",
     "text": [
      "['IoC Detected' nan]\n",
      "['150.9.97.135' nan '114.133.48.179' ... '60.51.30.46' '137.76.130.8'\n",
      " '112.169.115.139']\n",
      "['Log Data' nan]\n"
     ]
    }
   ],
   "source": [
    "# checking for unique values in each column\n",
    "print(df['Malware Indicators'].unique())\n",
    "print(df['Proxy Information'].unique())\n",
    "print(df['Firewall Logs'].unique())"
   ]
  },
  {
   "cell_type": "code",
   "execution_count": 13,
   "id": "ad8d303f-bb59-46ed-acd0-c53800b2550a",
   "metadata": {},
   "outputs": [],
   "source": [
    "df['Malware Indicators'] = df['Malware Indicators'].apply(lambda x: 'Not Detected' if pd.isna(x) else x) # imputing missing in malware indicators\n",
    "df['Proxy Information'] = df['Proxy Information'].apply(lambda x: 'No Proxy' if pd.isna(x) else x) # imputing missing in proxy info\n",
    "df['Firewall Logs'] = df['Firewall Logs'].apply(lambda x: 'No Logs' if pd.isna(x) else x) # imputing missing in Firewall logs"
   ]
  },
  {
   "cell_type": "code",
   "execution_count": 14,
   "id": "954aa162-b402-4eb6-b0f3-24eca4e8fb26",
   "metadata": {},
   "outputs": [
    {
     "data": {
      "text/plain": [
       "Timestamp                 0\n",
       "Source IP Address         0\n",
       "Destination IP Address    0\n",
       "Source Port               0\n",
       "Destination Port          0\n",
       "Protocol                  0\n",
       "Packet Length             0\n",
       "Packet Type               0\n",
       "Traffic Type              0\n",
       "Payload Data              0\n",
       "Malware Indicators        0\n",
       "Anomaly Scores            0\n",
       "Alerts/Warnings           0\n",
       "Attack Type               0\n",
       "Attack Signature          0\n",
       "Action Taken              0\n",
       "Severity Level            0\n",
       "User Information          0\n",
       "Device Information        0\n",
       "Network Segment           0\n",
       "Geo-location Data         0\n",
       "Proxy Information         0\n",
       "Firewall Logs             0\n",
       "IDS/IPS Alerts            0\n",
       "Log Source                0\n",
       "dtype: int64"
      ]
     },
     "execution_count": 14,
     "metadata": {},
     "output_type": "execute_result"
    }
   ],
   "source": [
    "df.isnull().sum() # checking for all the nan values if there any"
   ]
  },
  {
   "cell_type": "code",
   "execution_count": 15,
   "id": "1c1b3113-930c-4772-8c32-d173662414ee",
   "metadata": {},
   "outputs": [
    {
     "data": {
      "text/plain": [
       "0"
      ]
     },
     "execution_count": 15,
     "metadata": {},
     "output_type": "execute_result"
    }
   ],
   "source": [
    "# checking for duplicates\n",
    "df.duplicated().sum()"
   ]
  },
  {
   "cell_type": "code",
   "execution_count": 16,
   "id": "6702b850-9039-4909-8eb1-9d559d661836",
   "metadata": {},
   "outputs": [
    {
     "data": {
      "text/plain": [
       "array(['Mozilla/5.0 (compatible; MSIE 8.0; Windows NT 6.2; Trident/5.0)',\n",
       "       'Mozilla/5.0 (compatible; MSIE 8.0; Windows NT 6.0; Trident/4.0)',\n",
       "       'Mozilla/5.0 (compatible; MSIE 9.0; Windows NT 6.2; Trident/5.0)',\n",
       "       ...,\n",
       "       'Mozilla/5.0 (Windows; U; Windows NT 4.0) AppleWebKit/533.2.3 (KHTML, like Gecko) Version/4.0.3 Safari/533.2.3',\n",
       "       'Mozilla/5.0 (X11; Linux i686) AppleWebKit/536.2 (KHTML, like Gecko) Chrome/15.0.852.0 Safari/536.2',\n",
       "       'Mozilla/5.0 (iPod; U; CPU iPhone OS 3_0 like Mac OS X; tg-TJ) AppleWebKit/534.33.5 (KHTML, like Gecko) Version/4.0.5 Mobile/8B116 Safari/6534.33.5'],\n",
       "      dtype=object)"
      ]
     },
     "execution_count": 16,
     "metadata": {},
     "output_type": "execute_result"
    }
   ],
   "source": [
    "df['Device Information'].unique()"
   ]
  },
  {
   "cell_type": "code",
   "execution_count": 17,
   "id": "21aea7ea-c3c5-4863-a24a-a7e506c31913",
   "metadata": {},
   "outputs": [
    {
     "data": {
      "text/plain": [
       "32104"
      ]
     },
     "execution_count": 17,
     "metadata": {},
     "output_type": "execute_result"
    }
   ],
   "source": [
    "df['Device Information'].nunique()"
   ]
  },
  {
   "cell_type": "code",
   "execution_count": 18,
   "id": "2878bea5-098e-4880-b20c-375c30c72293",
   "metadata": {},
   "outputs": [],
   "source": [
    "import re\n",
    "patterns = [r'Windows',r'Linux',r'Android',r'iPad',r'iPod',r'iPhone',r'Macintosh',]\n",
    "\n",
    "def extract_os_info(user_agent_info):\n",
    "    for pattern in patterns:\n",
    "        match = re.search(pattern, user_agent_info, re.I) # re.I makes the search case Insensisitive\n",
    "        if match:\n",
    "            return match.group()\n",
    "    return 'Unknown'"
   ]
  },
  {
   "cell_type": "code",
   "execution_count": 19,
   "id": "e0577053-45da-4ce2-bc1d-caae90304f02",
   "metadata": {},
   "outputs": [],
   "source": [
    "df['Device/OS'] = df['Device Information'].apply(extract_os_info)"
   ]
  },
  {
   "cell_type": "code",
   "execution_count": 20,
   "id": "4c9e0275-ee3b-4740-9b0c-f2896b8aca80",
   "metadata": {},
   "outputs": [
    {
     "data": {
      "text/html": [
       "<div>\n",
       "<style scoped>\n",
       "    .dataframe tbody tr th:only-of-type {\n",
       "        vertical-align: middle;\n",
       "    }\n",
       "\n",
       "    .dataframe tbody tr th {\n",
       "        vertical-align: top;\n",
       "    }\n",
       "\n",
       "    .dataframe thead th {\n",
       "        text-align: right;\n",
       "    }\n",
       "</style>\n",
       "<table border=\"1\" class=\"dataframe\">\n",
       "  <thead>\n",
       "    <tr style=\"text-align: right;\">\n",
       "      <th></th>\n",
       "      <th>Timestamp</th>\n",
       "      <th>Source IP Address</th>\n",
       "      <th>Destination IP Address</th>\n",
       "      <th>Source Port</th>\n",
       "      <th>Destination Port</th>\n",
       "      <th>Protocol</th>\n",
       "      <th>Packet Length</th>\n",
       "      <th>Packet Type</th>\n",
       "      <th>Traffic Type</th>\n",
       "      <th>Payload Data</th>\n",
       "      <th>...</th>\n",
       "      <th>Action Taken</th>\n",
       "      <th>Severity Level</th>\n",
       "      <th>User Information</th>\n",
       "      <th>Network Segment</th>\n",
       "      <th>Geo-location Data</th>\n",
       "      <th>Proxy Information</th>\n",
       "      <th>Firewall Logs</th>\n",
       "      <th>IDS/IPS Alerts</th>\n",
       "      <th>Log Source</th>\n",
       "      <th>Device/OS</th>\n",
       "    </tr>\n",
       "  </thead>\n",
       "  <tbody>\n",
       "    <tr>\n",
       "      <th>0</th>\n",
       "      <td>2023-05-30 06:33:58</td>\n",
       "      <td>103.216.15.12</td>\n",
       "      <td>84.9.164.252</td>\n",
       "      <td>31225</td>\n",
       "      <td>17616</td>\n",
       "      <td>ICMP</td>\n",
       "      <td>503</td>\n",
       "      <td>Data</td>\n",
       "      <td>HTTP</td>\n",
       "      <td>Qui natus odio asperiores nam. Optio nobis ius...</td>\n",
       "      <td>...</td>\n",
       "      <td>Logged</td>\n",
       "      <td>Low</td>\n",
       "      <td>Reyansh Dugal</td>\n",
       "      <td>Segment A</td>\n",
       "      <td>Jamshedpur, Sikkim</td>\n",
       "      <td>150.9.97.135</td>\n",
       "      <td>Log Data</td>\n",
       "      <td>No Data</td>\n",
       "      <td>Server</td>\n",
       "      <td>Windows</td>\n",
       "    </tr>\n",
       "    <tr>\n",
       "      <th>1</th>\n",
       "      <td>2020-08-26 07:08:30</td>\n",
       "      <td>78.199.217.198</td>\n",
       "      <td>66.191.137.154</td>\n",
       "      <td>17245</td>\n",
       "      <td>48166</td>\n",
       "      <td>ICMP</td>\n",
       "      <td>1174</td>\n",
       "      <td>Data</td>\n",
       "      <td>HTTP</td>\n",
       "      <td>Aperiam quos modi officiis veritatis rem. Omni...</td>\n",
       "      <td>...</td>\n",
       "      <td>Blocked</td>\n",
       "      <td>Low</td>\n",
       "      <td>Sumer Rana</td>\n",
       "      <td>Segment B</td>\n",
       "      <td>Bilaspur, Nagaland</td>\n",
       "      <td>No Proxy</td>\n",
       "      <td>Log Data</td>\n",
       "      <td>No Data</td>\n",
       "      <td>Firewall</td>\n",
       "      <td>Windows</td>\n",
       "    </tr>\n",
       "    <tr>\n",
       "      <th>2</th>\n",
       "      <td>2022-11-13 08:23:25</td>\n",
       "      <td>63.79.210.48</td>\n",
       "      <td>198.219.82.17</td>\n",
       "      <td>16811</td>\n",
       "      <td>53600</td>\n",
       "      <td>UDP</td>\n",
       "      <td>306</td>\n",
       "      <td>Control</td>\n",
       "      <td>HTTP</td>\n",
       "      <td>Perferendis sapiente vitae soluta. Hic delectu...</td>\n",
       "      <td>...</td>\n",
       "      <td>Ignored</td>\n",
       "      <td>Low</td>\n",
       "      <td>Himmat Karpe</td>\n",
       "      <td>Segment C</td>\n",
       "      <td>Bokaro, Rajasthan</td>\n",
       "      <td>114.133.48.179</td>\n",
       "      <td>Log Data</td>\n",
       "      <td>Alert Data</td>\n",
       "      <td>Firewall</td>\n",
       "      <td>Windows</td>\n",
       "    </tr>\n",
       "    <tr>\n",
       "      <th>3</th>\n",
       "      <td>2023-07-02 10:38:46</td>\n",
       "      <td>163.42.196.10</td>\n",
       "      <td>101.228.192.255</td>\n",
       "      <td>20018</td>\n",
       "      <td>32534</td>\n",
       "      <td>UDP</td>\n",
       "      <td>385</td>\n",
       "      <td>Data</td>\n",
       "      <td>HTTP</td>\n",
       "      <td>Totam maxime beatae expedita explicabo porro l...</td>\n",
       "      <td>...</td>\n",
       "      <td>Blocked</td>\n",
       "      <td>Medium</td>\n",
       "      <td>Fateh Kibe</td>\n",
       "      <td>Segment B</td>\n",
       "      <td>Jaunpur, Rajasthan</td>\n",
       "      <td>No Proxy</td>\n",
       "      <td>No Logs</td>\n",
       "      <td>Alert Data</td>\n",
       "      <td>Firewall</td>\n",
       "      <td>Macintosh</td>\n",
       "    </tr>\n",
       "    <tr>\n",
       "      <th>4</th>\n",
       "      <td>2023-07-16 13:11:07</td>\n",
       "      <td>71.166.185.76</td>\n",
       "      <td>189.243.174.238</td>\n",
       "      <td>6131</td>\n",
       "      <td>26646</td>\n",
       "      <td>TCP</td>\n",
       "      <td>1462</td>\n",
       "      <td>Data</td>\n",
       "      <td>DNS</td>\n",
       "      <td>Odit nesciunt dolorem nisi iste iusto. Animi v...</td>\n",
       "      <td>...</td>\n",
       "      <td>Blocked</td>\n",
       "      <td>Low</td>\n",
       "      <td>Dhanush Chad</td>\n",
       "      <td>Segment C</td>\n",
       "      <td>Anantapur, Tripura</td>\n",
       "      <td>149.6.110.119</td>\n",
       "      <td>No Logs</td>\n",
       "      <td>Alert Data</td>\n",
       "      <td>Firewall</td>\n",
       "      <td>Windows</td>\n",
       "    </tr>\n",
       "    <tr>\n",
       "      <th>...</th>\n",
       "      <td>...</td>\n",
       "      <td>...</td>\n",
       "      <td>...</td>\n",
       "      <td>...</td>\n",
       "      <td>...</td>\n",
       "      <td>...</td>\n",
       "      <td>...</td>\n",
       "      <td>...</td>\n",
       "      <td>...</td>\n",
       "      <td>...</td>\n",
       "      <td>...</td>\n",
       "      <td>...</td>\n",
       "      <td>...</td>\n",
       "      <td>...</td>\n",
       "      <td>...</td>\n",
       "      <td>...</td>\n",
       "      <td>...</td>\n",
       "      <td>...</td>\n",
       "      <td>...</td>\n",
       "      <td>...</td>\n",
       "      <td>...</td>\n",
       "    </tr>\n",
       "    <tr>\n",
       "      <th>39995</th>\n",
       "      <td>2023-05-26 14:08:42</td>\n",
       "      <td>26.36.109.26</td>\n",
       "      <td>121.100.75.240</td>\n",
       "      <td>31005</td>\n",
       "      <td>6764</td>\n",
       "      <td>UDP</td>\n",
       "      <td>1428</td>\n",
       "      <td>Control</td>\n",
       "      <td>HTTP</td>\n",
       "      <td>Quibusdam ullam consequatur consequuntur accus...</td>\n",
       "      <td>...</td>\n",
       "      <td>Logged</td>\n",
       "      <td>Medium</td>\n",
       "      <td>Adira Madan</td>\n",
       "      <td>Segment A</td>\n",
       "      <td>Nashik, Manipur</td>\n",
       "      <td>No Proxy</td>\n",
       "      <td>Log Data</td>\n",
       "      <td>Alert Data</td>\n",
       "      <td>Firewall</td>\n",
       "      <td>iPad</td>\n",
       "    </tr>\n",
       "    <tr>\n",
       "      <th>39996</th>\n",
       "      <td>2023-03-27 00:38:27</td>\n",
       "      <td>17.21.163.81</td>\n",
       "      <td>196.108.134.78</td>\n",
       "      <td>2553</td>\n",
       "      <td>28091</td>\n",
       "      <td>UDP</td>\n",
       "      <td>1184</td>\n",
       "      <td>Control</td>\n",
       "      <td>HTTP</td>\n",
       "      <td>Quaerat neque esse. Animi expedita natus commo...</td>\n",
       "      <td>...</td>\n",
       "      <td>Logged</td>\n",
       "      <td>High</td>\n",
       "      <td>Rati Dara</td>\n",
       "      <td>Segment C</td>\n",
       "      <td>Vadodara, Mizoram</td>\n",
       "      <td>60.51.30.46</td>\n",
       "      <td>Log Data</td>\n",
       "      <td>No Data</td>\n",
       "      <td>Firewall</td>\n",
       "      <td>Windows</td>\n",
       "    </tr>\n",
       "    <tr>\n",
       "      <th>39997</th>\n",
       "      <td>2022-03-31 01:45:49</td>\n",
       "      <td>162.35.217.57</td>\n",
       "      <td>98.107.0.15</td>\n",
       "      <td>22505</td>\n",
       "      <td>25152</td>\n",
       "      <td>UDP</td>\n",
       "      <td>1043</td>\n",
       "      <td>Data</td>\n",
       "      <td>DNS</td>\n",
       "      <td>Enim at aspernatur illum. Saepe numquam eligen...</td>\n",
       "      <td>...</td>\n",
       "      <td>Blocked</td>\n",
       "      <td>Low</td>\n",
       "      <td>Samiha Joshi</td>\n",
       "      <td>Segment C</td>\n",
       "      <td>Mahbubnagar, Himachal Pradesh</td>\n",
       "      <td>No Proxy</td>\n",
       "      <td>Log Data</td>\n",
       "      <td>Alert Data</td>\n",
       "      <td>Server</td>\n",
       "      <td>Windows</td>\n",
       "    </tr>\n",
       "    <tr>\n",
       "      <th>39998</th>\n",
       "      <td>2023-09-22 18:32:38</td>\n",
       "      <td>208.72.233.205</td>\n",
       "      <td>173.79.112.252</td>\n",
       "      <td>20013</td>\n",
       "      <td>2703</td>\n",
       "      <td>UDP</td>\n",
       "      <td>483</td>\n",
       "      <td>Data</td>\n",
       "      <td>FTP</td>\n",
       "      <td>Officiis dolorem sed harum provident earum dis...</td>\n",
       "      <td>...</td>\n",
       "      <td>Ignored</td>\n",
       "      <td>Low</td>\n",
       "      <td>Rasha Chauhan</td>\n",
       "      <td>Segment B</td>\n",
       "      <td>Rourkela, Arunachal Pradesh</td>\n",
       "      <td>137.76.130.8</td>\n",
       "      <td>Log Data</td>\n",
       "      <td>No Data</td>\n",
       "      <td>Server</td>\n",
       "      <td>Linux</td>\n",
       "    </tr>\n",
       "    <tr>\n",
       "      <th>39999</th>\n",
       "      <td>2023-10-10 11:59:52</td>\n",
       "      <td>14.102.21.108</td>\n",
       "      <td>109.198.45.7</td>\n",
       "      <td>50137</td>\n",
       "      <td>55575</td>\n",
       "      <td>ICMP</td>\n",
       "      <td>1175</td>\n",
       "      <td>Control</td>\n",
       "      <td>HTTP</td>\n",
       "      <td>Eligendi omnis voluptate nihil voluptatibus do...</td>\n",
       "      <td>...</td>\n",
       "      <td>Logged</td>\n",
       "      <td>Medium</td>\n",
       "      <td>Zaina Kumar</td>\n",
       "      <td>Segment A</td>\n",
       "      <td>Pudukkottai, West Bengal</td>\n",
       "      <td>112.169.115.139</td>\n",
       "      <td>Log Data</td>\n",
       "      <td>Alert Data</td>\n",
       "      <td>Firewall</td>\n",
       "      <td>iPod</td>\n",
       "    </tr>\n",
       "  </tbody>\n",
       "</table>\n",
       "<p>40000 rows × 25 columns</p>\n",
       "</div>"
      ],
      "text/plain": [
       "                 Timestamp Source IP Address Destination IP Address  \\\n",
       "0      2023-05-30 06:33:58     103.216.15.12           84.9.164.252   \n",
       "1      2020-08-26 07:08:30    78.199.217.198         66.191.137.154   \n",
       "2      2022-11-13 08:23:25      63.79.210.48          198.219.82.17   \n",
       "3      2023-07-02 10:38:46     163.42.196.10        101.228.192.255   \n",
       "4      2023-07-16 13:11:07     71.166.185.76        189.243.174.238   \n",
       "...                    ...               ...                    ...   \n",
       "39995  2023-05-26 14:08:42      26.36.109.26         121.100.75.240   \n",
       "39996  2023-03-27 00:38:27      17.21.163.81         196.108.134.78   \n",
       "39997  2022-03-31 01:45:49     162.35.217.57            98.107.0.15   \n",
       "39998  2023-09-22 18:32:38    208.72.233.205         173.79.112.252   \n",
       "39999  2023-10-10 11:59:52     14.102.21.108           109.198.45.7   \n",
       "\n",
       "       Source Port  Destination Port Protocol  Packet Length Packet Type  \\\n",
       "0            31225             17616     ICMP            503        Data   \n",
       "1            17245             48166     ICMP           1174        Data   \n",
       "2            16811             53600      UDP            306     Control   \n",
       "3            20018             32534      UDP            385        Data   \n",
       "4             6131             26646      TCP           1462        Data   \n",
       "...            ...               ...      ...            ...         ...   \n",
       "39995        31005              6764      UDP           1428     Control   \n",
       "39996         2553             28091      UDP           1184     Control   \n",
       "39997        22505             25152      UDP           1043        Data   \n",
       "39998        20013              2703      UDP            483        Data   \n",
       "39999        50137             55575     ICMP           1175     Control   \n",
       "\n",
       "      Traffic Type                                       Payload Data  ...  \\\n",
       "0             HTTP  Qui natus odio asperiores nam. Optio nobis ius...  ...   \n",
       "1             HTTP  Aperiam quos modi officiis veritatis rem. Omni...  ...   \n",
       "2             HTTP  Perferendis sapiente vitae soluta. Hic delectu...  ...   \n",
       "3             HTTP  Totam maxime beatae expedita explicabo porro l...  ...   \n",
       "4              DNS  Odit nesciunt dolorem nisi iste iusto. Animi v...  ...   \n",
       "...            ...                                                ...  ...   \n",
       "39995         HTTP  Quibusdam ullam consequatur consequuntur accus...  ...   \n",
       "39996         HTTP  Quaerat neque esse. Animi expedita natus commo...  ...   \n",
       "39997          DNS  Enim at aspernatur illum. Saepe numquam eligen...  ...   \n",
       "39998          FTP  Officiis dolorem sed harum provident earum dis...  ...   \n",
       "39999         HTTP  Eligendi omnis voluptate nihil voluptatibus do...  ...   \n",
       "\n",
       "      Action Taken  Severity Level User Information Network Segment  \\\n",
       "0           Logged             Low    Reyansh Dugal       Segment A   \n",
       "1          Blocked             Low       Sumer Rana       Segment B   \n",
       "2          Ignored             Low     Himmat Karpe       Segment C   \n",
       "3          Blocked          Medium       Fateh Kibe       Segment B   \n",
       "4          Blocked             Low     Dhanush Chad       Segment C   \n",
       "...            ...             ...              ...             ...   \n",
       "39995       Logged          Medium      Adira Madan       Segment A   \n",
       "39996       Logged            High        Rati Dara       Segment C   \n",
       "39997      Blocked             Low     Samiha Joshi       Segment C   \n",
       "39998      Ignored             Low    Rasha Chauhan       Segment B   \n",
       "39999       Logged          Medium      Zaina Kumar       Segment A   \n",
       "\n",
       "                   Geo-location Data Proxy Information Firewall Logs  \\\n",
       "0                 Jamshedpur, Sikkim      150.9.97.135      Log Data   \n",
       "1                 Bilaspur, Nagaland          No Proxy      Log Data   \n",
       "2                  Bokaro, Rajasthan    114.133.48.179      Log Data   \n",
       "3                 Jaunpur, Rajasthan          No Proxy       No Logs   \n",
       "4                 Anantapur, Tripura     149.6.110.119       No Logs   \n",
       "...                              ...               ...           ...   \n",
       "39995                Nashik, Manipur          No Proxy      Log Data   \n",
       "39996              Vadodara, Mizoram       60.51.30.46      Log Data   \n",
       "39997  Mahbubnagar, Himachal Pradesh          No Proxy      Log Data   \n",
       "39998    Rourkela, Arunachal Pradesh      137.76.130.8      Log Data   \n",
       "39999       Pudukkottai, West Bengal   112.169.115.139      Log Data   \n",
       "\n",
       "      IDS/IPS Alerts Log Source  Device/OS  \n",
       "0            No Data     Server    Windows  \n",
       "1            No Data   Firewall    Windows  \n",
       "2         Alert Data   Firewall    Windows  \n",
       "3         Alert Data   Firewall  Macintosh  \n",
       "4         Alert Data   Firewall    Windows  \n",
       "...              ...        ...        ...  \n",
       "39995     Alert Data   Firewall       iPad  \n",
       "39996        No Data   Firewall    Windows  \n",
       "39997     Alert Data     Server    Windows  \n",
       "39998        No Data     Server      Linux  \n",
       "39999     Alert Data   Firewall       iPod  \n",
       "\n",
       "[40000 rows x 25 columns]"
      ]
     },
     "execution_count": 20,
     "metadata": {},
     "output_type": "execute_result"
    }
   ],
   "source": [
    "df.drop('Device Information', axis=1) # removing not needed column"
   ]
  },
  {
   "cell_type": "code",
   "execution_count": 21,
   "id": "3d9e8a52-c7b1-4e9e-b766-79dd801c3f78",
   "metadata": {},
   "outputs": [],
   "source": [
    "# Group by 'Device/OS' and count the number of attacks\n",
    "device_counts = df['Device/OS'].value_counts()"
   ]
  },
  {
   "cell_type": "code",
   "execution_count": 22,
   "id": "f7c86205-102c-4ba5-b8d0-e79e1e3fd587",
   "metadata": {},
   "outputs": [
    {
     "data": {
      "text/plain": [
       "Device/OS\n",
       "Windows      17953\n",
       "Linux         8840\n",
       "Macintosh     5813\n",
       "iPod          2656\n",
       "Android       1620\n",
       "iPhone        1567\n",
       "iPad          1551\n",
       "Name: count, dtype: int64"
      ]
     },
     "execution_count": 22,
     "metadata": {},
     "output_type": "execute_result"
    }
   ],
   "source": [
    "device_counts"
   ]
  },
  {
   "cell_type": "code",
   "execution_count": 23,
   "id": "f8763163-7d6c-4d62-935a-4bc8aeefb6aa",
   "metadata": {},
   "outputs": [
    {
     "data": {
      "image/png": "[encoded data removed]",
      "text/plain": [
       "<Figure size 640x480 with 1 Axes>"
      ]
     },
     "metadata": {},
     "output_type": "display_data"
    }
   ],
   "source": [
    "device_counts.plot(kind='bar', color='purple')\n",
    "plt.xlabel(\"Device/OS\")\n",
    "plt.ylabel(\"Count\")\n",
    "plt.title(\"Attacks on Device/OS\")\n",
    "plt.xticks(rotation=45)\n",
    "plt.show()"
   ]
  },
  {
   "cell_type": "code",
   "execution_count": 24,
   "id": "8fa3d748-3cf7-4c2c-a2e0-16b96cfdc25c",
   "metadata": {},
   "outputs": [
    {
     "name": "stdout",
     "output_type": "stream",
     "text": [
      "['Low' 'Medium' 'High']\n",
      "['Malware' 'DDoS' 'Intrusion']\n"
     ]
    }
   ],
   "source": [
    "print(df['Severity Level'].unique())\n",
    "print(df['Attack Type'].unique())"
   ]
  },
  {
   "cell_type": "code",
   "execution_count": 25,
   "id": "dc55ac97-e8f7-4fb7-812f-97646a481edc",
   "metadata": {},
   "outputs": [
    {
     "data": {
      "image/png": "[encoded data removed]",
      "text/plain": [
       "<Figure size 640x480 with 1 Axes>"
      ]
     },
     "metadata": {},
     "output_type": "display_data"
    }
   ],
   "source": [
    "# Visualizing how severe it is according to Attack Type\n",
    "sns.countplot(data=df, x=\"Attack Type\", hue='Severity Level', palette='coolwarm')\n",
    "plt.title('Severity by Attack Type')\n",
    "plt.xlabel('Attack Type')\n",
    "plt.xticks(rotation=45, ha='right')\n",
    "plt.show()"
   ]
  },
  {
   "cell_type": "code",
   "execution_count": 26,
   "id": "0e99960e-dbd5-408f-a8eb-670fc90c54a1",
   "metadata": {},
   "outputs": [
    {
     "data": {
      "text/html": [
       "<div>\n",
       "<style scoped>\n",
       "    .dataframe tbody tr th:only-of-type {\n",
       "        vertical-align: middle;\n",
       "    }\n",
       "\n",
       "    .dataframe tbody tr th {\n",
       "        vertical-align: top;\n",
       "    }\n",
       "\n",
       "    .dataframe thead th {\n",
       "        text-align: right;\n",
       "    }\n",
       "</style>\n",
       "<table border=\"1\" class=\"dataframe\">\n",
       "  <thead>\n",
       "    <tr style=\"text-align: right;\">\n",
       "      <th></th>\n",
       "      <th>Attack Type</th>\n",
       "      <th>count</th>\n",
       "    </tr>\n",
       "  </thead>\n",
       "  <tbody>\n",
       "    <tr>\n",
       "      <th>0</th>\n",
       "      <td>DDoS</td>\n",
       "      <td>13428</td>\n",
       "    </tr>\n",
       "    <tr>\n",
       "      <th>1</th>\n",
       "      <td>Malware</td>\n",
       "      <td>13307</td>\n",
       "    </tr>\n",
       "    <tr>\n",
       "      <th>2</th>\n",
       "      <td>Intrusion</td>\n",
       "      <td>13265</td>\n",
       "    </tr>\n",
       "  </tbody>\n",
       "</table>\n",
       "</div>"
      ],
      "text/plain": [
       "  Attack Type  count\n",
       "0        DDoS  13428\n",
       "1     Malware  13307\n",
       "2   Intrusion  13265"
      ]
     },
     "execution_count": 26,
     "metadata": {},
     "output_type": "execute_result"
    }
   ],
   "source": [
    "count_of_attacks = df['Attack Type'].value_counts().reset_index()\n",
    "count_of_attacks"
   ]
  },
  {
   "cell_type": "code",
   "execution_count": 27,
   "id": "f7fbbc46-8d7a-4a53-a2fc-b0c1578dfcd7",
   "metadata": {},
   "outputs": [
    {
     "data": {
      "image/png": "[encoded data removed]",
      "text/plain": [
       "<Figure size 640x480 with 1 Axes>"
      ]
     },
     "metadata": {},
     "output_type": "display_data"
    }
   ],
   "source": [
    "# Plotting the top attack types\n",
    "sns.barplot(x='count', y='Attack Type', hue='Attack Type', data=count_of_attacks, palette='viridis', dodge=False)\n",
    "plt.xlabel('Count of Attacks')\n",
    "plt.ylabel('Attack Type')\n",
    "plt.title('Most Common Attack Types')\n",
    "plt.tight_layout()\n",
    "plt.show()"
   ]
  },
  {
   "cell_type": "code",
   "execution_count": 29,
   "id": "9bdc6b58-aa09-4609-9981-44699b4864ad",
   "metadata": {},
   "outputs": [
    {
     "data": {
      "text/html": [
       "<div>\n",
       "<style scoped>\n",
       "    .dataframe tbody tr th:only-of-type {\n",
       "        vertical-align: middle;\n",
       "    }\n",
       "\n",
       "    .dataframe tbody tr th {\n",
       "        vertical-align: top;\n",
       "    }\n",
       "\n",
       "    .dataframe thead th {\n",
       "        text-align: right;\n",
       "    }\n",
       "</style>\n",
       "<table border=\"1\" class=\"dataframe\">\n",
       "  <thead>\n",
       "    <tr style=\"text-align: right;\">\n",
       "      <th></th>\n",
       "      <th>Geo-location Data</th>\n",
       "      <th>count</th>\n",
       "    </tr>\n",
       "  </thead>\n",
       "  <tbody>\n",
       "    <tr>\n",
       "      <th>0</th>\n",
       "      <td>Ghaziabad, Meghalaya</td>\n",
       "      <td>16</td>\n",
       "    </tr>\n",
       "    <tr>\n",
       "      <th>1</th>\n",
       "      <td>Kalyan-Dombivli, Jharkhand</td>\n",
       "      <td>15</td>\n",
       "    </tr>\n",
       "    <tr>\n",
       "      <th>2</th>\n",
       "      <td>Ghaziabad, Uttarakhand</td>\n",
       "      <td>14</td>\n",
       "    </tr>\n",
       "    <tr>\n",
       "      <th>3</th>\n",
       "      <td>Ghaziabad, Tripura</td>\n",
       "      <td>14</td>\n",
       "    </tr>\n",
       "    <tr>\n",
       "      <th>4</th>\n",
       "      <td>Kottayam, Nagaland</td>\n",
       "      <td>13</td>\n",
       "    </tr>\n",
       "    <tr>\n",
       "      <th>5</th>\n",
       "      <td>Srikakulam, Uttarakhand</td>\n",
       "      <td>13</td>\n",
       "    </tr>\n",
       "    <tr>\n",
       "      <th>6</th>\n",
       "      <td>Aurangabad, Nagaland</td>\n",
       "      <td>13</td>\n",
       "    </tr>\n",
       "    <tr>\n",
       "      <th>7</th>\n",
       "      <td>Yamunanagar, Arunachal Pradesh</td>\n",
       "      <td>13</td>\n",
       "    </tr>\n",
       "    <tr>\n",
       "      <th>8</th>\n",
       "      <td>Motihari, Odisha</td>\n",
       "      <td>13</td>\n",
       "    </tr>\n",
       "    <tr>\n",
       "      <th>9</th>\n",
       "      <td>Amroha, Sikkim</td>\n",
       "      <td>13</td>\n",
       "    </tr>\n",
       "  </tbody>\n",
       "</table>\n",
       "</div>"
      ],
      "text/plain": [
       "                Geo-location Data  count\n",
       "0            Ghaziabad, Meghalaya     16\n",
       "1      Kalyan-Dombivli, Jharkhand     15\n",
       "2          Ghaziabad, Uttarakhand     14\n",
       "3              Ghaziabad, Tripura     14\n",
       "4              Kottayam, Nagaland     13\n",
       "5         Srikakulam, Uttarakhand     13\n",
       "6            Aurangabad, Nagaland     13\n",
       "7  Yamunanagar, Arunachal Pradesh     13\n",
       "8                Motihari, Odisha     13\n",
       "9                  Amroha, Sikkim     13"
      ]
     },
     "execution_count": 29,
     "metadata": {},
     "output_type": "execute_result"
    }
   ],
   "source": [
    "# top ten source of attacks by geography\n",
    "top_ten_df = df['Geo-location Data'].value_counts()\n",
    "geo_top_ten = pd.DataFrame(top_ten_df).reset_index()\n",
    "geo_top_ten.head(10)"
   ]
  },
  {
   "cell_type": "code",
   "execution_count": 34,
   "id": "664cf5b6-6729-4eef-a170-ec233ca4888c",
   "metadata": {},
   "outputs": [
    {
     "data": {
      "image/png": "[encoded data removed]",
      "text/plain": [
       "<Figure size 1000x600 with 1 Axes>"
      ]
     },
     "metadata": {},
     "output_type": "display_data"
    }
   ],
   "source": [
    "plt.figure(figsize=(10,6))\n",
    "sns.barplot(data=geo_top_ten.head(10), x='Geo-location Data', y='count',hue='Geo-location Data', palette='viridis')\n",
    "plt.title('Top 10 Source of Attacks by Geography')\n",
    "plt.xticks(rotation=45)\n",
    "plt.xlabel('Geo-location Data')\n",
    "plt.ylabel('Count')\n",
    "plt.show()"
   ]
  },
  {
   "cell_type": "code",
   "execution_count": 42,
   "id": "9b72b0a1-6479-451c-802d-c376771ab195",
   "metadata": {},
   "outputs": [
    {
     "data": {
      "text/html": [
       "<div>\n",
       "<style scoped>\n",
       "    .dataframe tbody tr th:only-of-type {\n",
       "        vertical-align: middle;\n",
       "    }\n",
       "\n",
       "    .dataframe tbody tr th {\n",
       "        vertical-align: top;\n",
       "    }\n",
       "\n",
       "    .dataframe thead th {\n",
       "        text-align: right;\n",
       "    }\n",
       "</style>\n",
       "<table border=\"1\" class=\"dataframe\">\n",
       "  <thead>\n",
       "    <tr style=\"text-align: right;\">\n",
       "      <th></th>\n",
       "      <th>Destination Port</th>\n",
       "      <th>count</th>\n",
       "    </tr>\n",
       "  </thead>\n",
       "  <tbody>\n",
       "    <tr>\n",
       "      <th>0</th>\n",
       "      <td>34117</td>\n",
       "      <td>6</td>\n",
       "    </tr>\n",
       "    <tr>\n",
       "      <th>1</th>\n",
       "      <td>7508</td>\n",
       "      <td>6</td>\n",
       "    </tr>\n",
       "    <tr>\n",
       "      <th>2</th>\n",
       "      <td>30804</td>\n",
       "      <td>5</td>\n",
       "    </tr>\n",
       "    <tr>\n",
       "      <th>3</th>\n",
       "      <td>37248</td>\n",
       "      <td>5</td>\n",
       "    </tr>\n",
       "    <tr>\n",
       "      <th>4</th>\n",
       "      <td>57508</td>\n",
       "      <td>5</td>\n",
       "    </tr>\n",
       "    <tr>\n",
       "      <th>5</th>\n",
       "      <td>56672</td>\n",
       "      <td>5</td>\n",
       "    </tr>\n",
       "    <tr>\n",
       "      <th>6</th>\n",
       "      <td>38787</td>\n",
       "      <td>5</td>\n",
       "    </tr>\n",
       "    <tr>\n",
       "      <th>7</th>\n",
       "      <td>36756</td>\n",
       "      <td>5</td>\n",
       "    </tr>\n",
       "    <tr>\n",
       "      <th>8</th>\n",
       "      <td>25889</td>\n",
       "      <td>5</td>\n",
       "    </tr>\n",
       "    <tr>\n",
       "      <th>9</th>\n",
       "      <td>39887</td>\n",
       "      <td>5</td>\n",
       "    </tr>\n",
       "  </tbody>\n",
       "</table>\n",
       "</div>"
      ],
      "text/plain": [
       "   Destination Port  count\n",
       "0             34117      6\n",
       "1              7508      6\n",
       "2             30804      5\n",
       "3             37248      5\n",
       "4             57508      5\n",
       "5             56672      5\n",
       "6             38787      5\n",
       "7             36756      5\n",
       "8             25889      5\n",
       "9             39887      5"
      ]
     },
     "execution_count": 42,
     "metadata": {},
     "output_type": "execute_result"
    }
   ],
   "source": [
    "# calculating attacks on ports\n",
    "top_ports = df['Destination Port'].value_counts()\n",
    "top_ports = pd.DataFrame(top_ports).reset_index().head(10)\n",
    "top_ports.columns = ['Destination Port', 'count']\n",
    "top_ports"
   ]
  },
  {
   "cell_type": "code",
   "execution_count": 43,
   "id": "9ab9185e",
   "metadata": {},
   "outputs": [
    {
     "data": {
      "image/png": "[encoded data removed]",
      "text/plain": [
       "<Figure size 1000x600 with 1 Axes>"
      ]
     },
     "metadata": {},
     "output_type": "display_data"
    }
   ],
   "source": [
    "# Plotting the top destination ports\n",
    "plt.figure(figsize=(10, 6))\n",
    "sns.barplot(x='Destination Port', y='count', hue='count', data=top_ports, palette='coolwarm', dodge=False)\n",
    "plt.xlabel('Destination Port')\n",
    "plt.ylabel('Count of Attacks')\n",
    "plt.title('Top 10 Most Targeted Destination Ports')\n",
    "plt.tight_layout()\n",
    "plt.show()"
   ]
  },
  {
   "cell_type": "code",
   "execution_count": 48,
   "id": "0403f7e5",
   "metadata": {},
   "outputs": [
    {
     "data": {
      "image/png": "[encoded data removed]",
      "text/plain": [
       "<Figure size 1000x600 with 1 Axes>"
      ]
     },
     "metadata": {},
     "output_type": "display_data"
    }
   ],
   "source": [
    "# plotting protocols by severity level\n",
    "plt.figure(figsize=(10, 6))\n",
    "sns.countplot(data=df, x='Protocol', hue='Severity Level', palette='viridis')\n",
    "plt.title('Protocols by Severity Level')\n",
    "plt.xlabel('Protocol')\n",
    "plt.ylabel('count')\n",
    "plt.show()"
   ]
  },
  {
   "cell_type": "code",
   "execution_count": 51,
   "id": "35c3d61d",
   "metadata": {},
   "outputs": [
    {
     "data": {
      "text/html": [
       "<div>\n",
       "<style scoped>\n",
       "    .dataframe tbody tr th:only-of-type {\n",
       "        vertical-align: middle;\n",
       "    }\n",
       "\n",
       "    .dataframe tbody tr th {\n",
       "        vertical-align: top;\n",
       "    }\n",
       "\n",
       "    .dataframe thead th {\n",
       "        text-align: right;\n",
       "    }\n",
       "</style>\n",
       "<table border=\"1\" class=\"dataframe\">\n",
       "  <thead>\n",
       "    <tr style=\"text-align: right;\">\n",
       "      <th></th>\n",
       "      <th>Month</th>\n",
       "      <th>count</th>\n",
       "    </tr>\n",
       "  </thead>\n",
       "  <tbody>\n",
       "    <tr>\n",
       "      <th>7</th>\n",
       "      <td>1</td>\n",
       "      <td>3378</td>\n",
       "    </tr>\n",
       "    <tr>\n",
       "      <th>8</th>\n",
       "      <td>2</td>\n",
       "      <td>3232</td>\n",
       "    </tr>\n",
       "    <tr>\n",
       "      <th>0</th>\n",
       "      <td>3</td>\n",
       "      <td>3678</td>\n",
       "    </tr>\n",
       "    <tr>\n",
       "      <th>6</th>\n",
       "      <td>4</td>\n",
       "      <td>3421</td>\n",
       "    </tr>\n",
       "    <tr>\n",
       "      <th>4</th>\n",
       "      <td>5</td>\n",
       "      <td>3595</td>\n",
       "    </tr>\n",
       "    <tr>\n",
       "      <th>3</th>\n",
       "      <td>6</td>\n",
       "      <td>3609</td>\n",
       "    </tr>\n",
       "    <tr>\n",
       "      <th>1</th>\n",
       "      <td>7</td>\n",
       "      <td>3623</td>\n",
       "    </tr>\n",
       "    <tr>\n",
       "      <th>2</th>\n",
       "      <td>8</td>\n",
       "      <td>3615</td>\n",
       "    </tr>\n",
       "    <tr>\n",
       "      <th>5</th>\n",
       "      <td>9</td>\n",
       "      <td>3482</td>\n",
       "    </tr>\n",
       "    <tr>\n",
       "      <th>9</th>\n",
       "      <td>10</td>\n",
       "      <td>2989</td>\n",
       "    </tr>\n",
       "    <tr>\n",
       "      <th>10</th>\n",
       "      <td>11</td>\n",
       "      <td>2703</td>\n",
       "    </tr>\n",
       "    <tr>\n",
       "      <th>11</th>\n",
       "      <td>12</td>\n",
       "      <td>2675</td>\n",
       "    </tr>\n",
       "  </tbody>\n",
       "</table>\n",
       "</div>"
      ],
      "text/plain": [
       "    Month  count\n",
       "7       1   3378\n",
       "8       2   3232\n",
       "0       3   3678\n",
       "6       4   3421\n",
       "4       5   3595\n",
       "3       6   3609\n",
       "1       7   3623\n",
       "2       8   3615\n",
       "5       9   3482\n",
       "9      10   2989\n",
       "10     11   2703\n",
       "11     12   2675"
      ]
     },
     "execution_count": 51,
     "metadata": {},
     "output_type": "execute_result"
    }
   ],
   "source": [
    "df['Timestamp'] = pd.to_datetime(df['Timestamp'], errors='coerce')\n",
    "df['Months'] = df['Timestamp'].dt.month\n",
    "\n",
    "month_counts = df['Months'].value_counts()\n",
    "month_counts = pd.DataFrame(month_counts).reset_index()\n",
    "month_counts.columns = ['Month', 'count']\n",
    "sorted_month_counts = month_counts.sort_values(by='Month')\n",
    "sorted_month_counts"
   ]
  },
  {
   "cell_type": "code",
   "execution_count": 58,
   "id": "6e16b40e",
   "metadata": {},
   "outputs": [
    {
     "data": {
      "image/png": "[encoded data removed]",
      "text/plain": [
       "<Figure size 1000x600 with 1 Axes>"
      ]
     },
     "metadata": {},
     "output_type": "display_data"
    }
   ],
   "source": [
    "plt.figure(figsize=(10, 6))\n",
    "sns.lineplot(data=sorted_month_counts, x='Month', y='count', marker='o', color='green')\n",
    "\n",
    "plt.title('Monthly Count Trend')\n",
    "plt.xlabel('Month')\n",
    "plt.ylabel('Count')\n",
    "plt.xticks(ticks=sorted_month_counts['Month'], labels=['Jan', 'Feb', 'Mar', 'Apr', 'May', 'Jun', 'Jul', 'Aug', 'Sep', 'Oct', 'Nov', 'Dec'])\n",
    "plt.tight_layout()\n",
    "plt.show()"
   ]
  },
  {
   "cell_type": "code",
   "execution_count": null,
   "id": "7abcc7a4",
   "metadata": {},
   "outputs": [],
   "source": []
  }
 ],
 "metadata": {
  "kernelspec": {
   "display_name": "Python 3 (ipykernel)",
   "language": "python",
   "name": "python3"
  },
  "language_info": {
   "codemirror_mode": {
    "name": "ipython",
    "version": 3
   },
   "file_extension": ".py",
   "mimetype": "text/x-python",
   "name": "python",
   "nbconvert_exporter": "python",
   "pygments_lexer": "ipython3",
   "version": "3.12.3"
  }
 },
 "nbformat": 4,
 "nbformat_minor": 5
}
